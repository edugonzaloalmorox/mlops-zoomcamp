{
 "cells": [
  {
   "cell_type": "code",
   "execution_count": 1,
   "id": "22da7b6d",
   "metadata": {},
   "outputs": [],
   "source": [
    "import requests\n",
    "import json\n",
    "import pandas as pd\n",
    "import plotly.express as px\n",
    "\n",
    "\n",
    "pd.set_option('display.max_columns', None)\n"
   ]
  },
  {
   "cell_type": "code",
   "execution_count": 2,
   "id": "89033e8d",
   "metadata": {},
   "outputs": [
    {
     "data": {
      "text/html": [
       "<div>\n",
       "<style scoped>\n",
       "    .dataframe tbody tr th:only-of-type {\n",
       "        vertical-align: middle;\n",
       "    }\n",
       "\n",
       "    .dataframe tbody tr th {\n",
       "        vertical-align: top;\n",
       "    }\n",
       "\n",
       "    .dataframe thead th {\n",
       "        text-align: right;\n",
       "    }\n",
       "</style>\n",
       "<table border=\"1\" class=\"dataframe\">\n",
       "  <thead>\n",
       "    <tr style=\"text-align: right;\">\n",
       "      <th></th>\n",
       "      <th>Codigo_Cita</th>\n",
       "      <th>Agrupacion_Oficina_Atencion</th>\n",
       "      <th>Área_Gobierno_Atencion</th>\n",
       "      <th>Canal_Eliminacion</th>\n",
       "      <th>Agrupacion_Canal_Asignacion</th>\n",
       "      <th>Canal_Comunicacion</th>\n",
       "      <th>Cancelada_por_modificacion</th>\n",
       "      <th>Categoria</th>\n",
       "      <th>Codigo_WEM_Atencion</th>\n",
       "      <th>Codigo_distrito_atencion</th>\n",
       "      <th>Competencia_Distrito_Atencion</th>\n",
       "      <th>Recordatorio_Correo</th>\n",
       "      <th>Recordatorio_SMS</th>\n",
       "      <th>Demora</th>\n",
       "      <th>Canal_Asignacion</th>\n",
       "      <th>Entidad_Atencion</th>\n",
       "      <th>Estado_Cita</th>\n",
       "      <th>Fecha_Eliminacion</th>\n",
       "      <th>Fecha_Asignacion</th>\n",
       "      <th>Fecha_Cita</th>\n",
       "      <th>Genero</th>\n",
       "      <th>Distrito_Atencion</th>\n",
       "      <th>Oficina_Atencion</th>\n",
       "      <th>Tipo_Atencion</th>\n",
       "      <th>Tipo_Documento_Identidad</th>\n",
       "      <th>Tramite</th>\n",
       "      <th>FX_CARGA</th>\n",
       "      <th>Agrupacion_Oficina_Solicitud</th>\n",
       "      <th>Codigo_WEM_Solicitud</th>\n",
       "      <th>Distrito_Asignacion</th>\n",
       "      <th>Entidad_Asignacion</th>\n",
       "      <th>Oficina_Asignacion</th>\n",
       "    </tr>\n",
       "  </thead>\n",
       "  <tbody>\n",
       "    <tr>\n",
       "      <th>0</th>\n",
       "      <td>OAC-VICAL/052522793</td>\n",
       "      <td>LINEA MADRID</td>\n",
       "      <td>AG. VICEALCALDÍA, PORTAVOZ, SEGURIDAD Y EMERGE...</td>\n",
       "      <td>Email confirmacion</td>\n",
       "      <td>WEB</td>\n",
       "      <td>Ninguno</td>\n",
       "      <td>No</td>\n",
       "      <td>Padrón y censo</td>\n",
       "      <td>183881</td>\n",
       "      <td>19</td>\n",
       "      <td>0</td>\n",
       "      <td>0</td>\n",
       "      <td>0</td>\n",
       "      <td>1</td>\n",
       "      <td>Internet Web</td>\n",
       "      <td>LINEA MADRID</td>\n",
       "      <td>Cancelada</td>\n",
       "      <td>2025-01-08T22:02:16</td>\n",
       "      <td>2025-01-08T21:24:49</td>\n",
       "      <td>2025-01-09T15:20:00</td>\n",
       "      <td>2</td>\n",
       "      <td>Vicálvaro</td>\n",
       "      <td>OAC Vicálvaro</td>\n",
       "      <td>Presencial</td>\n",
       "      <td>DNI</td>\n",
       "      <td>Altas, bajas y cambio de domicilio en Padrón</td>\n",
       "      <td>2025-05-06T03:40:43</td>\n",
       "      <td>NaN</td>\n",
       "      <td>NaN</td>\n",
       "      <td>NaN</td>\n",
       "      <td>NaN</td>\n",
       "      <td>NaN</td>\n",
       "    </tr>\n",
       "    <tr>\n",
       "      <th>1</th>\n",
       "      <td>OAC-USERA/052516010</td>\n",
       "      <td>LINEA MADRID</td>\n",
       "      <td>AG. VICEALCALDÍA, PORTAVOZ, SEGURIDAD Y EMERGE...</td>\n",
       "      <td>NaN</td>\n",
       "      <td>Telefónico</td>\n",
       "      <td>SMS</td>\n",
       "      <td>No</td>\n",
       "      <td>Urbanismo y Vivienda</td>\n",
       "      <td>181625</td>\n",
       "      <td>12</td>\n",
       "      <td>0</td>\n",
       "      <td>0</td>\n",
       "      <td>0</td>\n",
       "      <td>1</td>\n",
       "      <td>010</td>\n",
       "      <td>LINEA MADRID</td>\n",
       "      <td>Absentismo</td>\n",
       "      <td>NaN</td>\n",
       "      <td>2025-01-08T09:39:29</td>\n",
       "      <td>2025-01-09T11:00:00</td>\n",
       "      <td>2</td>\n",
       "      <td>Usera</td>\n",
       "      <td>OAC Usera</td>\n",
       "      <td>Presencial</td>\n",
       "      <td>DNI</td>\n",
       "      <td>Información urbanística general de las oficina...</td>\n",
       "      <td>2025-05-06T03:40:43</td>\n",
       "      <td>NaN</td>\n",
       "      <td>NaN</td>\n",
       "      <td>NaN</td>\n",
       "      <td>NaN</td>\n",
       "      <td>NaN</td>\n",
       "    </tr>\n",
       "    <tr>\n",
       "      <th>2</th>\n",
       "      <td>OAC-PUENT/052493614</td>\n",
       "      <td>LINEA MADRID</td>\n",
       "      <td>AG. VICEALCALDÍA, PORTAVOZ, SEGURIDAD Y EMERGE...</td>\n",
       "      <td>NaN</td>\n",
       "      <td>WEB</td>\n",
       "      <td>Ninguno</td>\n",
       "      <td>No</td>\n",
       "      <td>Padrón y censo</td>\n",
       "      <td>182199</td>\n",
       "      <td>13</td>\n",
       "      <td>0</td>\n",
       "      <td>1</td>\n",
       "      <td>1</td>\n",
       "      <td>6</td>\n",
       "      <td>Internet Móvil</td>\n",
       "      <td>LINEA MADRID</td>\n",
       "      <td>Atendida</td>\n",
       "      <td>NaN</td>\n",
       "      <td>2025-01-02T23:24:21</td>\n",
       "      <td>2025-01-08T09:10:00</td>\n",
       "      <td>1</td>\n",
       "      <td>Puente de Vallecas</td>\n",
       "      <td>OAC Puente Vallecas</td>\n",
       "      <td>Presencial</td>\n",
       "      <td>Tarjeta Residencia</td>\n",
       "      <td>Altas, bajas y cambio de domicilio en Padrón</td>\n",
       "      <td>2025-05-06T03:40:43</td>\n",
       "      <td>NaN</td>\n",
       "      <td>NaN</td>\n",
       "      <td>NaN</td>\n",
       "      <td>NaN</td>\n",
       "      <td>NaN</td>\n",
       "    </tr>\n",
       "    <tr>\n",
       "      <th>3</th>\n",
       "      <td>OAC-BARAJ/052496327</td>\n",
       "      <td>LINEA MADRID</td>\n",
       "      <td>AG. VICEALCALDÍA, PORTAVOZ, SEGURIDAD Y EMERGE...</td>\n",
       "      <td>NaN</td>\n",
       "      <td>WEB</td>\n",
       "      <td>Ninguno</td>\n",
       "      <td>No</td>\n",
       "      <td>Padrón y censo</td>\n",
       "      <td>180005</td>\n",
       "      <td>21</td>\n",
       "      <td>0</td>\n",
       "      <td>1</td>\n",
       "      <td>1</td>\n",
       "      <td>5</td>\n",
       "      <td>Internet Web</td>\n",
       "      <td>LINEA MADRID</td>\n",
       "      <td>Atendida</td>\n",
       "      <td>NaN</td>\n",
       "      <td>2025-01-03T11:05:06</td>\n",
       "      <td>2025-01-08T09:30:00</td>\n",
       "      <td>3</td>\n",
       "      <td>Barajas</td>\n",
       "      <td>OAC Barajas</td>\n",
       "      <td>Presencial</td>\n",
       "      <td>DNI</td>\n",
       "      <td>Altas, bajas y cambio de domicilio en Padrón</td>\n",
       "      <td>2025-05-06T03:40:43</td>\n",
       "      <td>NaN</td>\n",
       "      <td>NaN</td>\n",
       "      <td>NaN</td>\n",
       "      <td>NaN</td>\n",
       "      <td>NaN</td>\n",
       "    </tr>\n",
       "    <tr>\n",
       "      <th>4</th>\n",
       "      <td>OAC-HORTA/053153875</td>\n",
       "      <td>LINEA MADRID</td>\n",
       "      <td>AG. VICEALCALDÍA, PORTAVOZ, SEGURIDAD Y EMERGE...</td>\n",
       "      <td>NaN</td>\n",
       "      <td>WEB</td>\n",
       "      <td>Ninguno</td>\n",
       "      <td>No</td>\n",
       "      <td>Registro</td>\n",
       "      <td>182794</td>\n",
       "      <td>16</td>\n",
       "      <td>0</td>\n",
       "      <td>1</td>\n",
       "      <td>0</td>\n",
       "      <td>29</td>\n",
       "      <td>Internet Web</td>\n",
       "      <td>LINEA MADRID</td>\n",
       "      <td>Atendida</td>\n",
       "      <td>NaN</td>\n",
       "      <td>2025-03-27T10:27:39</td>\n",
       "      <td>2025-04-25T12:30:00</td>\n",
       "      <td>3</td>\n",
       "      <td>Hortaleza</td>\n",
       "      <td>OAC Hortaleza</td>\n",
       "      <td>Presencial</td>\n",
       "      <td>DNI</td>\n",
       "      <td>Registro</td>\n",
       "      <td>2025-05-06T03:40:43</td>\n",
       "      <td>NaN</td>\n",
       "      <td>NaN</td>\n",
       "      <td>NaN</td>\n",
       "      <td>NaN</td>\n",
       "      <td>NaN</td>\n",
       "    </tr>\n",
       "    <tr>\n",
       "      <th>...</th>\n",
       "      <td>...</td>\n",
       "      <td>...</td>\n",
       "      <td>...</td>\n",
       "      <td>...</td>\n",
       "      <td>...</td>\n",
       "      <td>...</td>\n",
       "      <td>...</td>\n",
       "      <td>...</td>\n",
       "      <td>...</td>\n",
       "      <td>...</td>\n",
       "      <td>...</td>\n",
       "      <td>...</td>\n",
       "      <td>...</td>\n",
       "      <td>...</td>\n",
       "      <td>...</td>\n",
       "      <td>...</td>\n",
       "      <td>...</td>\n",
       "      <td>...</td>\n",
       "      <td>...</td>\n",
       "      <td>...</td>\n",
       "      <td>...</td>\n",
       "      <td>...</td>\n",
       "      <td>...</td>\n",
       "      <td>...</td>\n",
       "      <td>...</td>\n",
       "      <td>...</td>\n",
       "      <td>...</td>\n",
       "      <td>...</td>\n",
       "      <td>...</td>\n",
       "      <td>...</td>\n",
       "      <td>...</td>\n",
       "      <td>...</td>\n",
       "    </tr>\n",
       "    <tr>\n",
       "      <th>995</th>\n",
       "      <td>OAC-SANCH/052510012</td>\n",
       "      <td>LINEA MADRID</td>\n",
       "      <td>AG. VICEALCALDÍA, PORTAVOZ, SEGURIDAD Y EMERGE...</td>\n",
       "      <td>Internet Móvil</td>\n",
       "      <td>WEB</td>\n",
       "      <td>Ninguno</td>\n",
       "      <td>Si</td>\n",
       "      <td>Padrón y censo</td>\n",
       "      <td>190825</td>\n",
       "      <td>16</td>\n",
       "      <td>0</td>\n",
       "      <td>0</td>\n",
       "      <td>0</td>\n",
       "      <td>29</td>\n",
       "      <td>Internet Web</td>\n",
       "      <td>LINEA MADRID</td>\n",
       "      <td>Cancelada</td>\n",
       "      <td>NaN</td>\n",
       "      <td>2025-01-07T12:39:28</td>\n",
       "      <td>2025-02-05T15:10:00</td>\n",
       "      <td>2</td>\n",
       "      <td>Hortaleza</td>\n",
       "      <td>OAC Sanchinarro [Hortaleza]</td>\n",
       "      <td>Presencial</td>\n",
       "      <td>Pasaporte</td>\n",
       "      <td>Renovación o confirmación en Padrón de persona...</td>\n",
       "      <td>2025-05-06T03:40:43</td>\n",
       "      <td>NaN</td>\n",
       "      <td>NaN</td>\n",
       "      <td>NaN</td>\n",
       "      <td>NaN</td>\n",
       "      <td>NaN</td>\n",
       "    </tr>\n",
       "    <tr>\n",
       "      <th>996</th>\n",
       "      <td>OAC-LATIN/052520509</td>\n",
       "      <td>LINEA MADRID</td>\n",
       "      <td>AG. VICEALCALDÍA, PORTAVOZ, SEGURIDAD Y EMERGE...</td>\n",
       "      <td>Email confirmacion</td>\n",
       "      <td>WEB</td>\n",
       "      <td>Ninguno</td>\n",
       "      <td>No</td>\n",
       "      <td>Padrón y censo</td>\n",
       "      <td>181203</td>\n",
       "      <td>10</td>\n",
       "      <td>0</td>\n",
       "      <td>0</td>\n",
       "      <td>0</td>\n",
       "      <td>27</td>\n",
       "      <td>Internet Móvil</td>\n",
       "      <td>LINEA MADRID</td>\n",
       "      <td>Cancelada</td>\n",
       "      <td>2025-01-08T14:39:16</td>\n",
       "      <td>2025-01-08T14:37:21</td>\n",
       "      <td>2025-02-04T08:30:00</td>\n",
       "      <td>1</td>\n",
       "      <td>Latina</td>\n",
       "      <td>OAC Latina</td>\n",
       "      <td>Presencial</td>\n",
       "      <td>DNI</td>\n",
       "      <td>Altas, bajas y cambio de domicilio en Padrón</td>\n",
       "      <td>2025-05-06T03:40:43</td>\n",
       "      <td>NaN</td>\n",
       "      <td>NaN</td>\n",
       "      <td>NaN</td>\n",
       "      <td>NaN</td>\n",
       "      <td>NaN</td>\n",
       "    </tr>\n",
       "    <tr>\n",
       "      <th>997</th>\n",
       "      <td>OAC-SANCH/052460992</td>\n",
       "      <td>LINEA MADRID</td>\n",
       "      <td>AG. VICEALCALDÍA, PORTAVOZ, SEGURIDAD Y EMERGE...</td>\n",
       "      <td>SMS recordatorio</td>\n",
       "      <td>WEB</td>\n",
       "      <td>Ninguno</td>\n",
       "      <td>No</td>\n",
       "      <td>Padrón y censo</td>\n",
       "      <td>190825</td>\n",
       "      <td>16</td>\n",
       "      <td>0</td>\n",
       "      <td>1</td>\n",
       "      <td>1</td>\n",
       "      <td>14</td>\n",
       "      <td>Internet Web</td>\n",
       "      <td>LINEA MADRID</td>\n",
       "      <td>Cancelada</td>\n",
       "      <td>2025-01-08T23:52:13</td>\n",
       "      <td>2024-12-26T12:05:51</td>\n",
       "      <td>2025-01-09T08:40:00</td>\n",
       "      <td>3</td>\n",
       "      <td>Hortaleza</td>\n",
       "      <td>OAC Sanchinarro [Hortaleza]</td>\n",
       "      <td>Presencial</td>\n",
       "      <td>DNI</td>\n",
       "      <td>Altas, bajas y cambio de domicilio en Padrón</td>\n",
       "      <td>2025-05-06T03:40:43</td>\n",
       "      <td>NaN</td>\n",
       "      <td>NaN</td>\n",
       "      <td>NaN</td>\n",
       "      <td>NaN</td>\n",
       "      <td>NaN</td>\n",
       "    </tr>\n",
       "    <tr>\n",
       "      <th>998</th>\n",
       "      <td>OAC-SANBL/052448064</td>\n",
       "      <td>LINEA MADRID</td>\n",
       "      <td>AG. VICEALCALDÍA, PORTAVOZ, SEGURIDAD Y EMERGE...</td>\n",
       "      <td>Internet Web</td>\n",
       "      <td>WEB</td>\n",
       "      <td>Ninguno</td>\n",
       "      <td>No</td>\n",
       "      <td>Padrón y censo</td>\n",
       "      <td>183637</td>\n",
       "      <td>20</td>\n",
       "      <td>0</td>\n",
       "      <td>0</td>\n",
       "      <td>0</td>\n",
       "      <td>29</td>\n",
       "      <td>Internet Web</td>\n",
       "      <td>LINEA MADRID</td>\n",
       "      <td>Cancelada</td>\n",
       "      <td>2025-01-08T13:23:46</td>\n",
       "      <td>2024-12-22T13:32:31</td>\n",
       "      <td>2025-01-20T12:50:00</td>\n",
       "      <td>2</td>\n",
       "      <td>San Blas- Canillejas</td>\n",
       "      <td>OAC San Blas/Canillejas</td>\n",
       "      <td>Presencial</td>\n",
       "      <td>Tarjeta Residencia</td>\n",
       "      <td>Altas, bajas y cambio de domicilio en Padrón</td>\n",
       "      <td>2025-05-06T03:40:43</td>\n",
       "      <td>NaN</td>\n",
       "      <td>NaN</td>\n",
       "      <td>NaN</td>\n",
       "      <td>NaN</td>\n",
       "      <td>NaN</td>\n",
       "    </tr>\n",
       "    <tr>\n",
       "      <th>999</th>\n",
       "      <td>OAC-HORTA/052385986</td>\n",
       "      <td>LINEA MADRID</td>\n",
       "      <td>AG. VICEALCALDÍA, PORTAVOZ, SEGURIDAD Y EMERGE...</td>\n",
       "      <td>NaN</td>\n",
       "      <td>Telefónico</td>\n",
       "      <td>Mail</td>\n",
       "      <td>No</td>\n",
       "      <td>Padrón y censo</td>\n",
       "      <td>182794</td>\n",
       "      <td>16</td>\n",
       "      <td>0</td>\n",
       "      <td>2</td>\n",
       "      <td>0</td>\n",
       "      <td>27</td>\n",
       "      <td>010</td>\n",
       "      <td>LINEA MADRID</td>\n",
       "      <td>Atendida</td>\n",
       "      <td>NaN</td>\n",
       "      <td>2024-12-12T08:38:56</td>\n",
       "      <td>2025-01-08T11:40:00</td>\n",
       "      <td>1</td>\n",
       "      <td>Hortaleza</td>\n",
       "      <td>OAC Hortaleza</td>\n",
       "      <td>Presencial</td>\n",
       "      <td>DNI</td>\n",
       "      <td>Altas, bajas y cambio de domicilio en Padrón</td>\n",
       "      <td>2025-05-06T03:40:43</td>\n",
       "      <td>NaN</td>\n",
       "      <td>NaN</td>\n",
       "      <td>NaN</td>\n",
       "      <td>NaN</td>\n",
       "      <td>NaN</td>\n",
       "    </tr>\n",
       "  </tbody>\n",
       "</table>\n",
       "<p>1000 rows × 32 columns</p>\n",
       "</div>"
      ],
      "text/plain": [
       "             Codigo_Cita Agrupacion_Oficina_Atencion  \\\n",
       "0    OAC-VICAL/052522793                LINEA MADRID   \n",
       "1    OAC-USERA/052516010                LINEA MADRID   \n",
       "2    OAC-PUENT/052493614                LINEA MADRID   \n",
       "3    OAC-BARAJ/052496327                LINEA MADRID   \n",
       "4    OAC-HORTA/053153875                LINEA MADRID   \n",
       "..                   ...                         ...   \n",
       "995  OAC-SANCH/052510012                LINEA MADRID   \n",
       "996  OAC-LATIN/052520509                LINEA MADRID   \n",
       "997  OAC-SANCH/052460992                LINEA MADRID   \n",
       "998  OAC-SANBL/052448064                LINEA MADRID   \n",
       "999  OAC-HORTA/052385986                LINEA MADRID   \n",
       "\n",
       "                                Área_Gobierno_Atencion   Canal_Eliminacion  \\\n",
       "0    AG. VICEALCALDÍA, PORTAVOZ, SEGURIDAD Y EMERGE...  Email confirmacion   \n",
       "1    AG. VICEALCALDÍA, PORTAVOZ, SEGURIDAD Y EMERGE...                 NaN   \n",
       "2    AG. VICEALCALDÍA, PORTAVOZ, SEGURIDAD Y EMERGE...                 NaN   \n",
       "3    AG. VICEALCALDÍA, PORTAVOZ, SEGURIDAD Y EMERGE...                 NaN   \n",
       "4    AG. VICEALCALDÍA, PORTAVOZ, SEGURIDAD Y EMERGE...                 NaN   \n",
       "..                                                 ...                 ...   \n",
       "995  AG. VICEALCALDÍA, PORTAVOZ, SEGURIDAD Y EMERGE...      Internet Móvil   \n",
       "996  AG. VICEALCALDÍA, PORTAVOZ, SEGURIDAD Y EMERGE...  Email confirmacion   \n",
       "997  AG. VICEALCALDÍA, PORTAVOZ, SEGURIDAD Y EMERGE...    SMS recordatorio   \n",
       "998  AG. VICEALCALDÍA, PORTAVOZ, SEGURIDAD Y EMERGE...        Internet Web   \n",
       "999  AG. VICEALCALDÍA, PORTAVOZ, SEGURIDAD Y EMERGE...                 NaN   \n",
       "\n",
       "    Agrupacion_Canal_Asignacion Canal_Comunicacion Cancelada_por_modificacion  \\\n",
       "0                           WEB            Ninguno                         No   \n",
       "1                    Telefónico                SMS                         No   \n",
       "2                           WEB            Ninguno                         No   \n",
       "3                           WEB            Ninguno                         No   \n",
       "4                           WEB            Ninguno                         No   \n",
       "..                          ...                ...                        ...   \n",
       "995                         WEB            Ninguno                         Si   \n",
       "996                         WEB            Ninguno                         No   \n",
       "997                         WEB            Ninguno                         No   \n",
       "998                         WEB            Ninguno                         No   \n",
       "999                  Telefónico               Mail                         No   \n",
       "\n",
       "                Categoria Codigo_WEM_Atencion Codigo_distrito_atencion  \\\n",
       "0          Padrón y censo              183881                       19   \n",
       "1    Urbanismo y Vivienda              181625                       12   \n",
       "2          Padrón y censo              182199                       13   \n",
       "3          Padrón y censo              180005                       21   \n",
       "4                Registro              182794                       16   \n",
       "..                    ...                 ...                      ...   \n",
       "995        Padrón y censo              190825                       16   \n",
       "996        Padrón y censo              181203                       10   \n",
       "997        Padrón y censo              190825                       16   \n",
       "998        Padrón y censo              183637                       20   \n",
       "999        Padrón y censo              182794                       16   \n",
       "\n",
       "     Competencia_Distrito_Atencion  Recordatorio_Correo  Recordatorio_SMS  \\\n",
       "0                                0                    0                 0   \n",
       "1                                0                    0                 0   \n",
       "2                                0                    1                 1   \n",
       "3                                0                    1                 1   \n",
       "4                                0                    1                 0   \n",
       "..                             ...                  ...               ...   \n",
       "995                              0                    0                 0   \n",
       "996                              0                    0                 0   \n",
       "997                              0                    1                 1   \n",
       "998                              0                    0                 0   \n",
       "999                              0                    2                 0   \n",
       "\n",
       "    Demora Canal_Asignacion Entidad_Atencion Estado_Cita    Fecha_Eliminacion  \\\n",
       "0        1     Internet Web     LINEA MADRID   Cancelada  2025-01-08T22:02:16   \n",
       "1        1              010     LINEA MADRID  Absentismo                  NaN   \n",
       "2        6   Internet Móvil     LINEA MADRID    Atendida                  NaN   \n",
       "3        5     Internet Web     LINEA MADRID    Atendida                  NaN   \n",
       "4       29     Internet Web     LINEA MADRID    Atendida                  NaN   \n",
       "..     ...              ...              ...         ...                  ...   \n",
       "995     29     Internet Web     LINEA MADRID   Cancelada                  NaN   \n",
       "996     27   Internet Móvil     LINEA MADRID   Cancelada  2025-01-08T14:39:16   \n",
       "997     14     Internet Web     LINEA MADRID   Cancelada  2025-01-08T23:52:13   \n",
       "998     29     Internet Web     LINEA MADRID   Cancelada  2025-01-08T13:23:46   \n",
       "999     27              010     LINEA MADRID    Atendida                  NaN   \n",
       "\n",
       "        Fecha_Asignacion           Fecha_Cita  Genero     Distrito_Atencion  \\\n",
       "0    2025-01-08T21:24:49  2025-01-09T15:20:00       2             Vicálvaro   \n",
       "1    2025-01-08T09:39:29  2025-01-09T11:00:00       2                 Usera   \n",
       "2    2025-01-02T23:24:21  2025-01-08T09:10:00       1    Puente de Vallecas   \n",
       "3    2025-01-03T11:05:06  2025-01-08T09:30:00       3               Barajas   \n",
       "4    2025-03-27T10:27:39  2025-04-25T12:30:00       3             Hortaleza   \n",
       "..                   ...                  ...     ...                   ...   \n",
       "995  2025-01-07T12:39:28  2025-02-05T15:10:00       2             Hortaleza   \n",
       "996  2025-01-08T14:37:21  2025-02-04T08:30:00       1                Latina   \n",
       "997  2024-12-26T12:05:51  2025-01-09T08:40:00       3             Hortaleza   \n",
       "998  2024-12-22T13:32:31  2025-01-20T12:50:00       2  San Blas- Canillejas   \n",
       "999  2024-12-12T08:38:56  2025-01-08T11:40:00       1             Hortaleza   \n",
       "\n",
       "                Oficina_Atencion Tipo_Atencion Tipo_Documento_Identidad  \\\n",
       "0                  OAC Vicálvaro    Presencial                      DNI   \n",
       "1                      OAC Usera    Presencial                      DNI   \n",
       "2            OAC Puente Vallecas    Presencial       Tarjeta Residencia   \n",
       "3                    OAC Barajas    Presencial                      DNI   \n",
       "4                  OAC Hortaleza    Presencial                      DNI   \n",
       "..                           ...           ...                      ...   \n",
       "995  OAC Sanchinarro [Hortaleza]    Presencial                Pasaporte   \n",
       "996                   OAC Latina    Presencial                      DNI   \n",
       "997  OAC Sanchinarro [Hortaleza]    Presencial                      DNI   \n",
       "998      OAC San Blas/Canillejas    Presencial       Tarjeta Residencia   \n",
       "999                OAC Hortaleza    Presencial                      DNI   \n",
       "\n",
       "                                               Tramite             FX_CARGA  \\\n",
       "0         Altas, bajas y cambio de domicilio en Padrón  2025-05-06T03:40:43   \n",
       "1    Información urbanística general de las oficina...  2025-05-06T03:40:43   \n",
       "2         Altas, bajas y cambio de domicilio en Padrón  2025-05-06T03:40:43   \n",
       "3         Altas, bajas y cambio de domicilio en Padrón  2025-05-06T03:40:43   \n",
       "4                                             Registro  2025-05-06T03:40:43   \n",
       "..                                                 ...                  ...   \n",
       "995  Renovación o confirmación en Padrón de persona...  2025-05-06T03:40:43   \n",
       "996       Altas, bajas y cambio de domicilio en Padrón  2025-05-06T03:40:43   \n",
       "997       Altas, bajas y cambio de domicilio en Padrón  2025-05-06T03:40:43   \n",
       "998       Altas, bajas y cambio de domicilio en Padrón  2025-05-06T03:40:43   \n",
       "999       Altas, bajas y cambio de domicilio en Padrón  2025-05-06T03:40:43   \n",
       "\n",
       "    Agrupacion_Oficina_Solicitud Codigo_WEM_Solicitud Distrito_Asignacion  \\\n",
       "0                            NaN                  NaN                 NaN   \n",
       "1                            NaN                  NaN                 NaN   \n",
       "2                            NaN                  NaN                 NaN   \n",
       "3                            NaN                  NaN                 NaN   \n",
       "4                            NaN                  NaN                 NaN   \n",
       "..                           ...                  ...                 ...   \n",
       "995                          NaN                  NaN                 NaN   \n",
       "996                          NaN                  NaN                 NaN   \n",
       "997                          NaN                  NaN                 NaN   \n",
       "998                          NaN                  NaN                 NaN   \n",
       "999                          NaN                  NaN                 NaN   \n",
       "\n",
       "    Entidad_Asignacion Oficina_Asignacion  \n",
       "0                  NaN                NaN  \n",
       "1                  NaN                NaN  \n",
       "2                  NaN                NaN  \n",
       "3                  NaN                NaN  \n",
       "4                  NaN                NaN  \n",
       "..                 ...                ...  \n",
       "995                NaN                NaN  \n",
       "996                NaN                NaN  \n",
       "997                NaN                NaN  \n",
       "998                NaN                NaN  \n",
       "999                NaN                NaN  \n",
       "\n",
       "[1000 rows x 32 columns]"
      ]
     },
     "execution_count": 2,
     "metadata": {},
     "output_type": "execute_result"
    }
   ],
   "source": [
    "# Dictionary of the API (In Spanish): https://datos.madrid.es/FWProjects/egob/Catalogo/SectorPublico/LineaMadrid/ficheros/Dataset%20Estructura%20Datos%20Abiertos%20Cita%20Previa_desde%202024.pdf\n",
    "\n",
    "\n",
    "import requests\n",
    "\n",
    "response = requests.get(\"https://ciudadesabiertas.madrid.es/dynamicAPI/API/query/cita_previa.json?pageSize=1000\")\n",
    "if response.status_code == 200:\n",
    "    data = response.json()\n",
    "    records = data.get(\"records\", [])\n",
    "    df = pd.DataFrame(records)\n",
    "else:\n",
    "    raise RuntimeError(\"No se pudo acceder a la API\")   \n",
    " \n",
    "df\n",
    "\n",
    "\n",
    "                        "
   ]
  },
  {
   "cell_type": "code",
   "execution_count": 3,
   "id": "dbca4602",
   "metadata": {},
   "outputs": [
    {
     "name": "stdout",
     "output_type": "stream",
     "text": [
      "📋 Tables in the DuckDB:\n",
      "          name\n",
      "0  cita_previa\n"
     ]
    }
   ],
   "source": [
    "import duckdb\n",
    "import os\n",
    "\n",
    "DB_PATH = \"/Users/personas/Dropbox/side_projects/github/mlops-zoomcamp/project/citas/citas/db/cita.duckdb\"  # \n",
    "\n",
    "# Check that the file exists before opening\n",
    "if not os.path.exists(DB_PATH):\n",
    "    raise FileNotFoundError(f\"Database file not found at: {DB_PATH}\")\n",
    "\n",
    "# Connect and list tables\n",
    "conn = duckdb.connect(DB_PATH)\n",
    "tables = conn.execute(\"SHOW TABLES\").fetchdf()\n",
    "\n",
    "if tables.empty:\n",
    "    print(\"⚠️ No tables found in the database.\")\n",
    "else:\n",
    "    print(\"📋 Tables in the DuckDB:\")\n",
    "    print(tables)\n",
    "\n",
    "conn.close()"
   ]
  },
  {
   "cell_type": "code",
   "execution_count": null,
   "id": "3fb80ea7",
   "metadata": {},
   "outputs": [],
   "source": []
  },
  {
   "cell_type": "code",
   "execution_count": null,
   "id": "15e9b338",
   "metadata": {},
   "outputs": [
    {
     "name": "stdout",
     "output_type": "stream",
     "text": [
      "df columns (1): ['total_counts']\n"
     ]
    }
   ],
   "source": [
    "\n"
   ]
  },
  {
   "cell_type": "code",
   "execution_count": 4,
   "id": "5fac8228",
   "metadata": {},
   "outputs": [
    {
     "name": "stdout",
     "output_type": "stream",
     "text": [
      "                      Codigo_Cita    Agrupacion_Oficina_Atencion  \\\n",
      "0             OAC-VICAL/052522793                   LINEA MADRID   \n",
      "1             OAC-USERA/052516010                   LINEA MADRID   \n",
      "2             OAC-PUENT/052493614                   LINEA MADRID   \n",
      "3             OAC-BARAJ/052496327                   LINEA MADRID   \n",
      "4             OAC-HORTA/053153875                   LINEA MADRID   \n",
      "...                           ...                            ...   \n",
      "633932      OAIC-SACRAM/052942147      AGENCIA TRIBUTARIA - OAIC   \n",
      "633933          CESALIM/052885115    AGENCIA PARA EL EMPLEO - AZ   \n",
      "633934              MUL/052837068  MOVILIDAD - MULTAS DE TRÁFICO   \n",
      "633935  FUERTEDENAVIDAD/052600431      SERVICIOS SOCIALES - CCSS   \n",
      "633936      OAIC-RPOWER/052978941      AGENCIA TRIBUTARIA - OAIC   \n",
      "\n",
      "                                   Área_Gobierno_Atencion   Canal_Eliminacion  \\\n",
      "0       AG. VICEALCALDÍA, PORTAVOZ, SEGURIDAD Y EMERGE...  Email confirmacion   \n",
      "1       AG. VICEALCALDÍA, PORTAVOZ, SEGURIDAD Y EMERGE...                None   \n",
      "2       AG. VICEALCALDÍA, PORTAVOZ, SEGURIDAD Y EMERGE...                None   \n",
      "3       AG. VICEALCALDÍA, PORTAVOZ, SEGURIDAD Y EMERGE...                None   \n",
      "4       AG. VICEALCALDÍA, PORTAVOZ, SEGURIDAD Y EMERGE...                None   \n",
      "...                                                   ...                 ...   \n",
      "633932                AG. ECONOMÍA, INNOVACIÓN Y HACIENDA                None   \n",
      "633933                AG. ECONOMÍA, INNOVACIÓN Y HACIENDA                None   \n",
      "633934          AG. URBANISMO, MEDIO AMBIENTE Y MOVILIDAD                None   \n",
      "633935         AG. POLITICAS SOCIALES, FAMILIA E IGUALDAD  Email recordatorio   \n",
      "633936                AG. ECONOMÍA, INNOVACIÓN Y HACIENDA  Email recordatorio   \n",
      "\n",
      "       Agrupacion_Canal_Asignacion Canal_Comunicacion  \\\n",
      "0                              WEB            Ninguno   \n",
      "1                       Telefónico                SMS   \n",
      "2                              WEB            Ninguno   \n",
      "3                              WEB            Ninguno   \n",
      "4                              WEB            Ninguno   \n",
      "...                            ...                ...   \n",
      "633932                  Telefónico               Mail   \n",
      "633933                  Telefónico                SMS   \n",
      "633934                  Telefónico                SMS   \n",
      "633935                  Telefónico               Mail   \n",
      "633936                         WEB            Ninguno   \n",
      "\n",
      "       Cancelada_por_modificacion              Categoria Codigo_WEM_Atencion  \\\n",
      "0                              No         Padrón y censo              183881   \n",
      "1                              No   Urbanismo y Vivienda              181625   \n",
      "2                              No         Padrón y censo              182199   \n",
      "3                              No         Padrón y censo              180005   \n",
      "4                              No               Registro              182794   \n",
      "...                           ...                    ...                 ...   \n",
      "633932                         No          Contribuyente             4561585   \n",
      "633933                         No                 Empleo             5520488   \n",
      "633934                         No  Seguridad y Sanciones              170057   \n",
      "633935                         No     Servicios Sociales             6255479   \n",
      "633936                         No          Contribuyente             8628334   \n",
      "\n",
      "       Codigo_distrito_atencion  Competencia_Distrito_Atencion  \\\n",
      "0                            19                              0   \n",
      "1                            12                              0   \n",
      "2                            13                              0   \n",
      "3                            21                              0   \n",
      "4                            16                              0   \n",
      "...                         ...                            ...   \n",
      "633932                        1                              0   \n",
      "633933                       18                              0   \n",
      "633934                       20                              0   \n",
      "633935                       10                              1   \n",
      "633936                       16                              0   \n",
      "\n",
      "        Recordatorio_Correo  Recordatorio_SMS Demora Canal_Asignacion  \\\n",
      "0                         0                 0      1     Internet Web   \n",
      "1                         0                 0      1              010   \n",
      "2                         1                 1      6   Internet Móvil   \n",
      "3                         1                 1      5     Internet Web   \n",
      "4                         1                 0     29     Internet Web   \n",
      "...                     ...               ...    ...              ...   \n",
      "633932                    1                 0     11              010   \n",
      "633933                    0                 1     17              010   \n",
      "633934                    0                 1     22              010   \n",
      "633935                    1                 0     49              010   \n",
      "633936                    1                 0      6     Internet Web   \n",
      "\n",
      "              Entidad_Atencion Estado_Cita    Fecha_Eliminacion  \\\n",
      "0                 LINEA MADRID   Cancelada  2025-01-08T22:02:16   \n",
      "1                 LINEA MADRID  Absentismo                 None   \n",
      "2                 LINEA MADRID    Atendida                 None   \n",
      "3                 LINEA MADRID    Atendida                 None   \n",
      "4                 LINEA MADRID    Atendida                 None   \n",
      "...                        ...         ...                  ...   \n",
      "633932      AGENCIA TRIBUTARIA  Absentismo                 None   \n",
      "633933  AGENCIA PARA EL EMPLEO  Absentismo                 None   \n",
      "633934                  MULTAS  Absentismo                 None   \n",
      "633935      SERVICIOS SOCIALES   Cancelada  2025-03-09T12:54:24   \n",
      "633936      AGENCIA TRIBUTARIA   Cancelada  2025-03-09T23:08:25   \n",
      "\n",
      "           Fecha_Asignacion           Fecha_Cita  Genero  \\\n",
      "0       2025-01-08T21:24:49  2025-01-09T15:20:00       2   \n",
      "1       2025-01-08T09:39:29  2025-01-09T11:00:00       2   \n",
      "2       2025-01-02T23:24:21  2025-01-08T09:10:00       1   \n",
      "3       2025-01-03T11:05:06  2025-01-08T09:30:00       3   \n",
      "4       2025-03-27T10:27:39  2025-04-25T12:30:00       3   \n",
      "...                     ...                  ...     ...   \n",
      "633932  2025-02-28T15:34:43  2025-03-11T09:00:00       2   \n",
      "633933  2025-02-22T12:13:39  2025-03-11T10:30:00       2   \n",
      "633934  2025-02-17T14:49:42  2025-03-11T12:45:00       1   \n",
      "633935  2025-01-20T08:31:55  2025-03-10T10:30:00       2   \n",
      "633936  2025-03-05T16:03:29  2025-03-11T11:00:00       1   \n",
      "\n",
      "           Distrito_Atencion                         Oficina_Atencion  \\\n",
      "0                  Vicálvaro                            OAC Vicálvaro   \n",
      "1                      Usera                                OAC Usera   \n",
      "2         Puente de Vallecas                      OAC Puente Vallecas   \n",
      "3                    Barajas                              OAC Barajas   \n",
      "4                  Hortaleza                            OAC Hortaleza   \n",
      "...                      ...                                      ...   \n",
      "633932                Centro                          OAIC Sacramento   \n",
      "633933     Villa de Vallecas  Centro Especializado Sector Alimentario   \n",
      "633934  San Blas- Canillejas                    Multas de circulación   \n",
      "633935                Latina                    CSS Fuerte de Navidad   \n",
      "633936             Hortaleza                         OAIC Ramón Power   \n",
      "\n",
      "       Tipo_Atencion Tipo_Documento_Identidad  \\\n",
      "0         Presencial                      DNI   \n",
      "1         Presencial                      DNI   \n",
      "2         Presencial       Tarjeta Residencia   \n",
      "3         Presencial                      DNI   \n",
      "4         Presencial                      DNI   \n",
      "...              ...                      ...   \n",
      "633932    Presencial                      DNI   \n",
      "633933    Presencial       Tarjeta Residencia   \n",
      "633934    Presencial                      DNI   \n",
      "633935    Telefónica                      DNI   \n",
      "633936    Presencial                      DNI   \n",
      "\n",
      "                                                  Tramite            FX_CARGA  \\\n",
      "0            Altas, bajas y cambio de domicilio en Padrón 2025-05-06 03:40:43   \n",
      "1       Información urbanística general de las oficina... 2025-05-06 03:40:43   \n",
      "2            Altas, bajas y cambio de domicilio en Padrón 2025-05-06 03:40:43   \n",
      "3            Altas, bajas y cambio de domicilio en Padrón 2025-05-06 03:40:43   \n",
      "4                                                Registro 2025-05-06 03:40:43   \n",
      "...                                                   ...                 ...   \n",
      "633932                   Recaudación en período ejecutivo 2025-05-06 03:40:52   \n",
      "633933  Empleo por cuenta ajena. Información y orienta... 2025-05-06 03:40:52   \n",
      "633934         Multas de tráfico, consulta de expedientes 2025-05-06 03:40:52   \n",
      "633935                        Atención Servicios Sociales 2025-05-06 03:40:52   \n",
      "633936                    IBI - Impuesto Bienes Inmuebles 2025-05-06 03:40:52   \n",
      "\n",
      "       Agrupacion_Oficina_Solicitud Codigo_WEM_Solicitud Distrito_Asignacion  \\\n",
      "0                              None                 None                None   \n",
      "1                              None                 None                None   \n",
      "2                              None                 None                None   \n",
      "3                              None                 None                None   \n",
      "4                              None                 None                None   \n",
      "...                             ...                  ...                 ...   \n",
      "633932                         None                 None                None   \n",
      "633933                         None                 None                None   \n",
      "633934                         None                 None                None   \n",
      "633935                         None                 None                None   \n",
      "633936                         None                 None                None   \n",
      "\n",
      "       Entidad_Asignacion Oficina_Asignacion  \n",
      "0                    None               None  \n",
      "1                    None               None  \n",
      "2                    None               None  \n",
      "3                    None               None  \n",
      "4                    None               None  \n",
      "...                   ...                ...  \n",
      "633932               None               None  \n",
      "633933               None               None  \n",
      "633934               None               None  \n",
      "633935               None               None  \n",
      "633936               None               None  \n",
      "\n",
      "[633937 rows x 32 columns]\n"
     ]
    }
   ],
   "source": [
    "# Create a duckdb\n",
    "import duckdb\n",
    "\n",
    "conn = duckdb.connect(DB_PATH)\n",
    "\n",
    "# Run SQL queries\n",
    "df = conn.execute(\"SELECT * FROM cita_previa\").fetchdf()\n",
    "print(df)\n",
    "\n",
    "conn.close()\n",
    "\n"
   ]
  },
  {
   "cell_type": "markdown",
   "id": "03fae423",
   "metadata": {},
   "source": [
    "# Explore"
   ]
  },
  {
   "cell_type": "code",
   "execution_count": 5,
   "id": "0787e9e3",
   "metadata": {},
   "outputs": [
    {
     "data": {
      "text/html": [
       "<div>\n",
       "<style scoped>\n",
       "    .dataframe tbody tr th:only-of-type {\n",
       "        vertical-align: middle;\n",
       "    }\n",
       "\n",
       "    .dataframe tbody tr th {\n",
       "        vertical-align: top;\n",
       "    }\n",
       "\n",
       "    .dataframe thead th {\n",
       "        text-align: right;\n",
       "    }\n",
       "</style>\n",
       "<table border=\"1\" class=\"dataframe\">\n",
       "  <thead>\n",
       "    <tr style=\"text-align: right;\">\n",
       "      <th></th>\n",
       "      <th>Codigo_Cita</th>\n",
       "      <th>Agrupacion_Oficina_Atencion</th>\n",
       "      <th>Área_Gobierno_Atencion</th>\n",
       "      <th>Canal_Eliminacion</th>\n",
       "      <th>Agrupacion_Canal_Asignacion</th>\n",
       "      <th>Canal_Comunicacion</th>\n",
       "      <th>Cancelada_por_modificacion</th>\n",
       "      <th>Categoria</th>\n",
       "      <th>Codigo_WEM_Atencion</th>\n",
       "      <th>Codigo_distrito_atencion</th>\n",
       "      <th>Competencia_Distrito_Atencion</th>\n",
       "      <th>Recordatorio_Correo</th>\n",
       "      <th>Recordatorio_SMS</th>\n",
       "      <th>Demora</th>\n",
       "      <th>Canal_Asignacion</th>\n",
       "      <th>Entidad_Atencion</th>\n",
       "      <th>Estado_Cita</th>\n",
       "      <th>Fecha_Eliminacion</th>\n",
       "      <th>Fecha_Asignacion</th>\n",
       "      <th>Fecha_Cita</th>\n",
       "      <th>Genero</th>\n",
       "      <th>Distrito_Atencion</th>\n",
       "      <th>Oficina_Atencion</th>\n",
       "      <th>Tipo_Atencion</th>\n",
       "      <th>Tipo_Documento_Identidad</th>\n",
       "      <th>Tramite</th>\n",
       "      <th>FX_CARGA</th>\n",
       "      <th>Agrupacion_Oficina_Solicitud</th>\n",
       "      <th>Codigo_WEM_Solicitud</th>\n",
       "      <th>Distrito_Asignacion</th>\n",
       "      <th>Entidad_Asignacion</th>\n",
       "      <th>Oficina_Asignacion</th>\n",
       "    </tr>\n",
       "  </thead>\n",
       "  <tbody>\n",
       "    <tr>\n",
       "      <th>0</th>\n",
       "      <td>OAC-VICAL/052522793</td>\n",
       "      <td>LINEA MADRID</td>\n",
       "      <td>AG. VICEALCALDÍA, PORTAVOZ, SEGURIDAD Y EMERGE...</td>\n",
       "      <td>Email confirmacion</td>\n",
       "      <td>WEB</td>\n",
       "      <td>Ninguno</td>\n",
       "      <td>No</td>\n",
       "      <td>Padrón y censo</td>\n",
       "      <td>183881</td>\n",
       "      <td>19</td>\n",
       "      <td>0</td>\n",
       "      <td>0</td>\n",
       "      <td>0</td>\n",
       "      <td>1</td>\n",
       "      <td>Internet Web</td>\n",
       "      <td>LINEA MADRID</td>\n",
       "      <td>Cancelada</td>\n",
       "      <td>2025-01-08T22:02:16</td>\n",
       "      <td>2025-01-08T21:24:49</td>\n",
       "      <td>2025-01-09T15:20:00</td>\n",
       "      <td>2</td>\n",
       "      <td>Vicálvaro</td>\n",
       "      <td>OAC Vicálvaro</td>\n",
       "      <td>Presencial</td>\n",
       "      <td>DNI</td>\n",
       "      <td>Altas, bajas y cambio de domicilio en Padrón</td>\n",
       "      <td>2025-05-06 03:40:43</td>\n",
       "      <td>None</td>\n",
       "      <td>None</td>\n",
       "      <td>None</td>\n",
       "      <td>None</td>\n",
       "      <td>None</td>\n",
       "    </tr>\n",
       "    <tr>\n",
       "      <th>1</th>\n",
       "      <td>OAC-USERA/052516010</td>\n",
       "      <td>LINEA MADRID</td>\n",
       "      <td>AG. VICEALCALDÍA, PORTAVOZ, SEGURIDAD Y EMERGE...</td>\n",
       "      <td>None</td>\n",
       "      <td>Telefónico</td>\n",
       "      <td>SMS</td>\n",
       "      <td>No</td>\n",
       "      <td>Urbanismo y Vivienda</td>\n",
       "      <td>181625</td>\n",
       "      <td>12</td>\n",
       "      <td>0</td>\n",
       "      <td>0</td>\n",
       "      <td>0</td>\n",
       "      <td>1</td>\n",
       "      <td>010</td>\n",
       "      <td>LINEA MADRID</td>\n",
       "      <td>Absentismo</td>\n",
       "      <td>None</td>\n",
       "      <td>2025-01-08T09:39:29</td>\n",
       "      <td>2025-01-09T11:00:00</td>\n",
       "      <td>2</td>\n",
       "      <td>Usera</td>\n",
       "      <td>OAC Usera</td>\n",
       "      <td>Presencial</td>\n",
       "      <td>DNI</td>\n",
       "      <td>Información urbanística general de las oficina...</td>\n",
       "      <td>2025-05-06 03:40:43</td>\n",
       "      <td>None</td>\n",
       "      <td>None</td>\n",
       "      <td>None</td>\n",
       "      <td>None</td>\n",
       "      <td>None</td>\n",
       "    </tr>\n",
       "    <tr>\n",
       "      <th>2</th>\n",
       "      <td>OAC-PUENT/052493614</td>\n",
       "      <td>LINEA MADRID</td>\n",
       "      <td>AG. VICEALCALDÍA, PORTAVOZ, SEGURIDAD Y EMERGE...</td>\n",
       "      <td>None</td>\n",
       "      <td>WEB</td>\n",
       "      <td>Ninguno</td>\n",
       "      <td>No</td>\n",
       "      <td>Padrón y censo</td>\n",
       "      <td>182199</td>\n",
       "      <td>13</td>\n",
       "      <td>0</td>\n",
       "      <td>1</td>\n",
       "      <td>1</td>\n",
       "      <td>6</td>\n",
       "      <td>Internet Móvil</td>\n",
       "      <td>LINEA MADRID</td>\n",
       "      <td>Atendida</td>\n",
       "      <td>None</td>\n",
       "      <td>2025-01-02T23:24:21</td>\n",
       "      <td>2025-01-08T09:10:00</td>\n",
       "      <td>1</td>\n",
       "      <td>Puente de Vallecas</td>\n",
       "      <td>OAC Puente Vallecas</td>\n",
       "      <td>Presencial</td>\n",
       "      <td>Tarjeta Residencia</td>\n",
       "      <td>Altas, bajas y cambio de domicilio en Padrón</td>\n",
       "      <td>2025-05-06 03:40:43</td>\n",
       "      <td>None</td>\n",
       "      <td>None</td>\n",
       "      <td>None</td>\n",
       "      <td>None</td>\n",
       "      <td>None</td>\n",
       "    </tr>\n",
       "    <tr>\n",
       "      <th>3</th>\n",
       "      <td>OAC-BARAJ/052496327</td>\n",
       "      <td>LINEA MADRID</td>\n",
       "      <td>AG. VICEALCALDÍA, PORTAVOZ, SEGURIDAD Y EMERGE...</td>\n",
       "      <td>None</td>\n",
       "      <td>WEB</td>\n",
       "      <td>Ninguno</td>\n",
       "      <td>No</td>\n",
       "      <td>Padrón y censo</td>\n",
       "      <td>180005</td>\n",
       "      <td>21</td>\n",
       "      <td>0</td>\n",
       "      <td>1</td>\n",
       "      <td>1</td>\n",
       "      <td>5</td>\n",
       "      <td>Internet Web</td>\n",
       "      <td>LINEA MADRID</td>\n",
       "      <td>Atendida</td>\n",
       "      <td>None</td>\n",
       "      <td>2025-01-03T11:05:06</td>\n",
       "      <td>2025-01-08T09:30:00</td>\n",
       "      <td>3</td>\n",
       "      <td>Barajas</td>\n",
       "      <td>OAC Barajas</td>\n",
       "      <td>Presencial</td>\n",
       "      <td>DNI</td>\n",
       "      <td>Altas, bajas y cambio de domicilio en Padrón</td>\n",
       "      <td>2025-05-06 03:40:43</td>\n",
       "      <td>None</td>\n",
       "      <td>None</td>\n",
       "      <td>None</td>\n",
       "      <td>None</td>\n",
       "      <td>None</td>\n",
       "    </tr>\n",
       "    <tr>\n",
       "      <th>4</th>\n",
       "      <td>OAC-HORTA/053153875</td>\n",
       "      <td>LINEA MADRID</td>\n",
       "      <td>AG. VICEALCALDÍA, PORTAVOZ, SEGURIDAD Y EMERGE...</td>\n",
       "      <td>None</td>\n",
       "      <td>WEB</td>\n",
       "      <td>Ninguno</td>\n",
       "      <td>No</td>\n",
       "      <td>Registro</td>\n",
       "      <td>182794</td>\n",
       "      <td>16</td>\n",
       "      <td>0</td>\n",
       "      <td>1</td>\n",
       "      <td>0</td>\n",
       "      <td>29</td>\n",
       "      <td>Internet Web</td>\n",
       "      <td>LINEA MADRID</td>\n",
       "      <td>Atendida</td>\n",
       "      <td>None</td>\n",
       "      <td>2025-03-27T10:27:39</td>\n",
       "      <td>2025-04-25T12:30:00</td>\n",
       "      <td>3</td>\n",
       "      <td>Hortaleza</td>\n",
       "      <td>OAC Hortaleza</td>\n",
       "      <td>Presencial</td>\n",
       "      <td>DNI</td>\n",
       "      <td>Registro</td>\n",
       "      <td>2025-05-06 03:40:43</td>\n",
       "      <td>None</td>\n",
       "      <td>None</td>\n",
       "      <td>None</td>\n",
       "      <td>None</td>\n",
       "      <td>None</td>\n",
       "    </tr>\n",
       "  </tbody>\n",
       "</table>\n",
       "</div>"
      ],
      "text/plain": [
       "           Codigo_Cita Agrupacion_Oficina_Atencion  \\\n",
       "0  OAC-VICAL/052522793                LINEA MADRID   \n",
       "1  OAC-USERA/052516010                LINEA MADRID   \n",
       "2  OAC-PUENT/052493614                LINEA MADRID   \n",
       "3  OAC-BARAJ/052496327                LINEA MADRID   \n",
       "4  OAC-HORTA/053153875                LINEA MADRID   \n",
       "\n",
       "                              Área_Gobierno_Atencion   Canal_Eliminacion  \\\n",
       "0  AG. VICEALCALDÍA, PORTAVOZ, SEGURIDAD Y EMERGE...  Email confirmacion   \n",
       "1  AG. VICEALCALDÍA, PORTAVOZ, SEGURIDAD Y EMERGE...                None   \n",
       "2  AG. VICEALCALDÍA, PORTAVOZ, SEGURIDAD Y EMERGE...                None   \n",
       "3  AG. VICEALCALDÍA, PORTAVOZ, SEGURIDAD Y EMERGE...                None   \n",
       "4  AG. VICEALCALDÍA, PORTAVOZ, SEGURIDAD Y EMERGE...                None   \n",
       "\n",
       "  Agrupacion_Canal_Asignacion Canal_Comunicacion Cancelada_por_modificacion  \\\n",
       "0                         WEB            Ninguno                         No   \n",
       "1                  Telefónico                SMS                         No   \n",
       "2                         WEB            Ninguno                         No   \n",
       "3                         WEB            Ninguno                         No   \n",
       "4                         WEB            Ninguno                         No   \n",
       "\n",
       "              Categoria Codigo_WEM_Atencion Codigo_distrito_atencion  \\\n",
       "0        Padrón y censo              183881                       19   \n",
       "1  Urbanismo y Vivienda              181625                       12   \n",
       "2        Padrón y censo              182199                       13   \n",
       "3        Padrón y censo              180005                       21   \n",
       "4              Registro              182794                       16   \n",
       "\n",
       "   Competencia_Distrito_Atencion  Recordatorio_Correo  Recordatorio_SMS  \\\n",
       "0                              0                    0                 0   \n",
       "1                              0                    0                 0   \n",
       "2                              0                    1                 1   \n",
       "3                              0                    1                 1   \n",
       "4                              0                    1                 0   \n",
       "\n",
       "  Demora Canal_Asignacion Entidad_Atencion Estado_Cita    Fecha_Eliminacion  \\\n",
       "0      1     Internet Web     LINEA MADRID   Cancelada  2025-01-08T22:02:16   \n",
       "1      1              010     LINEA MADRID  Absentismo                 None   \n",
       "2      6   Internet Móvil     LINEA MADRID    Atendida                 None   \n",
       "3      5     Internet Web     LINEA MADRID    Atendida                 None   \n",
       "4     29     Internet Web     LINEA MADRID    Atendida                 None   \n",
       "\n",
       "      Fecha_Asignacion           Fecha_Cita  Genero   Distrito_Atencion  \\\n",
       "0  2025-01-08T21:24:49  2025-01-09T15:20:00       2           Vicálvaro   \n",
       "1  2025-01-08T09:39:29  2025-01-09T11:00:00       2               Usera   \n",
       "2  2025-01-02T23:24:21  2025-01-08T09:10:00       1  Puente de Vallecas   \n",
       "3  2025-01-03T11:05:06  2025-01-08T09:30:00       3             Barajas   \n",
       "4  2025-03-27T10:27:39  2025-04-25T12:30:00       3           Hortaleza   \n",
       "\n",
       "      Oficina_Atencion Tipo_Atencion Tipo_Documento_Identidad  \\\n",
       "0        OAC Vicálvaro    Presencial                      DNI   \n",
       "1            OAC Usera    Presencial                      DNI   \n",
       "2  OAC Puente Vallecas    Presencial       Tarjeta Residencia   \n",
       "3          OAC Barajas    Presencial                      DNI   \n",
       "4        OAC Hortaleza    Presencial                      DNI   \n",
       "\n",
       "                                             Tramite            FX_CARGA  \\\n",
       "0       Altas, bajas y cambio de domicilio en Padrón 2025-05-06 03:40:43   \n",
       "1  Información urbanística general de las oficina... 2025-05-06 03:40:43   \n",
       "2       Altas, bajas y cambio de domicilio en Padrón 2025-05-06 03:40:43   \n",
       "3       Altas, bajas y cambio de domicilio en Padrón 2025-05-06 03:40:43   \n",
       "4                                           Registro 2025-05-06 03:40:43   \n",
       "\n",
       "  Agrupacion_Oficina_Solicitud Codigo_WEM_Solicitud Distrito_Asignacion  \\\n",
       "0                         None                 None                None   \n",
       "1                         None                 None                None   \n",
       "2                         None                 None                None   \n",
       "3                         None                 None                None   \n",
       "4                         None                 None                None   \n",
       "\n",
       "  Entidad_Asignacion Oficina_Asignacion  \n",
       "0               None               None  \n",
       "1               None               None  \n",
       "2               None               None  \n",
       "3               None               None  \n",
       "4               None               None  "
      ]
     },
     "execution_count": 5,
     "metadata": {},
     "output_type": "execute_result"
    }
   ],
   "source": [
    "df.head(5)"
   ]
  },
  {
   "cell_type": "code",
   "execution_count": 315,
   "id": "957a23b1",
   "metadata": {},
   "outputs": [
    {
     "data": {
      "text/plain": [
       "'2025-04-30T19:15:00'"
      ]
     },
     "execution_count": 315,
     "metadata": {},
     "output_type": "execute_result"
    }
   ],
   "source": [
    "df['Fecha_Cita'].max()"
   ]
  },
  {
   "cell_type": "code",
   "execution_count": 83,
   "id": "bf69783b",
   "metadata": {},
   "outputs": [
    {
     "data": {
      "text/html": [
       "<div>\n",
       "<style scoped>\n",
       "    .dataframe tbody tr th:only-of-type {\n",
       "        vertical-align: middle;\n",
       "    }\n",
       "\n",
       "    .dataframe tbody tr th {\n",
       "        vertical-align: top;\n",
       "    }\n",
       "\n",
       "    .dataframe thead th {\n",
       "        text-align: right;\n",
       "    }\n",
       "</style>\n",
       "<table border=\"1\" class=\"dataframe\">\n",
       "  <thead>\n",
       "    <tr style=\"text-align: right;\">\n",
       "      <th></th>\n",
       "      <th>Genero</th>\n",
       "      <th>Categoria</th>\n",
       "      <th>Recordatorio_Correo</th>\n",
       "      <th>Recordatorio_SMS</th>\n",
       "      <th>Demora</th>\n",
       "      <th>Canal_Asignacion</th>\n",
       "      <th>Entidad_Atencion</th>\n",
       "      <th>Estado_Cita</th>\n",
       "      <th>Fecha_Asignacion</th>\n",
       "      <th>Fecha_Cita</th>\n",
       "      <th>Fecha_Eliminacion</th>\n",
       "      <th>Tramite</th>\n",
       "      <th>Tipo_Documento_Identidad</th>\n",
       "    </tr>\n",
       "  </thead>\n",
       "  <tbody>\n",
       "    <tr>\n",
       "      <th>0</th>\n",
       "      <td>2</td>\n",
       "      <td>Padrón y censo</td>\n",
       "      <td>0</td>\n",
       "      <td>0</td>\n",
       "      <td>1</td>\n",
       "      <td>Internet Web</td>\n",
       "      <td>LINEA MADRID</td>\n",
       "      <td>Cancelada</td>\n",
       "      <td>2025-01-08T21:24:49</td>\n",
       "      <td>2025-01-09T15:20:00</td>\n",
       "      <td>2025-01-08T22:02:16</td>\n",
       "      <td>Altas, bajas y cambio de domicilio en Padrón</td>\n",
       "      <td>DNI</td>\n",
       "    </tr>\n",
       "    <tr>\n",
       "      <th>1</th>\n",
       "      <td>2</td>\n",
       "      <td>Urbanismo y Vivienda</td>\n",
       "      <td>0</td>\n",
       "      <td>0</td>\n",
       "      <td>1</td>\n",
       "      <td>010</td>\n",
       "      <td>LINEA MADRID</td>\n",
       "      <td>Absentismo</td>\n",
       "      <td>2025-01-08T09:39:29</td>\n",
       "      <td>2025-01-09T11:00:00</td>\n",
       "      <td>None</td>\n",
       "      <td>Información urbanística general de las oficina...</td>\n",
       "      <td>DNI</td>\n",
       "    </tr>\n",
       "    <tr>\n",
       "      <th>2</th>\n",
       "      <td>1</td>\n",
       "      <td>Padrón y censo</td>\n",
       "      <td>1</td>\n",
       "      <td>1</td>\n",
       "      <td>6</td>\n",
       "      <td>Internet Móvil</td>\n",
       "      <td>LINEA MADRID</td>\n",
       "      <td>Atendida</td>\n",
       "      <td>2025-01-02T23:24:21</td>\n",
       "      <td>2025-01-08T09:10:00</td>\n",
       "      <td>None</td>\n",
       "      <td>Altas, bajas y cambio de domicilio en Padrón</td>\n",
       "      <td>Tarjeta Residencia</td>\n",
       "    </tr>\n",
       "    <tr>\n",
       "      <th>3</th>\n",
       "      <td>3</td>\n",
       "      <td>Padrón y censo</td>\n",
       "      <td>1</td>\n",
       "      <td>1</td>\n",
       "      <td>5</td>\n",
       "      <td>Internet Web</td>\n",
       "      <td>LINEA MADRID</td>\n",
       "      <td>Atendida</td>\n",
       "      <td>2025-01-03T11:05:06</td>\n",
       "      <td>2025-01-08T09:30:00</td>\n",
       "      <td>None</td>\n",
       "      <td>Altas, bajas y cambio de domicilio en Padrón</td>\n",
       "      <td>DNI</td>\n",
       "    </tr>\n",
       "    <tr>\n",
       "      <th>4</th>\n",
       "      <td>3</td>\n",
       "      <td>Registro</td>\n",
       "      <td>1</td>\n",
       "      <td>0</td>\n",
       "      <td>29</td>\n",
       "      <td>Internet Web</td>\n",
       "      <td>LINEA MADRID</td>\n",
       "      <td>Atendida</td>\n",
       "      <td>2025-03-27T10:27:39</td>\n",
       "      <td>2025-04-25T12:30:00</td>\n",
       "      <td>None</td>\n",
       "      <td>Registro</td>\n",
       "      <td>DNI</td>\n",
       "    </tr>\n",
       "  </tbody>\n",
       "</table>\n",
       "</div>"
      ],
      "text/plain": [
       "   Genero             Categoria  Recordatorio_Correo  Recordatorio_SMS Demora  \\\n",
       "0       2        Padrón y censo                    0                 0      1   \n",
       "1       2  Urbanismo y Vivienda                    0                 0      1   \n",
       "2       1        Padrón y censo                    1                 1      6   \n",
       "3       3        Padrón y censo                    1                 1      5   \n",
       "4       3              Registro                    1                 0     29   \n",
       "\n",
       "  Canal_Asignacion Entidad_Atencion Estado_Cita     Fecha_Asignacion  \\\n",
       "0     Internet Web     LINEA MADRID   Cancelada  2025-01-08T21:24:49   \n",
       "1              010     LINEA MADRID  Absentismo  2025-01-08T09:39:29   \n",
       "2   Internet Móvil     LINEA MADRID    Atendida  2025-01-02T23:24:21   \n",
       "3     Internet Web     LINEA MADRID    Atendida  2025-01-03T11:05:06   \n",
       "4     Internet Web     LINEA MADRID    Atendida  2025-03-27T10:27:39   \n",
       "\n",
       "            Fecha_Cita    Fecha_Eliminacion  \\\n",
       "0  2025-01-09T15:20:00  2025-01-08T22:02:16   \n",
       "1  2025-01-09T11:00:00                 None   \n",
       "2  2025-01-08T09:10:00                 None   \n",
       "3  2025-01-08T09:30:00                 None   \n",
       "4  2025-04-25T12:30:00                 None   \n",
       "\n",
       "                                             Tramite Tipo_Documento_Identidad  \n",
       "0       Altas, bajas y cambio de domicilio en Padrón                      DNI  \n",
       "1  Información urbanística general de las oficina...                      DNI  \n",
       "2       Altas, bajas y cambio de domicilio en Padrón       Tarjeta Residencia  \n",
       "3       Altas, bajas y cambio de domicilio en Padrón                      DNI  \n",
       "4                                           Registro                      DNI  "
      ]
     },
     "execution_count": 83,
     "metadata": {},
     "output_type": "execute_result"
    }
   ],
   "source": [
    "df[['Genero', 'Categoria', 'Recordatorio_Correo', 'Recordatorio_SMS', 'Demora', 'Canal_Asignacion', 'Entidad_Atencion', 'Estado_Cita', 'Fecha_Asignacion', 'Fecha_Cita', 'Fecha_Eliminacion', 'Tramite', 'Tipo_Documento_Identidad']].head(5)"
   ]
  },
  {
   "cell_type": "code",
   "execution_count": 72,
   "id": "06d80932",
   "metadata": {},
   "outputs": [
    {
     "data": {
      "text/html": [
       "<div>\n",
       "<style scoped>\n",
       "    .dataframe tbody tr th:only-of-type {\n",
       "        vertical-align: middle;\n",
       "    }\n",
       "\n",
       "    .dataframe tbody tr th {\n",
       "        vertical-align: top;\n",
       "    }\n",
       "\n",
       "    .dataframe thead th {\n",
       "        text-align: right;\n",
       "    }\n",
       "</style>\n",
       "<table border=\"1\" class=\"dataframe\">\n",
       "  <thead>\n",
       "    <tr style=\"text-align: right;\">\n",
       "      <th></th>\n",
       "      <th>Estado_Cita</th>\n",
       "      <th>Oficina_Atencion</th>\n",
       "      <th>counts</th>\n",
       "    </tr>\n",
       "  </thead>\n",
       "  <tbody>\n",
       "    <tr>\n",
       "      <th>279</th>\n",
       "      <td>Atendida</td>\n",
       "      <td>OAC Centro</td>\n",
       "      <td>13405</td>\n",
       "    </tr>\n",
       "    <tr>\n",
       "      <th>281</th>\n",
       "      <td>Atendida</td>\n",
       "      <td>OAC Chamberí</td>\n",
       "      <td>12607</td>\n",
       "    </tr>\n",
       "    <tr>\n",
       "      <th>300</th>\n",
       "      <td>Atendida</td>\n",
       "      <td>OAC Villaverde</td>\n",
       "      <td>11105</td>\n",
       "    </tr>\n",
       "    <tr>\n",
       "      <th>278</th>\n",
       "      <td>Atendida</td>\n",
       "      <td>OAC Carabanchel</td>\n",
       "      <td>11041</td>\n",
       "    </tr>\n",
       "    <tr>\n",
       "      <th>285</th>\n",
       "      <td>Atendida</td>\n",
       "      <td>OAC Hortaleza</td>\n",
       "      <td>10169</td>\n",
       "    </tr>\n",
       "    <tr>\n",
       "      <th>...</th>\n",
       "      <td>...</td>\n",
       "      <td>...</td>\n",
       "      <td>...</td>\n",
       "    </tr>\n",
       "    <tr>\n",
       "      <th>379</th>\n",
       "      <td>Cancelada</td>\n",
       "      <td>CC Francisco Fatou Villa de Vallecas</td>\n",
       "      <td>3</td>\n",
       "    </tr>\n",
       "    <tr>\n",
       "      <th>82</th>\n",
       "      <td>Absentismo</td>\n",
       "      <td>JMD Latina</td>\n",
       "      <td>2</td>\n",
       "    </tr>\n",
       "    <tr>\n",
       "      <th>353</th>\n",
       "      <td>Atendida</td>\n",
       "      <td>URB. JMD Puente Vallecas Serv. Técnicos</td>\n",
       "      <td>2</td>\n",
       "    </tr>\n",
       "    <tr>\n",
       "      <th>85</th>\n",
       "      <td>Absentismo</td>\n",
       "      <td>JMD Puente de Vallecas</td>\n",
       "      <td>2</td>\n",
       "    </tr>\n",
       "    <tr>\n",
       "      <th>380</th>\n",
       "      <td>Cancelada</td>\n",
       "      <td>CC Zazúar Villa Vallecas</td>\n",
       "      <td>1</td>\n",
       "    </tr>\n",
       "  </tbody>\n",
       "</table>\n",
       "<p>561 rows × 3 columns</p>\n",
       "</div>"
      ],
      "text/plain": [
       "    Estado_Cita                         Oficina_Atencion  counts\n",
       "279    Atendida                               OAC Centro   13405\n",
       "281    Atendida                             OAC Chamberí   12607\n",
       "300    Atendida                           OAC Villaverde   11105\n",
       "278    Atendida                          OAC Carabanchel   11041\n",
       "285    Atendida                            OAC Hortaleza   10169\n",
       "..          ...                                      ...     ...\n",
       "379   Cancelada     CC Francisco Fatou Villa de Vallecas       3\n",
       "82   Absentismo                               JMD Latina       2\n",
       "353    Atendida  URB. JMD Puente Vallecas Serv. Técnicos       2\n",
       "85   Absentismo                   JMD Puente de Vallecas       2\n",
       "380   Cancelada                 CC Zazúar Villa Vallecas       1\n",
       "\n",
       "[561 rows x 3 columns]"
      ]
     },
     "execution_count": 72,
     "metadata": {},
     "output_type": "execute_result"
    }
   ],
   "source": [
    "df.groupby(['Estado_Cita', 'Oficina_Atencion']).size().reset_index(name='counts').sort_values(by='counts', ascending=False)"
   ]
  },
  {
   "cell_type": "code",
   "execution_count": 6,
   "id": "dc9996e3",
   "metadata": {},
   "outputs": [
    {
     "data": {
      "text/plain": [
       "Estado_Cita\n",
       "Absentismo    112150\n",
       "Atendida      375477\n",
       "Cancelada     146310\n",
       "dtype: int64"
      ]
     },
     "execution_count": 6,
     "metadata": {},
     "output_type": "execute_result"
    }
   ],
   "source": [
    "df.groupby(['Estado_Cita']).size()"
   ]
  },
  {
   "cell_type": "code",
   "execution_count": 284,
   "id": "f0e85ebf",
   "metadata": {},
   "outputs": [
    {
     "ename": "TypeError",
     "evalue": "Index(...) must be called with a collection of some kind, <function <lambda> at 0x39c4fdf80> was passed",
     "output_type": "error",
     "traceback": [
      "\u001b[31m---------------------------------------------------------------------------\u001b[39m",
      "\u001b[31mTypeError\u001b[39m                                 Traceback (most recent call last)",
      "\u001b[36mCell\u001b[39m\u001b[36m \u001b[39m\u001b[32mIn[284]\u001b[39m\u001b[32m, line 1\u001b[39m\n\u001b[32m----> \u001b[39m\u001b[32m1\u001b[39m \u001b[43mdf\u001b[49m\u001b[43m.\u001b[49m\u001b[43mgroupby\u001b[49m\u001b[43m(\u001b[49m\u001b[33;43m'\u001b[39;49m\u001b[33;43mTramite\u001b[39;49m\u001b[33;43m'\u001b[39;49m\u001b[43m)\u001b[49m\u001b[43m.\u001b[49m\u001b[43msize\u001b[49m\u001b[43m(\u001b[49m\u001b[43m)\u001b[49m\u001b[43m.\u001b[49m\u001b[43mreset_index\u001b[49m\u001b[43m(\u001b[49m\u001b[43mname\u001b[49m\u001b[43m=\u001b[49m\u001b[33;43m'\u001b[39;49m\u001b[33;43mcounts\u001b[39;49m\u001b[33;43m'\u001b[39;49m\u001b[43m)\u001b[49m\u001b[43m.\u001b[49m\u001b[43mfilter\u001b[49m\u001b[43m(\u001b[49m\u001b[38;5;28;43;01mlambda\u001b[39;49;00m\u001b[43m \u001b[49m\u001b[43mx\u001b[49m\u001b[43m:\u001b[49m\u001b[43m \u001b[49m\u001b[43mx\u001b[49m\u001b[43m[\u001b[49m\u001b[33;43m'\u001b[39;49m\u001b[33;43mcounts\u001b[39;49m\u001b[33;43m'\u001b[39;49m\u001b[43m]\u001b[49m\u001b[43m \u001b[49m\u001b[43m>\u001b[49m\u001b[43m \u001b[49m\u001b[32;43m1000\u001b[39;49m\u001b[43m)\u001b[49m\n",
      "\u001b[36mFile \u001b[39m\u001b[32m~/Dropbox/side_projects/github/mlops-zoomcamp/project/citas/.venv/lib/python3.11/site-packages/pandas/core/generic.py:5793\u001b[39m, in \u001b[36mNDFrame.filter\u001b[39m\u001b[34m(self, items, like, regex, axis)\u001b[39m\n\u001b[32m   5791\u001b[39m \u001b[38;5;28;01mif\u001b[39;00m items \u001b[38;5;129;01mis\u001b[39;00m \u001b[38;5;129;01mnot\u001b[39;00m \u001b[38;5;28;01mNone\u001b[39;00m:\n\u001b[32m   5792\u001b[39m     name = \u001b[38;5;28mself\u001b[39m._get_axis_name(axis)\n\u001b[32m-> \u001b[39m\u001b[32m5793\u001b[39m     items = \u001b[43mIndex\u001b[49m\u001b[43m(\u001b[49m\u001b[43mitems\u001b[49m\u001b[43m)\u001b[49m.intersection(labels)\n\u001b[32m   5794\u001b[39m     \u001b[38;5;28;01mif\u001b[39;00m \u001b[38;5;28mlen\u001b[39m(items) == \u001b[32m0\u001b[39m:\n\u001b[32m   5795\u001b[39m         \u001b[38;5;66;03m# Keep the dtype of labels when we are empty\u001b[39;00m\n\u001b[32m   5796\u001b[39m         items = items.astype(labels.dtype)\n",
      "\u001b[36mFile \u001b[39m\u001b[32m~/Dropbox/side_projects/github/mlops-zoomcamp/project/citas/.venv/lib/python3.11/site-packages/pandas/core/indexes/base.py:532\u001b[39m, in \u001b[36mIndex.__new__\u001b[39m\u001b[34m(cls, data, dtype, copy, name, tupleize_cols)\u001b[39m\n\u001b[32m    528\u001b[39m     \u001b[38;5;28;01mreturn\u001b[39;00m \u001b[38;5;28mcls\u001b[39m(np.asarray(data), dtype=dtype, copy=copy, name=name)\n\u001b[32m    529\u001b[39m \u001b[38;5;28;01melif\u001b[39;00m \u001b[38;5;129;01mnot\u001b[39;00m is_list_like(data) \u001b[38;5;129;01mand\u001b[39;00m \u001b[38;5;129;01mnot\u001b[39;00m \u001b[38;5;28misinstance\u001b[39m(data, \u001b[38;5;28mmemoryview\u001b[39m):\n\u001b[32m    530\u001b[39m     \u001b[38;5;66;03m# 2022-11-16 the memoryview check is only necessary on some CI\u001b[39;00m\n\u001b[32m    531\u001b[39m     \u001b[38;5;66;03m#  builds, not clear why\u001b[39;00m\n\u001b[32m--> \u001b[39m\u001b[32m532\u001b[39m     \u001b[38;5;28;01mraise\u001b[39;00m \u001b[38;5;28;43mcls\u001b[39;49m\u001b[43m.\u001b[49m\u001b[43m_raise_scalar_data_error\u001b[49m\u001b[43m(\u001b[49m\u001b[43mdata\u001b[49m\u001b[43m)\u001b[49m\n\u001b[32m    534\u001b[39m \u001b[38;5;28;01melse\u001b[39;00m:\n\u001b[32m    535\u001b[39m     \u001b[38;5;28;01mif\u001b[39;00m tupleize_cols:\n\u001b[32m    536\u001b[39m         \u001b[38;5;66;03m# GH21470: convert iterable to list before determining if empty\u001b[39;00m\n",
      "\u001b[36mFile \u001b[39m\u001b[32m~/Dropbox/side_projects/github/mlops-zoomcamp/project/citas/.venv/lib/python3.11/site-packages/pandas/core/indexes/base.py:5289\u001b[39m, in \u001b[36mIndex._raise_scalar_data_error\u001b[39m\u001b[34m(cls, data)\u001b[39m\n\u001b[32m   5284\u001b[39m \u001b[38;5;129m@final\u001b[39m\n\u001b[32m   5285\u001b[39m \u001b[38;5;129m@classmethod\u001b[39m\n\u001b[32m   5286\u001b[39m \u001b[38;5;28;01mdef\u001b[39;00m\u001b[38;5;250m \u001b[39m\u001b[34m_raise_scalar_data_error\u001b[39m(\u001b[38;5;28mcls\u001b[39m, data):\n\u001b[32m   5287\u001b[39m     \u001b[38;5;66;03m# We return the TypeError so that we can raise it from the constructor\u001b[39;00m\n\u001b[32m   5288\u001b[39m     \u001b[38;5;66;03m#  in order to keep mypy happy\u001b[39;00m\n\u001b[32m-> \u001b[39m\u001b[32m5289\u001b[39m     \u001b[38;5;28;01mraise\u001b[39;00m \u001b[38;5;167;01mTypeError\u001b[39;00m(\n\u001b[32m   5290\u001b[39m         \u001b[33mf\u001b[39m\u001b[33m\"\u001b[39m\u001b[38;5;132;01m{\u001b[39;00m\u001b[38;5;28mcls\u001b[39m.\u001b[34m__name__\u001b[39m\u001b[38;5;132;01m}\u001b[39;00m\u001b[33m(...) must be called with a collection of some \u001b[39m\u001b[33m\"\u001b[39m\n\u001b[32m   5291\u001b[39m         \u001b[33mf\u001b[39m\u001b[33m\"\u001b[39m\u001b[33mkind, \u001b[39m\u001b[38;5;132;01m{\u001b[39;00m\u001b[38;5;28mrepr\u001b[39m(data)\u001b[38;5;250m \u001b[39m\u001b[38;5;28;01mif\u001b[39;00m\u001b[38;5;250m \u001b[39m\u001b[38;5;129;01mnot\u001b[39;00m\u001b[38;5;250m \u001b[39m\u001b[38;5;28misinstance\u001b[39m(data,\u001b[38;5;250m \u001b[39mnp.generic)\u001b[38;5;250m \u001b[39m\u001b[38;5;28;01melse\u001b[39;00m\u001b[38;5;250m \u001b[39m\u001b[38;5;28mstr\u001b[39m(data)\u001b[38;5;132;01m}\u001b[39;00m\u001b[33m \u001b[39m\u001b[33m\"\u001b[39m\n\u001b[32m   5292\u001b[39m         \u001b[33m\"\u001b[39m\u001b[33mwas passed\u001b[39m\u001b[33m\"\u001b[39m\n\u001b[32m   5293\u001b[39m     )\n",
      "\u001b[31mTypeError\u001b[39m: Index(...) must be called with a collection of some kind, <function <lambda> at 0x39c4fdf80> was passed"
     ]
    }
   ],
   "source": [
    "df.groupby('Tramite').size().reset_index(name='counts').filter(lambda x: x['counts'] > 1000)"
   ]
  },
  {
   "cell_type": "code",
   "execution_count": 287,
   "id": "18ddc2ef",
   "metadata": {},
   "outputs": [
    {
     "data": {
      "text/plain": [
       "Index(['LINEA MADRID', 'SERVICIOS SOCIALES - CCSS',\n",
       "       'AGENCIA TRIBUTARIA - OAIC', 'AGENCIA PARA EL EMPLEO - AZ',\n",
       "       'MOVILIDAD - MULTAS DE TRÁFICO', 'CULTURA - BIBLIOTECAS',\n",
       "       'MOVILIDAD - SER - ZBE DE ESPECIAL PROTECCIÓN', 'MOVILIDAD - TAXI',\n",
       "       'MADRID SALUD - CMS', 'URBANISMO EN DISTRITOS', 'CONSUMO - OMIC',\n",
       "       'MOVILIDAD - AUTORIZACIONES EN VÍA PÚBLICA',\n",
       "       'INNOVACIÓN - EMPRENDIMIENTO', 'MOVILIDAD - APARCAMIENTOS PAR',\n",
       "       'AGENCIA TRIBUTARIA - PLATAFORMA TRIBUTARIA',\n",
       "       'MIXTA - OAMR REGISTRO - ALCALDÍA, VICEALCALDÍA, MEDIOAMBIENTE Y CULTURA',\n",
       "       'MIXTA - OAMR REGISTRO - PERSONAL Y AGENCIA ACTIVIDADES',\n",
       "       'MATRIMONIOS CIVILES', 'SERVICIOS SOCIALES - OAMR REGISTRO',\n",
       "       'AGENCIA EMPLEO - OAMR REGISTRO', 'VIVIENDA - TESTIMONIOS',\n",
       "       'HACIENDA - OBJETOS PERDIDOS', 'VIVIENDA - SUBVENCIONES',\n",
       "       'MADRID SALUD - OAMR REGISTRO', 'AGENCIA DE ACTIVIDADES',\n",
       "       'SEGURIDAD - OAMR REGISTRO', 'MADRID SALUD - PROTECCIÓN ANIMAL',\n",
       "       'SEGURIDAD - SANCIONES', 'OBRAS - RESPONSABILIDAD PATRIMONIAL',\n",
       "       'SERVICIOS SOCIALES - SAER', 'HACIENDA - OAMR REGISTRO',\n",
       "       'AGENCIA TRIBUTARIA - ICIO', 'SEGURIDAD - POLICÍA MUNICIPAL',\n",
       "       'ECONOMÍA - FACTORÍAS INDUSTRIALES', 'CENTROS CULTURALES'],\n",
       "      dtype='object', name='Agrupacion_Oficina_Atencion')"
      ]
     },
     "execution_count": 287,
     "metadata": {},
     "output_type": "execute_result"
    }
   ],
   "source": [
    "df.groupby('Agrupacion_Oficina_Atencion').size().sort_values(ascending=False).index\n"
   ]
  },
  {
   "cell_type": "code",
   "execution_count": 74,
   "id": "582b8e6f",
   "metadata": {},
   "outputs": [
    {
     "data": {
      "text/plain": [
       "Oficina_Atencion\n",
       "OAC Centro                              20652\n",
       "OAC Chamberí                            19126\n",
       "OAC Carabanchel                         18255\n",
       "OAC Hortaleza                           17078\n",
       "OAC Villaverde                          16661\n",
       "                                        ...  \n",
       "JMD Ciudad Lineal                          39\n",
       "OMIC Fuencarral                            38\n",
       "Factoría Industrial Vicálvaro              28\n",
       "CC Francisco Fatou Villa de Vallecas       11\n",
       "CC Zazúar Villa Vallecas                    9\n",
       "Length: 193, dtype: int64"
      ]
     },
     "execution_count": 74,
     "metadata": {},
     "output_type": "execute_result"
    }
   ],
   "source": [
    "df.groupby('Oficina_Atencion').size().sort_values(ascending=False)\n"
   ]
  },
  {
   "cell_type": "code",
   "execution_count": 81,
   "id": "b9083e1c",
   "metadata": {},
   "outputs": [
    {
     "data": {
      "text/plain": [
       "Agrupacion_Oficina_Atencion\n",
       "SERVICIOS SOCIALES - CCSS                                                  40\n",
       "LINEA MADRID                                                               26\n",
       "CONSUMO - OMIC                                                             22\n",
       "MATRIMONIOS CIVILES                                                        22\n",
       "MADRID SALUD - CMS                                                         17\n",
       "URBANISMO EN DISTRITOS                                                     14\n",
       "AGENCIA PARA EL EMPLEO - AZ                                                 9\n",
       "INNOVACIÓN - EMPRENDIMIENTO                                                 7\n",
       "AGENCIA TRIBUTARIA - OAIC                                                   5\n",
       "ECONOMÍA - FACTORÍAS INDUSTRIALES                                           2\n",
       "CENTROS CULTURALES                                                          2\n",
       "MIXTA - OAMR REGISTRO - PERSONAL Y AGENCIA ACTIVIDADES                      2\n",
       "MOVILIDAD - TAXI                                                            2\n",
       "MOVILIDAD - AUTORIZACIONES EN VÍA PÚBLICA                                   2\n",
       "SERVICIOS SOCIALES - OAMR REGISTRO                                          1\n",
       "MOVILIDAD - SER - ZBE DE ESPECIAL PROTECCIÓN                                1\n",
       "SERVICIOS SOCIALES - SAER                                                   1\n",
       "VIVIENDA - SUBVENCIONES                                                     1\n",
       "SEGURIDAD - SANCIONES                                                       1\n",
       "SEGURIDAD - POLICÍA MUNICIPAL                                               1\n",
       "SEGURIDAD - OAMR REGISTRO                                                   1\n",
       "OBRAS - RESPONSABILIDAD PATRIMONIAL                                         1\n",
       "AGENCIA DE ACTIVIDADES                                                      1\n",
       "MOVILIDAD - MULTAS DE TRÁFICO                                               1\n",
       "MOVILIDAD - APARCAMIENTOS PAR                                               1\n",
       "MIXTA - OAMR REGISTRO - ALCALDÍA, VICEALCALDÍA, MEDIOAMBIENTE Y CULTURA     1\n",
       "AGENCIA EMPLEO - OAMR REGISTRO                                              1\n",
       "MADRID SALUD - PROTECCIÓN ANIMAL                                            1\n",
       "MADRID SALUD - OAMR REGISTRO                                                1\n",
       "HACIENDA - OBJETOS PERDIDOS                                                 1\n",
       "HACIENDA - OAMR REGISTRO                                                    1\n",
       "CULTURA - BIBLIOTECAS                                                       1\n",
       "AGENCIA TRIBUTARIA - PLATAFORMA TRIBUTARIA                                  1\n",
       "AGENCIA TRIBUTARIA - ICIO                                                   1\n",
       "VIVIENDA - TESTIMONIOS                                                      1\n",
       "dtype: int64"
      ]
     },
     "execution_count": 81,
     "metadata": {},
     "output_type": "execute_result"
    }
   ],
   "source": [
    "ofis = df.groupby(['Oficina_Atencion', 'Agrupacion_Oficina_Atencion']).size().reset_index()\n",
    "ofis.groupby('Agrupacion_Oficina_Atencion').size().sort_values(ascending=False)"
   ]
  },
  {
   "cell_type": "markdown",
   "id": "caf9c3e9",
   "metadata": {},
   "source": [
    "# Feature Engineering"
   ]
  },
  {
   "cell_type": "code",
   "execution_count": 126,
   "id": "160318e1",
   "metadata": {},
   "outputs": [],
   "source": [
    "# strip whitespace from column names\n",
    "df.columns = df.columns.str.strip()"
   ]
  },
  {
   "cell_type": "code",
   "execution_count": 127,
   "id": "adb3e357",
   "metadata": {},
   "outputs": [
    {
     "data": {
      "text/html": [
       "<div>\n",
       "<style scoped>\n",
       "    .dataframe tbody tr th:only-of-type {\n",
       "        vertical-align: middle;\n",
       "    }\n",
       "\n",
       "    .dataframe tbody tr th {\n",
       "        vertical-align: top;\n",
       "    }\n",
       "\n",
       "    .dataframe thead th {\n",
       "        text-align: right;\n",
       "    }\n",
       "</style>\n",
       "<table border=\"1\" class=\"dataframe\">\n",
       "  <thead>\n",
       "    <tr style=\"text-align: right;\">\n",
       "      <th></th>\n",
       "      <th>Codigo_Cita</th>\n",
       "      <th>Agrupacion_Oficina_Atencion</th>\n",
       "      <th>Área_Gobierno_Atencion</th>\n",
       "      <th>Canal_Eliminacion</th>\n",
       "      <th>Agrupacion_Canal_Asignacion</th>\n",
       "      <th>Canal_Comunicacion</th>\n",
       "      <th>Cancelada_por_modificacion</th>\n",
       "      <th>Categoria</th>\n",
       "      <th>Codigo_WEM_Atencion</th>\n",
       "      <th>Codigo_distrito_atencion</th>\n",
       "      <th>Competencia_Distrito_Atencion</th>\n",
       "      <th>Recordatorio_Correo</th>\n",
       "      <th>Recordatorio_SMS</th>\n",
       "      <th>Demora</th>\n",
       "      <th>Canal_Asignacion</th>\n",
       "      <th>Entidad_Atencion</th>\n",
       "      <th>Estado_Cita</th>\n",
       "      <th>Fecha_Eliminacion</th>\n",
       "      <th>Fecha_Asignacion</th>\n",
       "      <th>Fecha_Cita</th>\n",
       "      <th>Genero</th>\n",
       "      <th>Distrito_Atencion</th>\n",
       "      <th>Oficina_Atencion</th>\n",
       "      <th>Tipo_Atencion</th>\n",
       "      <th>Tipo_Documento_Identidad</th>\n",
       "      <th>Tramite</th>\n",
       "      <th>FX_CARGA</th>\n",
       "      <th>Agrupacion_Oficina_Solicitud</th>\n",
       "      <th>Codigo_WEM_Solicitud</th>\n",
       "      <th>Distrito_Asignacion</th>\n",
       "      <th>Entidad_Asignacion</th>\n",
       "      <th>Oficina_Asignacion</th>\n",
       "      <th>dia_asignacion</th>\n",
       "      <th>dia_cita</th>\n",
       "      <th>hora_asignacion</th>\n",
       "      <th>rango_hora_asignacion</th>\n",
       "      <th>hora_cita</th>\n",
       "      <th>rango_hora_cita</th>\n",
       "      <th>dia_semana_asignacion</th>\n",
       "      <th>dia_semana_cita</th>\n",
       "    </tr>\n",
       "  </thead>\n",
       "  <tbody>\n",
       "    <tr>\n",
       "      <th>0</th>\n",
       "      <td>OAC-VICAL/052522793</td>\n",
       "      <td>LINEA MADRID</td>\n",
       "      <td>AG. VICEALCALDÍA, PORTAVOZ, SEGURIDAD Y EMERGE...</td>\n",
       "      <td>Email confirmacion</td>\n",
       "      <td>WEB</td>\n",
       "      <td>Ninguno</td>\n",
       "      <td>No</td>\n",
       "      <td>Padrón y censo</td>\n",
       "      <td>183881</td>\n",
       "      <td>19</td>\n",
       "      <td>0</td>\n",
       "      <td>0</td>\n",
       "      <td>0</td>\n",
       "      <td>1</td>\n",
       "      <td>Internet Web</td>\n",
       "      <td>LINEA MADRID</td>\n",
       "      <td>Cancelada</td>\n",
       "      <td>2025-01-08T22:02:16</td>\n",
       "      <td>2025-01-08T21:24:49</td>\n",
       "      <td>2025-01-09T15:20:00</td>\n",
       "      <td>2</td>\n",
       "      <td>Vicálvaro</td>\n",
       "      <td>OAC Vicálvaro</td>\n",
       "      <td>Presencial</td>\n",
       "      <td>DNI</td>\n",
       "      <td>Altas, bajas y cambio de domicilio en Padrón</td>\n",
       "      <td>2025-05-06 03:40:43</td>\n",
       "      <td>None</td>\n",
       "      <td>None</td>\n",
       "      <td>None</td>\n",
       "      <td>None</td>\n",
       "      <td>None</td>\n",
       "      <td>2025-01-08</td>\n",
       "      <td>2025-01-09</td>\n",
       "      <td>21:24:49</td>\n",
       "      <td>21</td>\n",
       "      <td>15:20:00</td>\n",
       "      <td>15</td>\n",
       "      <td>Wednesday</td>\n",
       "      <td>Thursday</td>\n",
       "    </tr>\n",
       "    <tr>\n",
       "      <th>1</th>\n",
       "      <td>OAC-USERA/052516010</td>\n",
       "      <td>LINEA MADRID</td>\n",
       "      <td>AG. VICEALCALDÍA, PORTAVOZ, SEGURIDAD Y EMERGE...</td>\n",
       "      <td>None</td>\n",
       "      <td>Telefónico</td>\n",
       "      <td>SMS</td>\n",
       "      <td>No</td>\n",
       "      <td>Urbanismo y Vivienda</td>\n",
       "      <td>181625</td>\n",
       "      <td>12</td>\n",
       "      <td>0</td>\n",
       "      <td>0</td>\n",
       "      <td>0</td>\n",
       "      <td>1</td>\n",
       "      <td>010</td>\n",
       "      <td>LINEA MADRID</td>\n",
       "      <td>Absentismo</td>\n",
       "      <td>None</td>\n",
       "      <td>2025-01-08T09:39:29</td>\n",
       "      <td>2025-01-09T11:00:00</td>\n",
       "      <td>2</td>\n",
       "      <td>Usera</td>\n",
       "      <td>OAC Usera</td>\n",
       "      <td>Presencial</td>\n",
       "      <td>DNI</td>\n",
       "      <td>Información urbanística general de las oficina...</td>\n",
       "      <td>2025-05-06 03:40:43</td>\n",
       "      <td>None</td>\n",
       "      <td>None</td>\n",
       "      <td>None</td>\n",
       "      <td>None</td>\n",
       "      <td>None</td>\n",
       "      <td>2025-01-08</td>\n",
       "      <td>2025-01-09</td>\n",
       "      <td>09:39:29</td>\n",
       "      <td>9</td>\n",
       "      <td>11:00:00</td>\n",
       "      <td>11</td>\n",
       "      <td>Wednesday</td>\n",
       "      <td>Thursday</td>\n",
       "    </tr>\n",
       "    <tr>\n",
       "      <th>2</th>\n",
       "      <td>OAC-PUENT/052493614</td>\n",
       "      <td>LINEA MADRID</td>\n",
       "      <td>AG. VICEALCALDÍA, PORTAVOZ, SEGURIDAD Y EMERGE...</td>\n",
       "      <td>None</td>\n",
       "      <td>WEB</td>\n",
       "      <td>Ninguno</td>\n",
       "      <td>No</td>\n",
       "      <td>Padrón y censo</td>\n",
       "      <td>182199</td>\n",
       "      <td>13</td>\n",
       "      <td>0</td>\n",
       "      <td>1</td>\n",
       "      <td>1</td>\n",
       "      <td>6</td>\n",
       "      <td>Internet Móvil</td>\n",
       "      <td>LINEA MADRID</td>\n",
       "      <td>Atendida</td>\n",
       "      <td>None</td>\n",
       "      <td>2025-01-02T23:24:21</td>\n",
       "      <td>2025-01-08T09:10:00</td>\n",
       "      <td>1</td>\n",
       "      <td>Puente de Vallecas</td>\n",
       "      <td>OAC Puente Vallecas</td>\n",
       "      <td>Presencial</td>\n",
       "      <td>Tarjeta Residencia</td>\n",
       "      <td>Altas, bajas y cambio de domicilio en Padrón</td>\n",
       "      <td>2025-05-06 03:40:43</td>\n",
       "      <td>None</td>\n",
       "      <td>None</td>\n",
       "      <td>None</td>\n",
       "      <td>None</td>\n",
       "      <td>None</td>\n",
       "      <td>2025-01-02</td>\n",
       "      <td>2025-01-08</td>\n",
       "      <td>23:24:21</td>\n",
       "      <td>23</td>\n",
       "      <td>09:10:00</td>\n",
       "      <td>9</td>\n",
       "      <td>Thursday</td>\n",
       "      <td>Wednesday</td>\n",
       "    </tr>\n",
       "    <tr>\n",
       "      <th>3</th>\n",
       "      <td>OAC-BARAJ/052496327</td>\n",
       "      <td>LINEA MADRID</td>\n",
       "      <td>AG. VICEALCALDÍA, PORTAVOZ, SEGURIDAD Y EMERGE...</td>\n",
       "      <td>None</td>\n",
       "      <td>WEB</td>\n",
       "      <td>Ninguno</td>\n",
       "      <td>No</td>\n",
       "      <td>Padrón y censo</td>\n",
       "      <td>180005</td>\n",
       "      <td>21</td>\n",
       "      <td>0</td>\n",
       "      <td>1</td>\n",
       "      <td>1</td>\n",
       "      <td>5</td>\n",
       "      <td>Internet Web</td>\n",
       "      <td>LINEA MADRID</td>\n",
       "      <td>Atendida</td>\n",
       "      <td>None</td>\n",
       "      <td>2025-01-03T11:05:06</td>\n",
       "      <td>2025-01-08T09:30:00</td>\n",
       "      <td>3</td>\n",
       "      <td>Barajas</td>\n",
       "      <td>OAC Barajas</td>\n",
       "      <td>Presencial</td>\n",
       "      <td>DNI</td>\n",
       "      <td>Altas, bajas y cambio de domicilio en Padrón</td>\n",
       "      <td>2025-05-06 03:40:43</td>\n",
       "      <td>None</td>\n",
       "      <td>None</td>\n",
       "      <td>None</td>\n",
       "      <td>None</td>\n",
       "      <td>None</td>\n",
       "      <td>2025-01-03</td>\n",
       "      <td>2025-01-08</td>\n",
       "      <td>11:05:06</td>\n",
       "      <td>11</td>\n",
       "      <td>09:30:00</td>\n",
       "      <td>9</td>\n",
       "      <td>Friday</td>\n",
       "      <td>Wednesday</td>\n",
       "    </tr>\n",
       "    <tr>\n",
       "      <th>4</th>\n",
       "      <td>OAC-HORTA/053153875</td>\n",
       "      <td>LINEA MADRID</td>\n",
       "      <td>AG. VICEALCALDÍA, PORTAVOZ, SEGURIDAD Y EMERGE...</td>\n",
       "      <td>None</td>\n",
       "      <td>WEB</td>\n",
       "      <td>Ninguno</td>\n",
       "      <td>No</td>\n",
       "      <td>Registro</td>\n",
       "      <td>182794</td>\n",
       "      <td>16</td>\n",
       "      <td>0</td>\n",
       "      <td>1</td>\n",
       "      <td>0</td>\n",
       "      <td>29</td>\n",
       "      <td>Internet Web</td>\n",
       "      <td>LINEA MADRID</td>\n",
       "      <td>Atendida</td>\n",
       "      <td>None</td>\n",
       "      <td>2025-03-27T10:27:39</td>\n",
       "      <td>2025-04-25T12:30:00</td>\n",
       "      <td>3</td>\n",
       "      <td>Hortaleza</td>\n",
       "      <td>OAC Hortaleza</td>\n",
       "      <td>Presencial</td>\n",
       "      <td>DNI</td>\n",
       "      <td>Registro</td>\n",
       "      <td>2025-05-06 03:40:43</td>\n",
       "      <td>None</td>\n",
       "      <td>None</td>\n",
       "      <td>None</td>\n",
       "      <td>None</td>\n",
       "      <td>None</td>\n",
       "      <td>2025-03-27</td>\n",
       "      <td>2025-04-25</td>\n",
       "      <td>10:27:39</td>\n",
       "      <td>10</td>\n",
       "      <td>12:30:00</td>\n",
       "      <td>12</td>\n",
       "      <td>Thursday</td>\n",
       "      <td>Friday</td>\n",
       "    </tr>\n",
       "  </tbody>\n",
       "</table>\n",
       "</div>"
      ],
      "text/plain": [
       "           Codigo_Cita Agrupacion_Oficina_Atencion  \\\n",
       "0  OAC-VICAL/052522793                LINEA MADRID   \n",
       "1  OAC-USERA/052516010                LINEA MADRID   \n",
       "2  OAC-PUENT/052493614                LINEA MADRID   \n",
       "3  OAC-BARAJ/052496327                LINEA MADRID   \n",
       "4  OAC-HORTA/053153875                LINEA MADRID   \n",
       "\n",
       "                              Área_Gobierno_Atencion   Canal_Eliminacion  \\\n",
       "0  AG. VICEALCALDÍA, PORTAVOZ, SEGURIDAD Y EMERGE...  Email confirmacion   \n",
       "1  AG. VICEALCALDÍA, PORTAVOZ, SEGURIDAD Y EMERGE...                None   \n",
       "2  AG. VICEALCALDÍA, PORTAVOZ, SEGURIDAD Y EMERGE...                None   \n",
       "3  AG. VICEALCALDÍA, PORTAVOZ, SEGURIDAD Y EMERGE...                None   \n",
       "4  AG. VICEALCALDÍA, PORTAVOZ, SEGURIDAD Y EMERGE...                None   \n",
       "\n",
       "  Agrupacion_Canal_Asignacion Canal_Comunicacion Cancelada_por_modificacion  \\\n",
       "0                         WEB            Ninguno                         No   \n",
       "1                  Telefónico                SMS                         No   \n",
       "2                         WEB            Ninguno                         No   \n",
       "3                         WEB            Ninguno                         No   \n",
       "4                         WEB            Ninguno                         No   \n",
       "\n",
       "              Categoria Codigo_WEM_Atencion Codigo_distrito_atencion  \\\n",
       "0        Padrón y censo              183881                       19   \n",
       "1  Urbanismo y Vivienda              181625                       12   \n",
       "2        Padrón y censo              182199                       13   \n",
       "3        Padrón y censo              180005                       21   \n",
       "4              Registro              182794                       16   \n",
       "\n",
       "   Competencia_Distrito_Atencion  Recordatorio_Correo  Recordatorio_SMS  \\\n",
       "0                              0                    0                 0   \n",
       "1                              0                    0                 0   \n",
       "2                              0                    1                 1   \n",
       "3                              0                    1                 1   \n",
       "4                              0                    1                 0   \n",
       "\n",
       "  Demora Canal_Asignacion Entidad_Atencion Estado_Cita    Fecha_Eliminacion  \\\n",
       "0      1     Internet Web     LINEA MADRID   Cancelada  2025-01-08T22:02:16   \n",
       "1      1              010     LINEA MADRID  Absentismo                 None   \n",
       "2      6   Internet Móvil     LINEA MADRID    Atendida                 None   \n",
       "3      5     Internet Web     LINEA MADRID    Atendida                 None   \n",
       "4     29     Internet Web     LINEA MADRID    Atendida                 None   \n",
       "\n",
       "      Fecha_Asignacion           Fecha_Cita  Genero   Distrito_Atencion  \\\n",
       "0  2025-01-08T21:24:49  2025-01-09T15:20:00       2           Vicálvaro   \n",
       "1  2025-01-08T09:39:29  2025-01-09T11:00:00       2               Usera   \n",
       "2  2025-01-02T23:24:21  2025-01-08T09:10:00       1  Puente de Vallecas   \n",
       "3  2025-01-03T11:05:06  2025-01-08T09:30:00       3             Barajas   \n",
       "4  2025-03-27T10:27:39  2025-04-25T12:30:00       3           Hortaleza   \n",
       "\n",
       "      Oficina_Atencion Tipo_Atencion Tipo_Documento_Identidad  \\\n",
       "0        OAC Vicálvaro    Presencial                      DNI   \n",
       "1            OAC Usera    Presencial                      DNI   \n",
       "2  OAC Puente Vallecas    Presencial       Tarjeta Residencia   \n",
       "3          OAC Barajas    Presencial                      DNI   \n",
       "4        OAC Hortaleza    Presencial                      DNI   \n",
       "\n",
       "                                             Tramite            FX_CARGA  \\\n",
       "0       Altas, bajas y cambio de domicilio en Padrón 2025-05-06 03:40:43   \n",
       "1  Información urbanística general de las oficina... 2025-05-06 03:40:43   \n",
       "2       Altas, bajas y cambio de domicilio en Padrón 2025-05-06 03:40:43   \n",
       "3       Altas, bajas y cambio de domicilio en Padrón 2025-05-06 03:40:43   \n",
       "4                                           Registro 2025-05-06 03:40:43   \n",
       "\n",
       "  Agrupacion_Oficina_Solicitud Codigo_WEM_Solicitud Distrito_Asignacion  \\\n",
       "0                         None                 None                None   \n",
       "1                         None                 None                None   \n",
       "2                         None                 None                None   \n",
       "3                         None                 None                None   \n",
       "4                         None                 None                None   \n",
       "\n",
       "  Entidad_Asignacion Oficina_Asignacion dia_asignacion    dia_cita  \\\n",
       "0               None               None     2025-01-08  2025-01-09   \n",
       "1               None               None     2025-01-08  2025-01-09   \n",
       "2               None               None     2025-01-02  2025-01-08   \n",
       "3               None               None     2025-01-03  2025-01-08   \n",
       "4               None               None     2025-03-27  2025-04-25   \n",
       "\n",
       "  hora_asignacion  rango_hora_asignacion hora_cita  rango_hora_cita  \\\n",
       "0        21:24:49                     21  15:20:00               15   \n",
       "1        09:39:29                      9  11:00:00               11   \n",
       "2        23:24:21                     23  09:10:00                9   \n",
       "3        11:05:06                     11  09:30:00                9   \n",
       "4        10:27:39                     10  12:30:00               12   \n",
       "\n",
       "  dia_semana_asignacion dia_semana_cita  \n",
       "0             Wednesday        Thursday  \n",
       "1             Wednesday        Thursday  \n",
       "2              Thursday       Wednesday  \n",
       "3                Friday       Wednesday  \n",
       "4              Thursday          Friday  "
      ]
     },
     "metadata": {},
     "output_type": "display_data"
    },
    {
     "data": {
      "text/plain": [
       "pandas.core.frame.DataFrame"
      ]
     },
     "metadata": {},
     "output_type": "display_data"
    }
   ],
   "source": [
    "# strip dates\n",
    "df['dia_asignacion'] = pd.to_datetime(df['Fecha_Asignacion']).dt.date\n",
    "df['dia_cita'] = pd.to_datetime(df['Fecha_Cita']).dt.date\n",
    "df['hora_asignacion'] = pd.to_datetime(df['Fecha_Asignacion']).dt.time\n",
    "df['rango_hora_asignacion'] = pd.to_datetime(df['Fecha_Asignacion']).dt.hour\n",
    "df['hora_cita'] = pd.to_datetime(df['Fecha_Cita']).dt.time\n",
    "df['rango_hora_cita'] = pd.to_datetime(df['Fecha_Cita']).dt.hour\n",
    "\n",
    "df['dia_semana_asignacion'] = pd.to_datetime(df['Fecha_Asignacion']).dt.day_name()\n",
    "df['dia_semana_cita'] = pd.to_datetime(df['Fecha_Cita']).dt.day_name()\n",
    "\n",
    "\n",
    "day_order = ['Monday', 'Tuesday', 'Wednesday', 'Thursday', 'Friday', 'Saturday', 'Sunday']\n",
    "\n",
    "df['dia_semana_asignacion'] = pd.Categorical(\n",
    "    df['dia_semana_asignacion'],\n",
    "    categories=day_order,\n",
    "    ordered=True\n",
    ")\n",
    "\n",
    "df['dia_semana_cita'] = pd.Categorical(\n",
    "    df['dia_semana_cita'],\n",
    "    categories=day_order,\n",
    "    ordered=True\n",
    ")\n",
    "\n",
    "\n",
    "\n",
    "\n",
    "display(df.head(5))\n",
    "display(type(df))\n"
   ]
  },
  {
   "cell_type": "code",
   "execution_count": null,
   "id": "df996d94",
   "metadata": {},
   "outputs": [
    {
     "name": "stderr",
     "output_type": "stream",
     "text": [
      "/var/folders/z0/vchk24hj0y707vpcv211pl1w0000gn/T/ipykernel_24148/4060142587.py:30: SettingWithCopyWarning:\n",
      "\n",
      "\n",
      "A value is trying to be set on a copy of a slice from a DataFrame.\n",
      "Try using .loc[row_indexer,col_indexer] = value instead\n",
      "\n",
      "See the caveats in the documentation: https://pandas.pydata.org/pandas-docs/stable/user_guide/indexing.html#returning-a-view-versus-a-copy\n",
      "\n",
      "/var/folders/z0/vchk24hj0y707vpcv211pl1w0000gn/T/ipykernel_24148/4060142587.py:30: SettingWithCopyWarning:\n",
      "\n",
      "\n",
      "A value is trying to be set on a copy of a slice from a DataFrame.\n",
      "Try using .loc[row_indexer,col_indexer] = value instead\n",
      "\n",
      "See the caveats in the documentation: https://pandas.pydata.org/pandas-docs/stable/user_guide/indexing.html#returning-a-view-versus-a-copy\n",
      "\n",
      "/var/folders/z0/vchk24hj0y707vpcv211pl1w0000gn/T/ipykernel_24148/4060142587.py:30: SettingWithCopyWarning:\n",
      "\n",
      "\n",
      "A value is trying to be set on a copy of a slice from a DataFrame.\n",
      "Try using .loc[row_indexer,col_indexer] = value instead\n",
      "\n",
      "See the caveats in the documentation: https://pandas.pydata.org/pandas-docs/stable/user_guide/indexing.html#returning-a-view-versus-a-copy\n",
      "\n",
      "/var/folders/z0/vchk24hj0y707vpcv211pl1w0000gn/T/ipykernel_24148/4060142587.py:30: SettingWithCopyWarning:\n",
      "\n",
      "\n",
      "A value is trying to be set on a copy of a slice from a DataFrame.\n",
      "Try using .loc[row_indexer,col_indexer] = value instead\n",
      "\n",
      "See the caveats in the documentation: https://pandas.pydata.org/pandas-docs/stable/user_guide/indexing.html#returning-a-view-versus-a-copy\n",
      "\n",
      "/var/folders/z0/vchk24hj0y707vpcv211pl1w0000gn/T/ipykernel_24148/4060142587.py:30: SettingWithCopyWarning:\n",
      "\n",
      "\n",
      "A value is trying to be set on a copy of a slice from a DataFrame.\n",
      "Try using .loc[row_indexer,col_indexer] = value instead\n",
      "\n",
      "See the caveats in the documentation: https://pandas.pydata.org/pandas-docs/stable/user_guide/indexing.html#returning-a-view-versus-a-copy\n",
      "\n",
      "/var/folders/z0/vchk24hj0y707vpcv211pl1w0000gn/T/ipykernel_24148/4060142587.py:30: SettingWithCopyWarning:\n",
      "\n",
      "\n",
      "A value is trying to be set on a copy of a slice from a DataFrame.\n",
      "Try using .loc[row_indexer,col_indexer] = value instead\n",
      "\n",
      "See the caveats in the documentation: https://pandas.pydata.org/pandas-docs/stable/user_guide/indexing.html#returning-a-view-versus-a-copy\n",
      "\n",
      "/var/folders/z0/vchk24hj0y707vpcv211pl1w0000gn/T/ipykernel_24148/4060142587.py:30: SettingWithCopyWarning:\n",
      "\n",
      "\n",
      "A value is trying to be set on a copy of a slice from a DataFrame.\n",
      "Try using .loc[row_indexer,col_indexer] = value instead\n",
      "\n",
      "See the caveats in the documentation: https://pandas.pydata.org/pandas-docs/stable/user_guide/indexing.html#returning-a-view-versus-a-copy\n",
      "\n",
      "/var/folders/z0/vchk24hj0y707vpcv211pl1w0000gn/T/ipykernel_24148/4060142587.py:30: SettingWithCopyWarning:\n",
      "\n",
      "\n",
      "A value is trying to be set on a copy of a slice from a DataFrame.\n",
      "Try using .loc[row_indexer,col_indexer] = value instead\n",
      "\n",
      "See the caveats in the documentation: https://pandas.pydata.org/pandas-docs/stable/user_guide/indexing.html#returning-a-view-versus-a-copy\n",
      "\n",
      "/var/folders/z0/vchk24hj0y707vpcv211pl1w0000gn/T/ipykernel_24148/4060142587.py:33: SettingWithCopyWarning:\n",
      "\n",
      "\n",
      "A value is trying to be set on a copy of a slice from a DataFrame.\n",
      "Try using .loc[row_indexer,col_indexer] = value instead\n",
      "\n",
      "See the caveats in the documentation: https://pandas.pydata.org/pandas-docs/stable/user_guide/indexing.html#returning-a-view-versus-a-copy\n",
      "\n"
     ]
    }
   ],
   "source": [
    "\n",
    "# Variables to keep for the model\n",
    "\n",
    "\n",
    "df_mod = df[[ 'Estado_Cita', 'Genero', 'Agrupacion_Oficina_Atencion', \n",
    "  'Oficina_Atencion', 'Categoria',\n",
    "  'Recordatorio_Correo', 'Recordatorio_SMS',\n",
    "    'Canal_Asignacion', 'Entidad_Atencion', 'Tramite',\n",
    "    'Tipo_Documento_Identidad','dia_semana_asignacion',\n",
    "    'dia_semana_cita', 'Demora', 'rango_hora_asignacion', 'rango_hora_cita' ]]\n",
    "\n",
    "\n",
    "\n",
    "categorical_cols = [\n",
    "  'Estado_Cita', 'Genero', 'Agrupacion_Oficina_Atencion', \n",
    "  'Oficina_Atencion', 'Categoria',\n",
    "  'Recordatorio_Correo', 'Recordatorio_SMS',\n",
    "    'Canal_Asignacion', 'Entidad_Atencion', 'Tramite',\n",
    "    'Tipo_Documento_Identidad','dia_semana_asignacion',\n",
    "    'dia_semana_cita',\n",
    "       \n",
    "]\n",
    "\n",
    "numerical_cols = [\n",
    "    'Demora', 'rango_hora_asignacion', 'rango_hora_cita'\n",
    "]\n",
    "\n",
    "\n",
    "\n",
    "\n",
    "# Convert columns to appropriate types\n",
    "\n",
    "for col in categorical_cols:\n",
    "    df_mod[col] = df_mod[col].astype(\"category\")\n",
    "    \n",
    "for col in numerical_cols:\n",
    "    df_mod[col] = pd.to_numeric(df_mod[col], errors='coerce')\n",
    "    \n"
   ]
  },
  {
   "cell_type": "code",
   "execution_count": 129,
   "id": "587ad50e",
   "metadata": {},
   "outputs": [
    {
     "name": "stdout",
     "output_type": "stream",
     "text": [
      "<class 'pandas.core.frame.DataFrame'>\n",
      "RangeIndex: 633937 entries, 0 to 633936\n",
      "Data columns (total 18 columns):\n",
      " #   Column                       Non-Null Count   Dtype         \n",
      "---  ------                       --------------   -----         \n",
      " 0   Estado_Cita                  633937 non-null  category      \n",
      " 1   Genero                       633937 non-null  category      \n",
      " 2   Agrupacion_Oficina_Atencion  633937 non-null  category      \n",
      " 3   Oficina_Atencion             633937 non-null  category      \n",
      " 4   Categoria                    633937 non-null  category      \n",
      " 5   Recordatorio_Correo          633937 non-null  category      \n",
      " 6   Recordatorio_SMS             633937 non-null  category      \n",
      " 7   Canal_Asignacion             633937 non-null  category      \n",
      " 8   Entidad_Atencion             633937 non-null  category      \n",
      " 9   Tramite                      633937 non-null  category      \n",
      " 10  Tipo_Documento_Identidad     633937 non-null  category      \n",
      " 11  dia_semana_asignacion        633937 non-null  category      \n",
      " 12  dia_semana_cita              633937 non-null  category      \n",
      " 13  Demora                       633937 non-null  int64         \n",
      " 14  rango_hora_asignacion        633937 non-null  int32         \n",
      " 15  rango_hora_cita              633937 non-null  int32         \n",
      " 16  dia_asignacion               633937 non-null  datetime64[ns]\n",
      " 17  dia_cita                     633937 non-null  datetime64[ns]\n",
      "dtypes: category(13), datetime64[ns](2), int32(2), int64(1)\n",
      "memory usage: 27.8 MB\n"
     ]
    }
   ],
   "source": [
    "df_mod.info()"
   ]
  },
  {
   "cell_type": "code",
   "execution_count": null,
   "id": "cf9db284",
   "metadata": {},
   "outputs": [
    {
     "name": "stderr",
     "output_type": "stream",
     "text": [
      "/var/folders/z0/vchk24hj0y707vpcv211pl1w0000gn/T/ipykernel_24148/2875621632.py:3: FutureWarning:\n",
      "\n",
      "The default of observed=False is deprecated and will be changed to True in a future version of pandas. Pass observed=False to retain current behavior or observed=True to adopt the future default and silence this warning.\n",
      "\n"
     ]
    },
    {
     "data": {
      "application/vnd.plotly.v1+json": {
       "config": {
        "plotlyServerURL": "https://plot.ly"
       },
       "data": [
        {
         "hovertemplate": "Estado_Cita=Atendida<br>dia_semana_cita=%{x}<br>counts=%{y}<extra></extra>",
         "legendgroup": "Atendida",
         "marker": {
          "color": "#636efa",
          "pattern": {
           "shape": ""
          }
         },
         "name": "Atendida",
         "orientation": "v",
         "showlegend": true,
         "textposition": "auto",
         "type": "bar",
         "x": [
          "Wednesday",
          "Monday",
          "Tuesday",
          "Thursday",
          "Friday",
          "Saturday",
          "Sunday"
         ],
         "xaxis": "x",
         "y": {
          "bdata": "jWEBAGM6AQD+IAEAxhABAIDrAACBAQAAAAAAAA==",
          "dtype": "i4"
         },
         "yaxis": "y"
        },
        {
         "hovertemplate": "Estado_Cita=Cancelada<br>dia_semana_cita=%{x}<br>counts=%{y}<extra></extra>",
         "legendgroup": "Cancelada",
         "marker": {
          "color": "#EF553B",
          "pattern": {
           "shape": ""
          }
         },
         "name": "Cancelada",
         "orientation": "v",
         "showlegend": true,
         "textposition": "auto",
         "type": "bar",
         "x": [
          "Wednesday",
          "Monday",
          "Tuesday",
          "Thursday",
          "Friday",
          "Saturday",
          "Sunday"
         ],
         "xaxis": "x",
         "y": {
          "bdata": "6YkAAFV8AABVaQAArmUAANpkAABqAQAAAQAAAA==",
          "dtype": "i4"
         },
         "yaxis": "y"
        },
        {
         "hovertemplate": "Estado_Cita=Absentismo<br>dia_semana_cita=%{x}<br>counts=%{y}<extra></extra>",
         "legendgroup": "Absentismo",
         "marker": {
          "color": "#00cc96",
          "pattern": {
           "shape": ""
          }
         },
         "name": "Absentismo",
         "orientation": "v",
         "showlegend": true,
         "textposition": "auto",
         "type": "bar",
         "x": [
          "Wednesday",
          "Monday",
          "Friday",
          "Tuesday",
          "Thursday",
          "Saturday",
          "Sunday"
         ],
         "xaxis": "x",
         "y": {
          "bdata": "2W9rZ4RMm0vvRcQAAAA=",
          "dtype": "i2"
         },
         "yaxis": "y"
        }
       ],
       "layout": {
        "barmode": "stack",
        "legend": {
         "title": {
          "text": "Estado_Cita"
         },
         "tracegroupgap": 0
        },
        "margin": {
         "t": 60
        },
        "template": {
         "data": {
          "bar": [
           {
            "error_x": {
             "color": "#2a3f5f"
            },
            "error_y": {
             "color": "#2a3f5f"
            },
            "marker": {
             "line": {
              "color": "#E5ECF6",
              "width": 0.5
             },
             "pattern": {
              "fillmode": "overlay",
              "size": 10,
              "solidity": 0.2
             }
            },
            "type": "bar"
           }
          ],
          "barpolar": [
           {
            "marker": {
             "line": {
              "color": "#E5ECF6",
              "width": 0.5
             },
             "pattern": {
              "fillmode": "overlay",
              "size": 10,
              "solidity": 0.2
             }
            },
            "type": "barpolar"
           }
          ],
          "carpet": [
           {
            "aaxis": {
             "endlinecolor": "#2a3f5f",
             "gridcolor": "white",
             "linecolor": "white",
             "minorgridcolor": "white",
             "startlinecolor": "#2a3f5f"
            },
            "baxis": {
             "endlinecolor": "#2a3f5f",
             "gridcolor": "white",
             "linecolor": "white",
             "minorgridcolor": "white",
             "startlinecolor": "#2a3f5f"
            },
            "type": "carpet"
           }
          ],
          "choropleth": [
           {
            "colorbar": {
             "outlinewidth": 0,
             "ticks": ""
            },
            "type": "choropleth"
           }
          ],
          "contour": [
           {
            "colorbar": {
             "outlinewidth": 0,
             "ticks": ""
            },
            "colorscale": [
             [
              0,
              "#0d0887"
             ],
             [
              0.1111111111111111,
              "#46039f"
             ],
             [
              0.2222222222222222,
              "#7201a8"
             ],
             [
              0.3333333333333333,
              "#9c179e"
             ],
             [
              0.4444444444444444,
              "#bd3786"
             ],
             [
              0.5555555555555556,
              "#d8576b"
             ],
             [
              0.6666666666666666,
              "#ed7953"
             ],
             [
              0.7777777777777778,
              "#fb9f3a"
             ],
             [
              0.8888888888888888,
              "#fdca26"
             ],
             [
              1,
              "#f0f921"
             ]
            ],
            "type": "contour"
           }
          ],
          "contourcarpet": [
           {
            "colorbar": {
             "outlinewidth": 0,
             "ticks": ""
            },
            "type": "contourcarpet"
           }
          ],
          "heatmap": [
           {
            "colorbar": {
             "outlinewidth": 0,
             "ticks": ""
            },
            "colorscale": [
             [
              0,
              "#0d0887"
             ],
             [
              0.1111111111111111,
              "#46039f"
             ],
             [
              0.2222222222222222,
              "#7201a8"
             ],
             [
              0.3333333333333333,
              "#9c179e"
             ],
             [
              0.4444444444444444,
              "#bd3786"
             ],
             [
              0.5555555555555556,
              "#d8576b"
             ],
             [
              0.6666666666666666,
              "#ed7953"
             ],
             [
              0.7777777777777778,
              "#fb9f3a"
             ],
             [
              0.8888888888888888,
              "#fdca26"
             ],
             [
              1,
              "#f0f921"
             ]
            ],
            "type": "heatmap"
           }
          ],
          "histogram": [
           {
            "marker": {
             "pattern": {
              "fillmode": "overlay",
              "size": 10,
              "solidity": 0.2
             }
            },
            "type": "histogram"
           }
          ],
          "histogram2d": [
           {
            "colorbar": {
             "outlinewidth": 0,
             "ticks": ""
            },
            "colorscale": [
             [
              0,
              "#0d0887"
             ],
             [
              0.1111111111111111,
              "#46039f"
             ],
             [
              0.2222222222222222,
              "#7201a8"
             ],
             [
              0.3333333333333333,
              "#9c179e"
             ],
             [
              0.4444444444444444,
              "#bd3786"
             ],
             [
              0.5555555555555556,
              "#d8576b"
             ],
             [
              0.6666666666666666,
              "#ed7953"
             ],
             [
              0.7777777777777778,
              "#fb9f3a"
             ],
             [
              0.8888888888888888,
              "#fdca26"
             ],
             [
              1,
              "#f0f921"
             ]
            ],
            "type": "histogram2d"
           }
          ],
          "histogram2dcontour": [
           {
            "colorbar": {
             "outlinewidth": 0,
             "ticks": ""
            },
            "colorscale": [
             [
              0,
              "#0d0887"
             ],
             [
              0.1111111111111111,
              "#46039f"
             ],
             [
              0.2222222222222222,
              "#7201a8"
             ],
             [
              0.3333333333333333,
              "#9c179e"
             ],
             [
              0.4444444444444444,
              "#bd3786"
             ],
             [
              0.5555555555555556,
              "#d8576b"
             ],
             [
              0.6666666666666666,
              "#ed7953"
             ],
             [
              0.7777777777777778,
              "#fb9f3a"
             ],
             [
              0.8888888888888888,
              "#fdca26"
             ],
             [
              1,
              "#f0f921"
             ]
            ],
            "type": "histogram2dcontour"
           }
          ],
          "mesh3d": [
           {
            "colorbar": {
             "outlinewidth": 0,
             "ticks": ""
            },
            "type": "mesh3d"
           }
          ],
          "parcoords": [
           {
            "line": {
             "colorbar": {
              "outlinewidth": 0,
              "ticks": ""
             }
            },
            "type": "parcoords"
           }
          ],
          "pie": [
           {
            "automargin": true,
            "type": "pie"
           }
          ],
          "scatter": [
           {
            "fillpattern": {
             "fillmode": "overlay",
             "size": 10,
             "solidity": 0.2
            },
            "type": "scatter"
           }
          ],
          "scatter3d": [
           {
            "line": {
             "colorbar": {
              "outlinewidth": 0,
              "ticks": ""
             }
            },
            "marker": {
             "colorbar": {
              "outlinewidth": 0,
              "ticks": ""
             }
            },
            "type": "scatter3d"
           }
          ],
          "scattercarpet": [
           {
            "marker": {
             "colorbar": {
              "outlinewidth": 0,
              "ticks": ""
             }
            },
            "type": "scattercarpet"
           }
          ],
          "scattergeo": [
           {
            "marker": {
             "colorbar": {
              "outlinewidth": 0,
              "ticks": ""
             }
            },
            "type": "scattergeo"
           }
          ],
          "scattergl": [
           {
            "marker": {
             "colorbar": {
              "outlinewidth": 0,
              "ticks": ""
             }
            },
            "type": "scattergl"
           }
          ],
          "scattermap": [
           {
            "marker": {
             "colorbar": {
              "outlinewidth": 0,
              "ticks": ""
             }
            },
            "type": "scattermap"
           }
          ],
          "scattermapbox": [
           {
            "marker": {
             "colorbar": {
              "outlinewidth": 0,
              "ticks": ""
             }
            },
            "type": "scattermapbox"
           }
          ],
          "scatterpolar": [
           {
            "marker": {
             "colorbar": {
              "outlinewidth": 0,
              "ticks": ""
             }
            },
            "type": "scatterpolar"
           }
          ],
          "scatterpolargl": [
           {
            "marker": {
             "colorbar": {
              "outlinewidth": 0,
              "ticks": ""
             }
            },
            "type": "scatterpolargl"
           }
          ],
          "scatterternary": [
           {
            "marker": {
             "colorbar": {
              "outlinewidth": 0,
              "ticks": ""
             }
            },
            "type": "scatterternary"
           }
          ],
          "surface": [
           {
            "colorbar": {
             "outlinewidth": 0,
             "ticks": ""
            },
            "colorscale": [
             [
              0,
              "#0d0887"
             ],
             [
              0.1111111111111111,
              "#46039f"
             ],
             [
              0.2222222222222222,
              "#7201a8"
             ],
             [
              0.3333333333333333,
              "#9c179e"
             ],
             [
              0.4444444444444444,
              "#bd3786"
             ],
             [
              0.5555555555555556,
              "#d8576b"
             ],
             [
              0.6666666666666666,
              "#ed7953"
             ],
             [
              0.7777777777777778,
              "#fb9f3a"
             ],
             [
              0.8888888888888888,
              "#fdca26"
             ],
             [
              1,
              "#f0f921"
             ]
            ],
            "type": "surface"
           }
          ],
          "table": [
           {
            "cells": {
             "fill": {
              "color": "#EBF0F8"
             },
             "line": {
              "color": "white"
             }
            },
            "header": {
             "fill": {
              "color": "#C8D4E3"
             },
             "line": {
              "color": "white"
             }
            },
            "type": "table"
           }
          ]
         },
         "layout": {
          "annotationdefaults": {
           "arrowcolor": "#2a3f5f",
           "arrowhead": 0,
           "arrowwidth": 1
          },
          "autotypenumbers": "strict",
          "coloraxis": {
           "colorbar": {
            "outlinewidth": 0,
            "ticks": ""
           }
          },
          "colorscale": {
           "diverging": [
            [
             0,
             "#8e0152"
            ],
            [
             0.1,
             "#c51b7d"
            ],
            [
             0.2,
             "#de77ae"
            ],
            [
             0.3,
             "#f1b6da"
            ],
            [
             0.4,
             "#fde0ef"
            ],
            [
             0.5,
             "#f7f7f7"
            ],
            [
             0.6,
             "#e6f5d0"
            ],
            [
             0.7,
             "#b8e186"
            ],
            [
             0.8,
             "#7fbc41"
            ],
            [
             0.9,
             "#4d9221"
            ],
            [
             1,
             "#276419"
            ]
           ],
           "sequential": [
            [
             0,
             "#0d0887"
            ],
            [
             0.1111111111111111,
             "#46039f"
            ],
            [
             0.2222222222222222,
             "#7201a8"
            ],
            [
             0.3333333333333333,
             "#9c179e"
            ],
            [
             0.4444444444444444,
             "#bd3786"
            ],
            [
             0.5555555555555556,
             "#d8576b"
            ],
            [
             0.6666666666666666,
             "#ed7953"
            ],
            [
             0.7777777777777778,
             "#fb9f3a"
            ],
            [
             0.8888888888888888,
             "#fdca26"
            ],
            [
             1,
             "#f0f921"
            ]
           ],
           "sequentialminus": [
            [
             0,
             "#0d0887"
            ],
            [
             0.1111111111111111,
             "#46039f"
            ],
            [
             0.2222222222222222,
             "#7201a8"
            ],
            [
             0.3333333333333333,
             "#9c179e"
            ],
            [
             0.4444444444444444,
             "#bd3786"
            ],
            [
             0.5555555555555556,
             "#d8576b"
            ],
            [
             0.6666666666666666,
             "#ed7953"
            ],
            [
             0.7777777777777778,
             "#fb9f3a"
            ],
            [
             0.8888888888888888,
             "#fdca26"
            ],
            [
             1,
             "#f0f921"
            ]
           ]
          },
          "colorway": [
           "#636efa",
           "#EF553B",
           "#00cc96",
           "#ab63fa",
           "#FFA15A",
           "#19d3f3",
           "#FF6692",
           "#B6E880",
           "#FF97FF",
           "#FECB52"
          ],
          "font": {
           "color": "#2a3f5f"
          },
          "geo": {
           "bgcolor": "white",
           "lakecolor": "white",
           "landcolor": "#E5ECF6",
           "showlakes": true,
           "showland": true,
           "subunitcolor": "white"
          },
          "hoverlabel": {
           "align": "left"
          },
          "hovermode": "closest",
          "mapbox": {
           "style": "light"
          },
          "paper_bgcolor": "white",
          "plot_bgcolor": "#E5ECF6",
          "polar": {
           "angularaxis": {
            "gridcolor": "white",
            "linecolor": "white",
            "ticks": ""
           },
           "bgcolor": "#E5ECF6",
           "radialaxis": {
            "gridcolor": "white",
            "linecolor": "white",
            "ticks": ""
           }
          },
          "scene": {
           "xaxis": {
            "backgroundcolor": "#E5ECF6",
            "gridcolor": "white",
            "gridwidth": 2,
            "linecolor": "white",
            "showbackground": true,
            "ticks": "",
            "zerolinecolor": "white"
           },
           "yaxis": {
            "backgroundcolor": "#E5ECF6",
            "gridcolor": "white",
            "gridwidth": 2,
            "linecolor": "white",
            "showbackground": true,
            "ticks": "",
            "zerolinecolor": "white"
           },
           "zaxis": {
            "backgroundcolor": "#E5ECF6",
            "gridcolor": "white",
            "gridwidth": 2,
            "linecolor": "white",
            "showbackground": true,
            "ticks": "",
            "zerolinecolor": "white"
           }
          },
          "shapedefaults": {
           "line": {
            "color": "#2a3f5f"
           }
          },
          "ternary": {
           "aaxis": {
            "gridcolor": "white",
            "linecolor": "white",
            "ticks": ""
           },
           "baxis": {
            "gridcolor": "white",
            "linecolor": "white",
            "ticks": ""
           },
           "bgcolor": "#E5ECF6",
           "caxis": {
            "gridcolor": "white",
            "linecolor": "white",
            "ticks": ""
           }
          },
          "title": {
           "x": 0.05
          },
          "xaxis": {
           "automargin": true,
           "gridcolor": "white",
           "linecolor": "white",
           "ticks": "",
           "title": {
            "standoff": 15
           },
           "zerolinecolor": "white",
           "zerolinewidth": 2
          },
          "yaxis": {
           "automargin": true,
           "gridcolor": "white",
           "linecolor": "white",
           "ticks": "",
           "title": {
            "standoff": 15
           },
           "zerolinecolor": "white",
           "zerolinewidth": 2
          }
         }
        },
        "xaxis": {
         "anchor": "y",
         "categoryarray": [
          "Monday",
          "Tuesday",
          "Wednesday",
          "Thursday",
          "Friday",
          "Saturday",
          "Sunday"
         ],
         "categoryorder": "array",
         "domain": [
          0,
          1
         ],
         "title": {
          "text": "dia_semana_cita"
         }
        },
        "yaxis": {
         "anchor": "x",
         "domain": [
          0,
          1
         ],
         "title": {
          "text": "counts"
         }
        }
       }
      }
     },
     "metadata": {},
     "output_type": "display_data"
    }
   ],
   "source": [
    "import nbformat\n",
    "\n",
    "weekly_counts = df.groupby(['Estado_Cita', 'dia_semana_cita']).size().reset_index(name='counts').sort_values(by='counts', ascending=False)\n",
    "\n",
    "\n",
    "day_order = ['Monday', 'Tuesday', 'Wednesday', 'Thursday', 'Friday', 'Saturday', 'Sunday']\n",
    "\n",
    "weekly_counts['dia_semana_cita'] = pd.Categorical(\n",
    "    weekly_counts['dia_semana_cita'],\n",
    "    categories=day_order,\n",
    "    ordered=True\n",
    ")\n",
    "\n",
    "fig =  px.bar(\n",
    "    weekly_counts,\n",
    "    x=\"dia_semana_cita\",\n",
    "    y=\"counts\",\n",
    "    color=\"Estado_Cita\",  # this becomes the 'fill' in ggplot\n",
    "    barmode=\"stack\" , \n",
    "    title = \"Citas por dia de la semana\",\n",
    "    category_orders={\"dia_semana_cita\": day_order})\n",
    "\n",
    "fig.show()"
   ]
  },
  {
   "cell_type": "code",
   "execution_count": null,
   "id": "caf62ca0",
   "metadata": {},
   "outputs": [
    {
     "name": "stderr",
     "output_type": "stream",
     "text": [
      "/var/folders/z0/vchk24hj0y707vpcv211pl1w0000gn/T/ipykernel_24148/929957495.py:15: FutureWarning:\n",
      "\n",
      "The default of observed=False is deprecated and will be changed to True in a future version of pandas. Pass observed=False to retain current behavior or observed=True to adopt the future default and silence this warning.\n",
      "\n"
     ]
    },
    {
     "data": {
      "text/html": [
       "<div>\n",
       "<style scoped>\n",
       "    .dataframe tbody tr th:only-of-type {\n",
       "        vertical-align: middle;\n",
       "    }\n",
       "\n",
       "    .dataframe tbody tr th {\n",
       "        vertical-align: top;\n",
       "    }\n",
       "\n",
       "    .dataframe thead th {\n",
       "        text-align: right;\n",
       "    }\n",
       "</style>\n",
       "<table border=\"1\" class=\"dataframe\">\n",
       "  <thead>\n",
       "    <tr style=\"text-align: right;\">\n",
       "      <th></th>\n",
       "      <th>Estado_Cita</th>\n",
       "      <th>rango_hora_cita</th>\n",
       "      <th>dia_semana_cita</th>\n",
       "      <th>counts</th>\n",
       "    </tr>\n",
       "  </thead>\n",
       "  <tbody>\n",
       "    <tr>\n",
       "      <th>72</th>\n",
       "      <td>Atendida</td>\n",
       "      <td>9</td>\n",
       "      <td>Wednesday</td>\n",
       "      <td>18144</td>\n",
       "    </tr>\n",
       "    <tr>\n",
       "      <th>87</th>\n",
       "      <td>Atendida</td>\n",
       "      <td>12</td>\n",
       "      <td>Wednesday</td>\n",
       "      <td>16793</td>\n",
       "    </tr>\n",
       "    <tr>\n",
       "      <th>70</th>\n",
       "      <td>Atendida</td>\n",
       "      <td>9</td>\n",
       "      <td>Monday</td>\n",
       "      <td>16182</td>\n",
       "    </tr>\n",
       "    <tr>\n",
       "      <th>89</th>\n",
       "      <td>Atendida</td>\n",
       "      <td>12</td>\n",
       "      <td>Friday</td>\n",
       "      <td>15588</td>\n",
       "    </tr>\n",
       "    <tr>\n",
       "      <th>85</th>\n",
       "      <td>Atendida</td>\n",
       "      <td>12</td>\n",
       "      <td>Monday</td>\n",
       "      <td>15304</td>\n",
       "    </tr>\n",
       "    <tr>\n",
       "      <th>...</th>\n",
       "      <td>...</td>\n",
       "      <td>...</td>\n",
       "      <td>...</td>\n",
       "      <td>...</td>\n",
       "    </tr>\n",
       "    <tr>\n",
       "      <th>64</th>\n",
       "      <td>Absentismo</td>\n",
       "      <td>20</td>\n",
       "      <td>Friday</td>\n",
       "      <td>0</td>\n",
       "    </tr>\n",
       "    <tr>\n",
       "      <th>190</th>\n",
       "      <td>Cancelada</td>\n",
       "      <td>20</td>\n",
       "      <td>Monday</td>\n",
       "      <td>0</td>\n",
       "    </tr>\n",
       "    <tr>\n",
       "      <th>126</th>\n",
       "      <td>Atendida</td>\n",
       "      <td>20</td>\n",
       "      <td>Tuesday</td>\n",
       "      <td>0</td>\n",
       "    </tr>\n",
       "    <tr>\n",
       "      <th>127</th>\n",
       "      <td>Atendida</td>\n",
       "      <td>20</td>\n",
       "      <td>Wednesday</td>\n",
       "      <td>0</td>\n",
       "    </tr>\n",
       "    <tr>\n",
       "      <th>194</th>\n",
       "      <td>Cancelada</td>\n",
       "      <td>20</td>\n",
       "      <td>Friday</td>\n",
       "      <td>0</td>\n",
       "    </tr>\n",
       "  </tbody>\n",
       "</table>\n",
       "<p>195 rows × 4 columns</p>\n",
       "</div>"
      ],
      "text/plain": [
       "    Estado_Cita  rango_hora_cita dia_semana_cita  counts\n",
       "72     Atendida                9       Wednesday   18144\n",
       "87     Atendida               12       Wednesday   16793\n",
       "70     Atendida                9          Monday   16182\n",
       "89     Atendida               12          Friday   15588\n",
       "85     Atendida               12          Monday   15304\n",
       "..          ...              ...             ...     ...\n",
       "64   Absentismo               20          Friday       0\n",
       "190   Cancelada               20          Monday       0\n",
       "126    Atendida               20         Tuesday       0\n",
       "127    Atendida               20       Wednesday       0\n",
       "194   Cancelada               20          Friday       0\n",
       "\n",
       "[195 rows x 4 columns]"
      ]
     },
     "execution_count": 24,
     "metadata": {},
     "output_type": "execute_result"
    }
   ],
   "source": [
    "# Create a heatmap\n",
    "day_order = ['Monday', 'Tuesday', 'Wednesday', 'Thursday', 'Friday']\n",
    "\n",
    "df_filtered = df[\n",
    "    (df['rango_hora_cita'] >= 8) &\n",
    "    (df['dia_semana_cita'].isin(day_order))\n",
    "].copy()\n",
    "\n",
    "df_filtered['dia_semana_cita'] = pd.Categorical(\n",
    "    df_filtered['dia_semana_cita'],\n",
    "    categories=day_order,\n",
    "    ordered=True\n",
    ")\n",
    "\n",
    "df_heatmap = df_filtered.groupby(['Estado_Cita', 'rango_hora_cita', 'dia_semana_cita']).size().reset_index(name='counts').sort_values(by='counts', ascending=False)\n",
    "\n",
    "df_heatmap"
   ]
  },
  {
   "cell_type": "code",
   "execution_count": null,
   "id": "c8194b58",
   "metadata": {},
   "outputs": [
    {
     "data": {
      "application/vnd.plotly.v1+json": {
       "config": {
        "plotlyServerURL": "https://plot.ly"
       },
       "data": [
        {
         "coloraxis": "coloraxis",
         "histfunc": "sum",
         "hovertemplate": "Weekday=%{x}<br>rango_hora_cita=%{y}<br>sum of counts=%{z}<extra></extra>",
         "name": "",
         "nbinsx": 5,
         "nbinsy": 13,
         "type": "histogram2d",
         "x": [
          "Wednesday",
          "Wednesday",
          "Monday",
          "Friday",
          "Monday",
          "Tuesday",
          "Thursday",
          "Tuesday",
          "Thursday",
          "Wednesday",
          "Wednesday",
          "Monday",
          "Friday",
          "Friday",
          "Wednesday",
          "Tuesday",
          "Monday",
          "Thursday",
          "Friday",
          "Monday",
          "Friday",
          "Tuesday",
          "Tuesday",
          "Thursday",
          "Wednesday",
          "Thursday",
          "Monday",
          "Friday",
          "Wednesday",
          "Wednesday",
          "Tuesday",
          "Thursday",
          "Monday",
          "Wednesday",
          "Monday",
          "Tuesday",
          "Wednesday",
          "Thursday",
          "Wednesday",
          "Tuesday",
          "Monday",
          "Monday",
          "Wednesday",
          "Friday",
          "Thursday",
          "Monday",
          "Thursday",
          "Tuesday",
          "Monday",
          "Wednesday",
          "Wednesday",
          "Friday",
          "Friday",
          "Wednesday",
          "Tuesday",
          "Wednesday",
          "Tuesday",
          "Friday",
          "Thursday",
          "Wednesday",
          "Tuesday",
          "Monday",
          "Monday",
          "Friday",
          "Monday",
          "Wednesday",
          "Monday",
          "Thursday",
          "Monday",
          "Monday",
          "Thursday",
          "Tuesday",
          "Friday",
          "Tuesday",
          "Thursday",
          "Thursday",
          "Tuesday",
          "Wednesday",
          "Friday",
          "Thursday",
          "Tuesday",
          "Friday",
          "Thursday",
          "Monday",
          "Friday",
          "Tuesday",
          "Wednesday",
          "Thursday",
          "Tuesday",
          "Tuesday",
          "Thursday",
          "Thursday",
          "Monday",
          "Wednesday",
          "Monday",
          "Tuesday",
          "Thursday",
          "Monday",
          "Tuesday",
          "Wednesday",
          "Thursday",
          "Wednesday",
          "Friday",
          "Wednesday",
          "Monday",
          "Friday",
          "Tuesday",
          "Monday",
          "Tuesday",
          "Tuesday",
          "Friday",
          "Wednesday",
          "Thursday",
          "Monday",
          "Wednesday",
          "Tuesday",
          "Thursday",
          "Thursday",
          "Monday",
          "Thursday",
          "Wednesday",
          "Monday",
          "Tuesday",
          "Friday",
          "Wednesday",
          "Tuesday",
          "Thursday",
          "Monday",
          "Thursday",
          "Wednesday",
          "Tuesday",
          "Friday",
          "Friday",
          "Wednesday",
          "Friday",
          "Friday",
          "Friday",
          "Friday",
          "Wednesday",
          "Monday",
          "Friday",
          "Monday",
          "Friday",
          "Thursday",
          "Monday",
          "Tuesday",
          "Wednesday",
          "Friday",
          "Wednesday",
          "Monday",
          "Friday",
          "Tuesday",
          "Friday",
          "Tuesday",
          "Wednesday",
          "Monday",
          "Thursday",
          "Thursday",
          "Thursday",
          "Friday",
          "Tuesday",
          "Tuesday",
          "Tuesday",
          "Friday",
          "Wednesday",
          "Monday",
          "Thursday",
          "Monday",
          "Friday",
          "Wednesday",
          "Friday",
          "Tuesday",
          "Thursday",
          "Tuesday",
          "Thursday",
          "Friday",
          "Monday",
          "Friday",
          "Thursday",
          "Thursday",
          "Monday",
          "Monday",
          "Friday",
          "Wednesday",
          "Thursday",
          "Tuesday",
          "Thursday",
          "Tuesday",
          "Thursday",
          "Wednesday",
          "Friday",
          "Monday",
          "Tuesday",
          "Wednesday",
          "Friday"
         ],
         "xaxis": "x",
         "xbingroup": "x",
         "y": {
          "bdata": "CQAAAAwAAAAJAAAADAAAAAwAAAAJAAAACQAAAAwAAAAMAAAACgAAAA0AAAAKAAAACQAAAAoAAAALAAAADQAAAA0AAAANAAAACwAAAAsAAAANAAAACgAAAAsAAAAKAAAACQAAAAsAAAAJAAAADAAAAAgAAAAMAAAACAAAAAgAAAAMAAAADwAAAAgAAAAJAAAADAAAAAkAAAAJAAAADwAAAA8AAAAMAAAACgAAAAwAAAAPAAAACQAAAAwAAAAMAAAACgAAABAAAAAKAAAACQAAAAoAAAANAAAADgAAAA4AAAAJAAAACwAAAA4AAAALAAAAEAAAAA0AAAANAAAADQAAABAAAAANAAAACgAAAAkAAAALAAAADgAAAA0AAAAMAAAACgAAAA0AAAAMAAAAEAAAAAoAAAALAAAACQAAAAoAAAALAAAADQAAAAsAAAALAAAACwAAAA0AAAAIAAAADQAAAAgAAAAKAAAACAAAAAoAAAAIAAAADwAAAA8AAAALAAAACwAAAA8AAAAPAAAAEAAAAA8AAAAPAAAACAAAAAgAAAAQAAAAEAAAAAgAAAAQAAAADwAAABAAAAAPAAAAEAAAAA4AAAAIAAAADgAAAA4AAAAIAAAAEAAAAA4AAAAPAAAAEgAAAA4AAAAQAAAAEgAAAA4AAAAOAAAAEAAAABIAAAAOAAAAEQAAABIAAAAQAAAADwAAABIAAAARAAAACAAAABIAAAAQAAAAEgAAABEAAAASAAAAEgAAAA8AAAASAAAAEgAAABIAAAARAAAACAAAABEAAAARAAAAEQAAABIAAAARAAAAEQAAABMAAAARAAAAEgAAABEAAAASAAAAEwAAABMAAAARAAAAEQAAAA4AAAATAAAAEwAAABEAAAATAAAAEwAAABMAAAATAAAAEwAAABMAAAATAAAAEQAAAA4AAAATAAAADgAAABMAAAATAAAAFAAAABQAAAAUAAAAFAAAABQAAAAUAAAAFAAAABQAAAAUAAAAFAAAABQAAAAUAAAAFAAAABQAAAAUAAAA",
          "dtype": "i4"
         },
         "yaxis": "y",
         "ybingroup": "y",
         "z": {
          "bdata": "4EaZQTY/5DzIOxg3djWWNP0yLy9dKtMpMym3KDImiyVeJWIkjSPHInMg/h9wHmoe7ByuHFsaoxl4GQQZrhhFFxAX4BbaFh0WzRV4FWsVuhSNFBMUMRPYEnESNxI3EuIRJhGuEJsQihBCEDYQ5w+gD4YPZg8/D+wOsQ6VDn0OUQ41DvIN3Q3ZDcMNdg0JDQcN8gzhDG4MZgxRDDoM9gtLCz8LOQugCowKhAqJCX8JQQkrCRsJEAn6CJgICAhvB1IHHwf7BuUGdQZkBkwG0gWWBZYFcQVcBU4FMwUuBSkFKAUZBRAFDgXzBPAEwAS2BJAEUAQ8BPwD3gPRA4YDbQNmA1sDEgP/AskCuQK3AqkCpQKHAnECawI8AjkCKwL3AesBxQGkAY4BigGJAYgBhAGCAW8BawFOAUQBNQElASEBAAHrANMAyAC+AL4AtACrAKkApgCjAJIAjwBtAGoAZQBjAFgAUwA5ACQABAACAAEAAQABAAEAAQAAAAAAAAAAAAAAAAAAAAAA",
          "dtype": "i2"
         }
        }
       ],
       "layout": {
        "coloraxis": {
         "colorbar": {
          "title": {
           "text": "sum of counts"
          }
         },
         "colorscale": [
          [
           0,
           "rgb(255,255,229)"
          ],
          [
           0.125,
           "rgb(255,247,188)"
          ],
          [
           0.25,
           "rgb(254,227,145)"
          ],
          [
           0.375,
           "rgb(254,196,79)"
          ],
          [
           0.5,
           "rgb(254,153,41)"
          ],
          [
           0.625,
           "rgb(236,112,20)"
          ],
          [
           0.75,
           "rgb(204,76,2)"
          ],
          [
           0.875,
           "rgb(153,52,4)"
          ],
          [
           1,
           "rgb(102,37,6)"
          ]
         ]
        },
        "legend": {
         "tracegroupgap": 0
        },
        "margin": {
         "t": 60
        },
        "template": {
         "data": {
          "bar": [
           {
            "error_x": {
             "color": "#2a3f5f"
            },
            "error_y": {
             "color": "#2a3f5f"
            },
            "marker": {
             "line": {
              "color": "#E5ECF6",
              "width": 0.5
             },
             "pattern": {
              "fillmode": "overlay",
              "size": 10,
              "solidity": 0.2
             }
            },
            "type": "bar"
           }
          ],
          "barpolar": [
           {
            "marker": {
             "line": {
              "color": "#E5ECF6",
              "width": 0.5
             },
             "pattern": {
              "fillmode": "overlay",
              "size": 10,
              "solidity": 0.2
             }
            },
            "type": "barpolar"
           }
          ],
          "carpet": [
           {
            "aaxis": {
             "endlinecolor": "#2a3f5f",
             "gridcolor": "white",
             "linecolor": "white",
             "minorgridcolor": "white",
             "startlinecolor": "#2a3f5f"
            },
            "baxis": {
             "endlinecolor": "#2a3f5f",
             "gridcolor": "white",
             "linecolor": "white",
             "minorgridcolor": "white",
             "startlinecolor": "#2a3f5f"
            },
            "type": "carpet"
           }
          ],
          "choropleth": [
           {
            "colorbar": {
             "outlinewidth": 0,
             "ticks": ""
            },
            "type": "choropleth"
           }
          ],
          "contour": [
           {
            "colorbar": {
             "outlinewidth": 0,
             "ticks": ""
            },
            "colorscale": [
             [
              0,
              "#0d0887"
             ],
             [
              0.1111111111111111,
              "#46039f"
             ],
             [
              0.2222222222222222,
              "#7201a8"
             ],
             [
              0.3333333333333333,
              "#9c179e"
             ],
             [
              0.4444444444444444,
              "#bd3786"
             ],
             [
              0.5555555555555556,
              "#d8576b"
             ],
             [
              0.6666666666666666,
              "#ed7953"
             ],
             [
              0.7777777777777778,
              "#fb9f3a"
             ],
             [
              0.8888888888888888,
              "#fdca26"
             ],
             [
              1,
              "#f0f921"
             ]
            ],
            "type": "contour"
           }
          ],
          "contourcarpet": [
           {
            "colorbar": {
             "outlinewidth": 0,
             "ticks": ""
            },
            "type": "contourcarpet"
           }
          ],
          "heatmap": [
           {
            "colorbar": {
             "outlinewidth": 0,
             "ticks": ""
            },
            "colorscale": [
             [
              0,
              "#0d0887"
             ],
             [
              0.1111111111111111,
              "#46039f"
             ],
             [
              0.2222222222222222,
              "#7201a8"
             ],
             [
              0.3333333333333333,
              "#9c179e"
             ],
             [
              0.4444444444444444,
              "#bd3786"
             ],
             [
              0.5555555555555556,
              "#d8576b"
             ],
             [
              0.6666666666666666,
              "#ed7953"
             ],
             [
              0.7777777777777778,
              "#fb9f3a"
             ],
             [
              0.8888888888888888,
              "#fdca26"
             ],
             [
              1,
              "#f0f921"
             ]
            ],
            "type": "heatmap"
           }
          ],
          "histogram": [
           {
            "marker": {
             "pattern": {
              "fillmode": "overlay",
              "size": 10,
              "solidity": 0.2
             }
            },
            "type": "histogram"
           }
          ],
          "histogram2d": [
           {
            "colorbar": {
             "outlinewidth": 0,
             "ticks": ""
            },
            "colorscale": [
             [
              0,
              "#0d0887"
             ],
             [
              0.1111111111111111,
              "#46039f"
             ],
             [
              0.2222222222222222,
              "#7201a8"
             ],
             [
              0.3333333333333333,
              "#9c179e"
             ],
             [
              0.4444444444444444,
              "#bd3786"
             ],
             [
              0.5555555555555556,
              "#d8576b"
             ],
             [
              0.6666666666666666,
              "#ed7953"
             ],
             [
              0.7777777777777778,
              "#fb9f3a"
             ],
             [
              0.8888888888888888,
              "#fdca26"
             ],
             [
              1,
              "#f0f921"
             ]
            ],
            "type": "histogram2d"
           }
          ],
          "histogram2dcontour": [
           {
            "colorbar": {
             "outlinewidth": 0,
             "ticks": ""
            },
            "colorscale": [
             [
              0,
              "#0d0887"
             ],
             [
              0.1111111111111111,
              "#46039f"
             ],
             [
              0.2222222222222222,
              "#7201a8"
             ],
             [
              0.3333333333333333,
              "#9c179e"
             ],
             [
              0.4444444444444444,
              "#bd3786"
             ],
             [
              0.5555555555555556,
              "#d8576b"
             ],
             [
              0.6666666666666666,
              "#ed7953"
             ],
             [
              0.7777777777777778,
              "#fb9f3a"
             ],
             [
              0.8888888888888888,
              "#fdca26"
             ],
             [
              1,
              "#f0f921"
             ]
            ],
            "type": "histogram2dcontour"
           }
          ],
          "mesh3d": [
           {
            "colorbar": {
             "outlinewidth": 0,
             "ticks": ""
            },
            "type": "mesh3d"
           }
          ],
          "parcoords": [
           {
            "line": {
             "colorbar": {
              "outlinewidth": 0,
              "ticks": ""
             }
            },
            "type": "parcoords"
           }
          ],
          "pie": [
           {
            "automargin": true,
            "type": "pie"
           }
          ],
          "scatter": [
           {
            "fillpattern": {
             "fillmode": "overlay",
             "size": 10,
             "solidity": 0.2
            },
            "type": "scatter"
           }
          ],
          "scatter3d": [
           {
            "line": {
             "colorbar": {
              "outlinewidth": 0,
              "ticks": ""
             }
            },
            "marker": {
             "colorbar": {
              "outlinewidth": 0,
              "ticks": ""
             }
            },
            "type": "scatter3d"
           }
          ],
          "scattercarpet": [
           {
            "marker": {
             "colorbar": {
              "outlinewidth": 0,
              "ticks": ""
             }
            },
            "type": "scattercarpet"
           }
          ],
          "scattergeo": [
           {
            "marker": {
             "colorbar": {
              "outlinewidth": 0,
              "ticks": ""
             }
            },
            "type": "scattergeo"
           }
          ],
          "scattergl": [
           {
            "marker": {
             "colorbar": {
              "outlinewidth": 0,
              "ticks": ""
             }
            },
            "type": "scattergl"
           }
          ],
          "scattermap": [
           {
            "marker": {
             "colorbar": {
              "outlinewidth": 0,
              "ticks": ""
             }
            },
            "type": "scattermap"
           }
          ],
          "scattermapbox": [
           {
            "marker": {
             "colorbar": {
              "outlinewidth": 0,
              "ticks": ""
             }
            },
            "type": "scattermapbox"
           }
          ],
          "scatterpolar": [
           {
            "marker": {
             "colorbar": {
              "outlinewidth": 0,
              "ticks": ""
             }
            },
            "type": "scatterpolar"
           }
          ],
          "scatterpolargl": [
           {
            "marker": {
             "colorbar": {
              "outlinewidth": 0,
              "ticks": ""
             }
            },
            "type": "scatterpolargl"
           }
          ],
          "scatterternary": [
           {
            "marker": {
             "colorbar": {
              "outlinewidth": 0,
              "ticks": ""
             }
            },
            "type": "scatterternary"
           }
          ],
          "surface": [
           {
            "colorbar": {
             "outlinewidth": 0,
             "ticks": ""
            },
            "colorscale": [
             [
              0,
              "#0d0887"
             ],
             [
              0.1111111111111111,
              "#46039f"
             ],
             [
              0.2222222222222222,
              "#7201a8"
             ],
             [
              0.3333333333333333,
              "#9c179e"
             ],
             [
              0.4444444444444444,
              "#bd3786"
             ],
             [
              0.5555555555555556,
              "#d8576b"
             ],
             [
              0.6666666666666666,
              "#ed7953"
             ],
             [
              0.7777777777777778,
              "#fb9f3a"
             ],
             [
              0.8888888888888888,
              "#fdca26"
             ],
             [
              1,
              "#f0f921"
             ]
            ],
            "type": "surface"
           }
          ],
          "table": [
           {
            "cells": {
             "fill": {
              "color": "#EBF0F8"
             },
             "line": {
              "color": "white"
             }
            },
            "header": {
             "fill": {
              "color": "#C8D4E3"
             },
             "line": {
              "color": "white"
             }
            },
            "type": "table"
           }
          ]
         },
         "layout": {
          "annotationdefaults": {
           "arrowcolor": "#2a3f5f",
           "arrowhead": 0,
           "arrowwidth": 1
          },
          "autotypenumbers": "strict",
          "coloraxis": {
           "colorbar": {
            "outlinewidth": 0,
            "ticks": ""
           }
          },
          "colorscale": {
           "diverging": [
            [
             0,
             "#8e0152"
            ],
            [
             0.1,
             "#c51b7d"
            ],
            [
             0.2,
             "#de77ae"
            ],
            [
             0.3,
             "#f1b6da"
            ],
            [
             0.4,
             "#fde0ef"
            ],
            [
             0.5,
             "#f7f7f7"
            ],
            [
             0.6,
             "#e6f5d0"
            ],
            [
             0.7,
             "#b8e186"
            ],
            [
             0.8,
             "#7fbc41"
            ],
            [
             0.9,
             "#4d9221"
            ],
            [
             1,
             "#276419"
            ]
           ],
           "sequential": [
            [
             0,
             "#0d0887"
            ],
            [
             0.1111111111111111,
             "#46039f"
            ],
            [
             0.2222222222222222,
             "#7201a8"
            ],
            [
             0.3333333333333333,
             "#9c179e"
            ],
            [
             0.4444444444444444,
             "#bd3786"
            ],
            [
             0.5555555555555556,
             "#d8576b"
            ],
            [
             0.6666666666666666,
             "#ed7953"
            ],
            [
             0.7777777777777778,
             "#fb9f3a"
            ],
            [
             0.8888888888888888,
             "#fdca26"
            ],
            [
             1,
             "#f0f921"
            ]
           ],
           "sequentialminus": [
            [
             0,
             "#0d0887"
            ],
            [
             0.1111111111111111,
             "#46039f"
            ],
            [
             0.2222222222222222,
             "#7201a8"
            ],
            [
             0.3333333333333333,
             "#9c179e"
            ],
            [
             0.4444444444444444,
             "#bd3786"
            ],
            [
             0.5555555555555556,
             "#d8576b"
            ],
            [
             0.6666666666666666,
             "#ed7953"
            ],
            [
             0.7777777777777778,
             "#fb9f3a"
            ],
            [
             0.8888888888888888,
             "#fdca26"
            ],
            [
             1,
             "#f0f921"
            ]
           ]
          },
          "colorway": [
           "#636efa",
           "#EF553B",
           "#00cc96",
           "#ab63fa",
           "#FFA15A",
           "#19d3f3",
           "#FF6692",
           "#B6E880",
           "#FF97FF",
           "#FECB52"
          ],
          "font": {
           "color": "#2a3f5f"
          },
          "geo": {
           "bgcolor": "white",
           "lakecolor": "white",
           "landcolor": "#E5ECF6",
           "showlakes": true,
           "showland": true,
           "subunitcolor": "white"
          },
          "hoverlabel": {
           "align": "left"
          },
          "hovermode": "closest",
          "mapbox": {
           "style": "light"
          },
          "paper_bgcolor": "white",
          "plot_bgcolor": "#E5ECF6",
          "polar": {
           "angularaxis": {
            "gridcolor": "white",
            "linecolor": "white",
            "ticks": ""
           },
           "bgcolor": "#E5ECF6",
           "radialaxis": {
            "gridcolor": "white",
            "linecolor": "white",
            "ticks": ""
           }
          },
          "scene": {
           "xaxis": {
            "backgroundcolor": "#E5ECF6",
            "gridcolor": "white",
            "gridwidth": 2,
            "linecolor": "white",
            "showbackground": true,
            "ticks": "",
            "zerolinecolor": "white"
           },
           "yaxis": {
            "backgroundcolor": "#E5ECF6",
            "gridcolor": "white",
            "gridwidth": 2,
            "linecolor": "white",
            "showbackground": true,
            "ticks": "",
            "zerolinecolor": "white"
           },
           "zaxis": {
            "backgroundcolor": "#E5ECF6",
            "gridcolor": "white",
            "gridwidth": 2,
            "linecolor": "white",
            "showbackground": true,
            "ticks": "",
            "zerolinecolor": "white"
           }
          },
          "shapedefaults": {
           "line": {
            "color": "#2a3f5f"
           }
          },
          "ternary": {
           "aaxis": {
            "gridcolor": "white",
            "linecolor": "white",
            "ticks": ""
           },
           "baxis": {
            "gridcolor": "white",
            "linecolor": "white",
            "ticks": ""
           },
           "bgcolor": "#E5ECF6",
           "caxis": {
            "gridcolor": "white",
            "linecolor": "white",
            "ticks": ""
           }
          },
          "title": {
           "x": 0.05
          },
          "xaxis": {
           "automargin": true,
           "gridcolor": "white",
           "linecolor": "white",
           "ticks": "",
           "title": {
            "standoff": 15
           },
           "zerolinecolor": "white",
           "zerolinewidth": 2
          },
          "yaxis": {
           "automargin": true,
           "gridcolor": "white",
           "linecolor": "white",
           "ticks": "",
           "title": {
            "standoff": 15
           },
           "zerolinecolor": "white",
           "zerolinewidth": 2
          }
         }
        },
        "title": {
         "text": "Appointment Counts by Hour and Weekday"
        },
        "xaxis": {
         "anchor": "y",
         "categoryarray": [
          "Monday",
          "Tuesday",
          "Wednesday",
          "Thursday",
          "Friday"
         ],
         "categoryorder": "array",
         "domain": [
          0,
          1
         ],
         "title": {
          "text": "Day of the Week"
         }
        },
        "yaxis": {
         "anchor": "x",
         "autorange": "reversed",
         "categoryarray": [
          23,
          22,
          21,
          20,
          19,
          18,
          17,
          16,
          15,
          14,
          13,
          12,
          11,
          10,
          9,
          8,
          7,
          6,
          5,
          4,
          3,
          2,
          1,
          0
         ],
         "categoryorder": "array",
         "domain": [
          0,
          1
         ],
         "title": {
          "text": "Hour of Day"
         }
        }
       }
      }
     },
     "metadata": {},
     "output_type": "display_data"
    }
   ],
   "source": [
    "\n",
    "fig = px.density_heatmap(\n",
    "    df_heatmap,\n",
    "    x='dia_semana_cita',\n",
    "    y='rango_hora_cita',\n",
    "    z='counts',\n",
    "    color_continuous_scale='YlOrBr',\n",
    "    category_orders={\n",
    "        'dia_semana_cita': day_order,\n",
    "        'rango_hora_cita': list(range(24))\n",
    "    },\n",
    "    nbinsx=len(df_heatmap['dia_semana_cita'].unique()),\n",
    "    nbinsy=len(df_heatmap['rango_hora_cita'].unique()),\n",
    "    labels={'hora_cita': 'Hour of Day', 'dia_semana_cita': 'Weekday', 'count': 'Count'}\n",
    ")\n",
    "\n",
    "fig.update_layout(\n",
    "    title='Citas por hora y dia de la semana',\n",
    "    xaxis_title='Day of the Week',\n",
    "    yaxis_title='Hour of Day',\n",
    "    yaxis=dict(autorange='reversed')  # Optional: flip to match calendar view\n",
    ")"
   ]
  },
  {
   "cell_type": "code",
   "execution_count": 32,
   "id": "ff613d51",
   "metadata": {},
   "outputs": [
    {
     "data": {
      "application/vnd.plotly.v1+json": {
       "config": {
        "plotlyServerURL": "https://plot.ly"
       },
       "data": [
        {
         "coloraxis": "coloraxis",
         "histfunc": "sum",
         "hovertemplate": "Estado_Cita=Atendida<br>Day of Week=%{x}<br>Hour Slot=%{y}<br>sum of Appointments=%{z}<extra></extra>",
         "name": "",
         "texttemplate": "%{z}",
         "type": "histogram2d",
         "x": [
          "Wednesday",
          "Wednesday",
          "Monday",
          "Friday",
          "Monday",
          "Tuesday",
          "Thursday",
          "Tuesday",
          "Thursday",
          "Wednesday",
          "Wednesday",
          "Monday",
          "Friday",
          "Friday",
          "Wednesday",
          "Tuesday",
          "Monday",
          "Thursday",
          "Friday",
          "Monday",
          "Friday",
          "Tuesday",
          "Tuesday",
          "Thursday",
          "Thursday",
          "Wednesday",
          "Tuesday",
          "Thursday",
          "Wednesday",
          "Monday",
          "Tuesday",
          "Monday",
          "Thursday",
          "Wednesday",
          "Tuesday",
          "Wednesday",
          "Thursday",
          "Tuesday",
          "Monday",
          "Monday",
          "Thursday",
          "Friday",
          "Friday",
          "Friday",
          "Wednesday",
          "Friday",
          "Monday",
          "Wednesday",
          "Tuesday",
          "Friday",
          "Monday",
          "Thursday",
          "Tuesday",
          "Wednesday",
          "Thursday",
          "Friday",
          "Tuesday",
          "Friday",
          "Monday",
          "Thursday",
          "Monday",
          "Friday",
          "Thursday",
          "Tuesday",
          "Wednesday"
         ],
         "xaxis": "x3",
         "xbingroup": "x",
         "y": {
          "bdata": "CQAAAAwAAAAJAAAADAAAAAwAAAAJAAAACQAAAAwAAAAMAAAACgAAAA0AAAAKAAAACQAAAAoAAAALAAAADQAAAA0AAAANAAAACwAAAAsAAAANAAAACgAAAAsAAAAKAAAACwAAAAgAAAAIAAAACAAAAA8AAAAIAAAADwAAAA8AAAAPAAAAEAAAAA4AAAAOAAAADgAAABAAAAAQAAAADgAAABAAAAAIAAAAEAAAAA8AAAASAAAAEgAAABIAAAARAAAAEgAAABEAAAARAAAAEgAAABEAAAATAAAAEQAAABMAAAATAAAADgAAABMAAAATAAAAFAAAABQAAAAUAAAAFAAAABQAAAA=",
          "dtype": "i4"
         },
         "yaxis": "y3",
         "ybingroup": "y",
         "z": {
          "bdata": "4EaZQTY/5DzIOxg3djWWNP0yLy9dKtMpMym3KDImiyVeJWIkjSPHInMg/h9wHmoerhx4Ga4YRRfgFtoWuhSNFHESrhDnD6APPw+xDjUOdg1mDNIFcQUpBVAE3gNmAxID/wKpAjwC6wFrAU4BJQEAAesAvgC0AG0ABAABAAEAAAAAAA==",
          "dtype": "i2"
         }
        },
        {
         "coloraxis": "coloraxis",
         "histfunc": "sum",
         "hovertemplate": "Estado_Cita=Cancelada<br>Day of Week=%{x}<br>Hour Slot=%{y}<br>sum of Appointments=%{z}<extra></extra>",
         "name": "",
         "texttemplate": "%{z}",
         "type": "histogram2d",
         "x": [
          "Wednesday",
          "Monday",
          "Friday",
          "Wednesday",
          "Monday",
          "Tuesday",
          "Thursday",
          "Wednesday",
          "Thursday",
          "Tuesday",
          "Monday",
          "Friday",
          "Friday",
          "Wednesday",
          "Friday",
          "Wednesday",
          "Monday",
          "Friday",
          "Monday",
          "Thursday",
          "Tuesday",
          "Tuesday",
          "Thursday",
          "Tuesday",
          "Thursday",
          "Wednesday",
          "Tuesday",
          "Thursday",
          "Monday",
          "Wednesday",
          "Monday",
          "Tuesday",
          "Wednesday",
          "Thursday",
          "Monday",
          "Tuesday",
          "Thursday",
          "Wednesday",
          "Tuesday",
          "Thursday",
          "Monday",
          "Friday",
          "Friday",
          "Friday",
          "Wednesday",
          "Friday",
          "Monday",
          "Wednesday",
          "Tuesday",
          "Friday",
          "Monday",
          "Thursday",
          "Tuesday",
          "Wednesday",
          "Friday",
          "Tuesday",
          "Thursday",
          "Monday",
          "Friday",
          "Thursday",
          "Tuesday",
          "Thursday",
          "Wednesday",
          "Monday",
          "Friday"
         ],
         "xaxis": "x4",
         "xbingroup": "x",
         "y": {
          "bdata": "CQAAAAkAAAAMAAAADAAAAAwAAAAJAAAACQAAAAoAAAAMAAAADAAAAAoAAAAJAAAACgAAAA0AAAALAAAACwAAAA0AAAANAAAACwAAAA0AAAANAAAACgAAAAoAAAALAAAACwAAAAgAAAAIAAAACAAAAAgAAAAPAAAADwAAAA8AAAAQAAAADwAAABAAAAAQAAAADgAAAA4AAAAOAAAAEAAAAA4AAAAQAAAADwAAAAgAAAASAAAAEgAAABIAAAARAAAAEgAAABEAAAARAAAAEgAAABEAAAATAAAAEwAAABMAAAARAAAAEwAAAA4AAAATAAAAFAAAABQAAAAUAAAAFAAAABQAAAA=",
          "dtype": "i4"
         },
         "yaxis": "y4",
         "ybingroup": "y",
         "z": {
          "bdata": "7BxbGqMZBBkQFx0WeBUxEzcS4hEmEYoQQhA2EGYP7A6VDlEOww0JDeEMUQxLCz8LoAp/CSsJEAmYCAgIbwflBnUGZAZOBS4FGQUOBfMEwAS2BMkCuQKlAmsCOQLFAY4BggFvAUQBNQHIAKMAkgBqAGUAWABTACQAAAAAAAAAAAAAAA==",
          "dtype": "i2"
         }
        },
        {
         "coloraxis": "coloraxis",
         "histfunc": "sum",
         "hovertemplate": "Estado_Cita=Absentismo<br>Day of Week=%{x}<br>Hour Slot=%{y}<br>sum of Appointments=%{z}<extra></extra>",
         "name": "",
         "texttemplate": "%{z}",
         "type": "histogram2d",
         "x": [
          "Wednesday",
          "Wednesday",
          "Monday",
          "Friday",
          "Monday",
          "Wednesday",
          "Tuesday",
          "Monday",
          "Wednesday",
          "Monday",
          "Thursday",
          "Tuesday",
          "Friday",
          "Thursday",
          "Wednesday",
          "Friday",
          "Friday",
          "Monday",
          "Friday",
          "Tuesday",
          "Thursday",
          "Tuesday",
          "Thursday",
          "Tuesday",
          "Thursday",
          "Monday",
          "Wednesday",
          "Wednesday",
          "Monday",
          "Tuesday",
          "Tuesday",
          "Wednesday",
          "Monday",
          "Thursday",
          "Thursday",
          "Monday",
          "Tuesday",
          "Wednesday",
          "Tuesday",
          "Thursday",
          "Thursday",
          "Wednesday",
          "Friday",
          "Friday",
          "Monday",
          "Friday",
          "Tuesday",
          "Friday",
          "Wednesday",
          "Monday",
          "Friday",
          "Thursday",
          "Tuesday",
          "Wednesday",
          "Thursday",
          "Monday",
          "Friday",
          "Tuesday",
          "Friday",
          "Thursday",
          "Monday",
          "Wednesday",
          "Tuesday",
          "Thursday",
          "Friday"
         ],
         "xaxis": "x",
         "xbingroup": "x",
         "y": {
          "bdata": "DAAAAAkAAAAMAAAADAAAAAkAAAAKAAAACQAAAA0AAAANAAAACgAAAAkAAAAMAAAACgAAAAwAAAALAAAACQAAAA0AAAALAAAACwAAAA0AAAANAAAACgAAAAoAAAALAAAACwAAAA8AAAAPAAAACAAAABAAAAAIAAAADwAAABAAAAAIAAAACAAAAA8AAAAOAAAAEAAAAA4AAAAOAAAAEAAAAA4AAAASAAAAEgAAABAAAAASAAAADwAAABIAAAAIAAAAEQAAABEAAAARAAAAEgAAABEAAAATAAAAEQAAABMAAAATAAAAEwAAAA4AAAATAAAAFAAAABQAAAAUAAAAFAAAABQAAAA=",
          "dtype": "i4"
         },
         "yaxis": "y",
         "ybingroup": "y",
         "z": {
          "bdata": "zRVrFRMU2BI3EpsQhg99DvIN3Q3ZDQcN8gxuDDoM9gs5C4wKhAqJCUEJGwn6CFIHHwf7BkwGlgWWBVwFMwUoBRAF8ASQBDwE/APRA4YDbQNbA7cChwJxAisC9wGkAYoBiQGIAYQBIQHTAL4AqwCpAKYAjwBjADkAAgABAAEAAQAAAA==",
          "dtype": "i2"
         }
        }
       ],
       "layout": {
        "annotations": [
         {
          "font": {},
          "showarrow": false,
          "text": "Estado_Cita=Absentismo",
          "x": 0.245,
          "xanchor": "center",
          "xref": "paper",
          "y": 0.46499999999999997,
          "yanchor": "bottom",
          "yref": "paper"
         },
         {
          "font": {},
          "showarrow": false,
          "text": "Estado_Cita=Atendida",
          "x": 0.245,
          "xanchor": "center",
          "xref": "paper",
          "y": 0.9999999999999999,
          "yanchor": "bottom",
          "yref": "paper"
         },
         {
          "font": {},
          "showarrow": false,
          "text": "Estado_Cita=Cancelada",
          "x": 0.755,
          "xanchor": "center",
          "xref": "paper",
          "y": 0.9999999999999999,
          "yanchor": "bottom",
          "yref": "paper"
         }
        ],
        "coloraxis": {
         "colorbar": {
          "title": {
           "text": "sum of Appointments"
          }
         },
         "colorscale": [
          [
           0,
           "rgb(255,255,229)"
          ],
          [
           0.125,
           "rgb(255,247,188)"
          ],
          [
           0.25,
           "rgb(254,227,145)"
          ],
          [
           0.375,
           "rgb(254,196,79)"
          ],
          [
           0.5,
           "rgb(254,153,41)"
          ],
          [
           0.625,
           "rgb(236,112,20)"
          ],
          [
           0.75,
           "rgb(204,76,2)"
          ],
          [
           0.875,
           "rgb(153,52,4)"
          ],
          [
           1,
           "rgb(102,37,6)"
          ]
         ]
        },
        "height": 600,
        "legend": {
         "tracegroupgap": 0
        },
        "margin": {
         "t": 60
        },
        "template": {
         "data": {
          "bar": [
           {
            "error_x": {
             "color": "#2a3f5f"
            },
            "error_y": {
             "color": "#2a3f5f"
            },
            "marker": {
             "line": {
              "color": "#E5ECF6",
              "width": 0.5
             },
             "pattern": {
              "fillmode": "overlay",
              "size": 10,
              "solidity": 0.2
             }
            },
            "type": "bar"
           }
          ],
          "barpolar": [
           {
            "marker": {
             "line": {
              "color": "#E5ECF6",
              "width": 0.5
             },
             "pattern": {
              "fillmode": "overlay",
              "size": 10,
              "solidity": 0.2
             }
            },
            "type": "barpolar"
           }
          ],
          "carpet": [
           {
            "aaxis": {
             "endlinecolor": "#2a3f5f",
             "gridcolor": "white",
             "linecolor": "white",
             "minorgridcolor": "white",
             "startlinecolor": "#2a3f5f"
            },
            "baxis": {
             "endlinecolor": "#2a3f5f",
             "gridcolor": "white",
             "linecolor": "white",
             "minorgridcolor": "white",
             "startlinecolor": "#2a3f5f"
            },
            "type": "carpet"
           }
          ],
          "choropleth": [
           {
            "colorbar": {
             "outlinewidth": 0,
             "ticks": ""
            },
            "type": "choropleth"
           }
          ],
          "contour": [
           {
            "colorbar": {
             "outlinewidth": 0,
             "ticks": ""
            },
            "colorscale": [
             [
              0,
              "#0d0887"
             ],
             [
              0.1111111111111111,
              "#46039f"
             ],
             [
              0.2222222222222222,
              "#7201a8"
             ],
             [
              0.3333333333333333,
              "#9c179e"
             ],
             [
              0.4444444444444444,
              "#bd3786"
             ],
             [
              0.5555555555555556,
              "#d8576b"
             ],
             [
              0.6666666666666666,
              "#ed7953"
             ],
             [
              0.7777777777777778,
              "#fb9f3a"
             ],
             [
              0.8888888888888888,
              "#fdca26"
             ],
             [
              1,
              "#f0f921"
             ]
            ],
            "type": "contour"
           }
          ],
          "contourcarpet": [
           {
            "colorbar": {
             "outlinewidth": 0,
             "ticks": ""
            },
            "type": "contourcarpet"
           }
          ],
          "heatmap": [
           {
            "colorbar": {
             "outlinewidth": 0,
             "ticks": ""
            },
            "colorscale": [
             [
              0,
              "#0d0887"
             ],
             [
              0.1111111111111111,
              "#46039f"
             ],
             [
              0.2222222222222222,
              "#7201a8"
             ],
             [
              0.3333333333333333,
              "#9c179e"
             ],
             [
              0.4444444444444444,
              "#bd3786"
             ],
             [
              0.5555555555555556,
              "#d8576b"
             ],
             [
              0.6666666666666666,
              "#ed7953"
             ],
             [
              0.7777777777777778,
              "#fb9f3a"
             ],
             [
              0.8888888888888888,
              "#fdca26"
             ],
             [
              1,
              "#f0f921"
             ]
            ],
            "type": "heatmap"
           }
          ],
          "histogram": [
           {
            "marker": {
             "pattern": {
              "fillmode": "overlay",
              "size": 10,
              "solidity": 0.2
             }
            },
            "type": "histogram"
           }
          ],
          "histogram2d": [
           {
            "colorbar": {
             "outlinewidth": 0,
             "ticks": ""
            },
            "colorscale": [
             [
              0,
              "#0d0887"
             ],
             [
              0.1111111111111111,
              "#46039f"
             ],
             [
              0.2222222222222222,
              "#7201a8"
             ],
             [
              0.3333333333333333,
              "#9c179e"
             ],
             [
              0.4444444444444444,
              "#bd3786"
             ],
             [
              0.5555555555555556,
              "#d8576b"
             ],
             [
              0.6666666666666666,
              "#ed7953"
             ],
             [
              0.7777777777777778,
              "#fb9f3a"
             ],
             [
              0.8888888888888888,
              "#fdca26"
             ],
             [
              1,
              "#f0f921"
             ]
            ],
            "type": "histogram2d"
           }
          ],
          "histogram2dcontour": [
           {
            "colorbar": {
             "outlinewidth": 0,
             "ticks": ""
            },
            "colorscale": [
             [
              0,
              "#0d0887"
             ],
             [
              0.1111111111111111,
              "#46039f"
             ],
             [
              0.2222222222222222,
              "#7201a8"
             ],
             [
              0.3333333333333333,
              "#9c179e"
             ],
             [
              0.4444444444444444,
              "#bd3786"
             ],
             [
              0.5555555555555556,
              "#d8576b"
             ],
             [
              0.6666666666666666,
              "#ed7953"
             ],
             [
              0.7777777777777778,
              "#fb9f3a"
             ],
             [
              0.8888888888888888,
              "#fdca26"
             ],
             [
              1,
              "#f0f921"
             ]
            ],
            "type": "histogram2dcontour"
           }
          ],
          "mesh3d": [
           {
            "colorbar": {
             "outlinewidth": 0,
             "ticks": ""
            },
            "type": "mesh3d"
           }
          ],
          "parcoords": [
           {
            "line": {
             "colorbar": {
              "outlinewidth": 0,
              "ticks": ""
             }
            },
            "type": "parcoords"
           }
          ],
          "pie": [
           {
            "automargin": true,
            "type": "pie"
           }
          ],
          "scatter": [
           {
            "fillpattern": {
             "fillmode": "overlay",
             "size": 10,
             "solidity": 0.2
            },
            "type": "scatter"
           }
          ],
          "scatter3d": [
           {
            "line": {
             "colorbar": {
              "outlinewidth": 0,
              "ticks": ""
             }
            },
            "marker": {
             "colorbar": {
              "outlinewidth": 0,
              "ticks": ""
             }
            },
            "type": "scatter3d"
           }
          ],
          "scattercarpet": [
           {
            "marker": {
             "colorbar": {
              "outlinewidth": 0,
              "ticks": ""
             }
            },
            "type": "scattercarpet"
           }
          ],
          "scattergeo": [
           {
            "marker": {
             "colorbar": {
              "outlinewidth": 0,
              "ticks": ""
             }
            },
            "type": "scattergeo"
           }
          ],
          "scattergl": [
           {
            "marker": {
             "colorbar": {
              "outlinewidth": 0,
              "ticks": ""
             }
            },
            "type": "scattergl"
           }
          ],
          "scattermap": [
           {
            "marker": {
             "colorbar": {
              "outlinewidth": 0,
              "ticks": ""
             }
            },
            "type": "scattermap"
           }
          ],
          "scattermapbox": [
           {
            "marker": {
             "colorbar": {
              "outlinewidth": 0,
              "ticks": ""
             }
            },
            "type": "scattermapbox"
           }
          ],
          "scatterpolar": [
           {
            "marker": {
             "colorbar": {
              "outlinewidth": 0,
              "ticks": ""
             }
            },
            "type": "scatterpolar"
           }
          ],
          "scatterpolargl": [
           {
            "marker": {
             "colorbar": {
              "outlinewidth": 0,
              "ticks": ""
             }
            },
            "type": "scatterpolargl"
           }
          ],
          "scatterternary": [
           {
            "marker": {
             "colorbar": {
              "outlinewidth": 0,
              "ticks": ""
             }
            },
            "type": "scatterternary"
           }
          ],
          "surface": [
           {
            "colorbar": {
             "outlinewidth": 0,
             "ticks": ""
            },
            "colorscale": [
             [
              0,
              "#0d0887"
             ],
             [
              0.1111111111111111,
              "#46039f"
             ],
             [
              0.2222222222222222,
              "#7201a8"
             ],
             [
              0.3333333333333333,
              "#9c179e"
             ],
             [
              0.4444444444444444,
              "#bd3786"
             ],
             [
              0.5555555555555556,
              "#d8576b"
             ],
             [
              0.6666666666666666,
              "#ed7953"
             ],
             [
              0.7777777777777778,
              "#fb9f3a"
             ],
             [
              0.8888888888888888,
              "#fdca26"
             ],
             [
              1,
              "#f0f921"
             ]
            ],
            "type": "surface"
           }
          ],
          "table": [
           {
            "cells": {
             "fill": {
              "color": "#EBF0F8"
             },
             "line": {
              "color": "white"
             }
            },
            "header": {
             "fill": {
              "color": "#C8D4E3"
             },
             "line": {
              "color": "white"
             }
            },
            "type": "table"
           }
          ]
         },
         "layout": {
          "annotationdefaults": {
           "arrowcolor": "#2a3f5f",
           "arrowhead": 0,
           "arrowwidth": 1
          },
          "autotypenumbers": "strict",
          "coloraxis": {
           "colorbar": {
            "outlinewidth": 0,
            "ticks": ""
           }
          },
          "colorscale": {
           "diverging": [
            [
             0,
             "#8e0152"
            ],
            [
             0.1,
             "#c51b7d"
            ],
            [
             0.2,
             "#de77ae"
            ],
            [
             0.3,
             "#f1b6da"
            ],
            [
             0.4,
             "#fde0ef"
            ],
            [
             0.5,
             "#f7f7f7"
            ],
            [
             0.6,
             "#e6f5d0"
            ],
            [
             0.7,
             "#b8e186"
            ],
            [
             0.8,
             "#7fbc41"
            ],
            [
             0.9,
             "#4d9221"
            ],
            [
             1,
             "#276419"
            ]
           ],
           "sequential": [
            [
             0,
             "#0d0887"
            ],
            [
             0.1111111111111111,
             "#46039f"
            ],
            [
             0.2222222222222222,
             "#7201a8"
            ],
            [
             0.3333333333333333,
             "#9c179e"
            ],
            [
             0.4444444444444444,
             "#bd3786"
            ],
            [
             0.5555555555555556,
             "#d8576b"
            ],
            [
             0.6666666666666666,
             "#ed7953"
            ],
            [
             0.7777777777777778,
             "#fb9f3a"
            ],
            [
             0.8888888888888888,
             "#fdca26"
            ],
            [
             1,
             "#f0f921"
            ]
           ],
           "sequentialminus": [
            [
             0,
             "#0d0887"
            ],
            [
             0.1111111111111111,
             "#46039f"
            ],
            [
             0.2222222222222222,
             "#7201a8"
            ],
            [
             0.3333333333333333,
             "#9c179e"
            ],
            [
             0.4444444444444444,
             "#bd3786"
            ],
            [
             0.5555555555555556,
             "#d8576b"
            ],
            [
             0.6666666666666666,
             "#ed7953"
            ],
            [
             0.7777777777777778,
             "#fb9f3a"
            ],
            [
             0.8888888888888888,
             "#fdca26"
            ],
            [
             1,
             "#f0f921"
            ]
           ]
          },
          "colorway": [
           "#636efa",
           "#EF553B",
           "#00cc96",
           "#ab63fa",
           "#FFA15A",
           "#19d3f3",
           "#FF6692",
           "#B6E880",
           "#FF97FF",
           "#FECB52"
          ],
          "font": {
           "color": "#2a3f5f"
          },
          "geo": {
           "bgcolor": "white",
           "lakecolor": "white",
           "landcolor": "#E5ECF6",
           "showlakes": true,
           "showland": true,
           "subunitcolor": "white"
          },
          "hoverlabel": {
           "align": "left"
          },
          "hovermode": "closest",
          "mapbox": {
           "style": "light"
          },
          "paper_bgcolor": "white",
          "plot_bgcolor": "#E5ECF6",
          "polar": {
           "angularaxis": {
            "gridcolor": "white",
            "linecolor": "white",
            "ticks": ""
           },
           "bgcolor": "#E5ECF6",
           "radialaxis": {
            "gridcolor": "white",
            "linecolor": "white",
            "ticks": ""
           }
          },
          "scene": {
           "xaxis": {
            "backgroundcolor": "#E5ECF6",
            "gridcolor": "white",
            "gridwidth": 2,
            "linecolor": "white",
            "showbackground": true,
            "ticks": "",
            "zerolinecolor": "white"
           },
           "yaxis": {
            "backgroundcolor": "#E5ECF6",
            "gridcolor": "white",
            "gridwidth": 2,
            "linecolor": "white",
            "showbackground": true,
            "ticks": "",
            "zerolinecolor": "white"
           },
           "zaxis": {
            "backgroundcolor": "#E5ECF6",
            "gridcolor": "white",
            "gridwidth": 2,
            "linecolor": "white",
            "showbackground": true,
            "ticks": "",
            "zerolinecolor": "white"
           }
          },
          "shapedefaults": {
           "line": {
            "color": "#2a3f5f"
           }
          },
          "ternary": {
           "aaxis": {
            "gridcolor": "white",
            "linecolor": "white",
            "ticks": ""
           },
           "baxis": {
            "gridcolor": "white",
            "linecolor": "white",
            "ticks": ""
           },
           "bgcolor": "#E5ECF6",
           "caxis": {
            "gridcolor": "white",
            "linecolor": "white",
            "ticks": ""
           }
          },
          "title": {
           "x": 0.05
          },
          "xaxis": {
           "automargin": true,
           "gridcolor": "white",
           "linecolor": "white",
           "ticks": "",
           "title": {
            "standoff": 15
           },
           "zerolinecolor": "white",
           "zerolinewidth": 2
          },
          "yaxis": {
           "automargin": true,
           "gridcolor": "white",
           "linecolor": "white",
           "ticks": "",
           "title": {
            "standoff": 15
           },
           "zerolinecolor": "white",
           "zerolinewidth": 2
          }
         }
        },
        "title": {
         "text": "Citas por hora y día de la semana, separadas por Estado_Cita"
        },
        "xaxis": {
         "anchor": "y",
         "categoryarray": [
          "Monday",
          "Tuesday",
          "Wednesday",
          "Thursday",
          "Friday"
         ],
         "categoryorder": "array",
         "domain": [
          0,
          0.49
         ],
         "title": {
          "text": "Day of the Week"
         }
        },
        "xaxis2": {
         "anchor": "y2",
         "categoryarray": [
          "Monday",
          "Tuesday",
          "Wednesday",
          "Thursday",
          "Friday"
         ],
         "categoryorder": "array",
         "domain": [
          0.51,
          1
         ],
         "matches": "x",
         "title": {
          "text": "Day of Week"
         }
        },
        "xaxis3": {
         "anchor": "y3",
         "domain": [
          0,
          0.49
         ],
         "matches": "x",
         "showticklabels": false
        },
        "xaxis4": {
         "anchor": "y4",
         "domain": [
          0.51,
          1
         ],
         "matches": "x",
         "showticklabels": false
        },
        "yaxis": {
         "anchor": "x",
         "autorange": "reversed",
         "categoryarray": [
          20,
          19,
          18,
          17,
          16,
          15,
          14,
          13,
          12,
          11,
          10,
          9,
          8
         ],
         "categoryorder": "array",
         "domain": [
          0,
          0.46499999999999997
         ],
         "title": {
          "text": "Hour of Day"
         }
        },
        "yaxis2": {
         "anchor": "x2",
         "domain": [
          0,
          0.46499999999999997
         ],
         "matches": "y",
         "showticklabels": false
        },
        "yaxis3": {
         "anchor": "x3",
         "categoryarray": [
          20,
          19,
          18,
          17,
          16,
          15,
          14,
          13,
          12,
          11,
          10,
          9,
          8
         ],
         "categoryorder": "array",
         "domain": [
          0.5349999999999999,
          0.9999999999999999
         ],
         "matches": "y",
         "title": {
          "text": "Hour Slot"
         }
        },
        "yaxis4": {
         "anchor": "x4",
         "domain": [
          0.5349999999999999,
          0.9999999999999999
         ],
         "matches": "y",
         "showticklabels": false
        }
       }
      }
     },
     "metadata": {},
     "output_type": "display_data"
    }
   ],
   "source": [
    "day_order = ['Monday', 'Tuesday', 'Wednesday', 'Thursday', 'Friday']\n",
    "\n",
    "fig = px.density_heatmap(\n",
    "    df_heatmap,\n",
    "    x='dia_semana_cita',\n",
    "    y='rango_hora_cita',\n",
    "    z='counts',\n",
    "    color_continuous_scale='YlOrBr',\n",
    "    category_orders={\n",
    "        'dia_semana_cita': day_order,\n",
    "        'rango_hora_cita': sorted(df_heatmap['rango_hora_cita'].unique())\n",
    "    },\n",
    "    facet_col='Estado_Cita',         # ✅ facet by Estado_Cita\n",
    "    facet_col_wrap=2,                # Optional: wrap columns if too many\n",
    "    labels={\n",
    "        'dia_semana_cita': 'Day of Week',\n",
    "        'rango_hora_cita': 'Hour Slot',\n",
    "        'counts': 'Appointments'\n",
    "    },\n",
    "    text_auto=True                   # Optional: show counts in tiles\n",
    ")\n",
    "\n",
    "fig.update_layout(\n",
    "    title='Citas por hora y día de la semana, separadas por Estado_Cita',\n",
    "    xaxis_title='Day of the Week',\n",
    "    yaxis_title='Hour of Day',\n",
    "    yaxis=dict(autorange='reversed'),\n",
    "    height=600\n",
    ")\n",
    "\n",
    "fig.show()"
   ]
  },
  {
   "cell_type": "code",
   "execution_count": 182,
   "id": "25c49298",
   "metadata": {},
   "outputs": [
    {
     "data": {
      "text/plain": [
       "count    633937.000000\n",
       "mean         16.739078\n",
       "std          22.170358\n",
       "min           0.000000\n",
       "25%           2.000000\n",
       "50%           7.000000\n",
       "75%          28.000000\n",
       "max         463.000000\n",
       "Name: Demora, dtype: float64"
      ]
     },
     "execution_count": 182,
     "metadata": {},
     "output_type": "execute_result"
    }
   ],
   "source": [
    "df_mod['Demora'].describe()"
   ]
  },
  {
   "cell_type": "code",
   "execution_count": 186,
   "id": "3ec81d83",
   "metadata": {},
   "outputs": [
    {
     "data": {
      "text/plain": [
       "Estado_Cita\n",
       "Atendida      0.781296\n",
       "Absentismo    0.118257\n",
       "Cancelada     0.100447\n",
       "Name: proportion, dtype: float64"
      ]
     },
     "execution_count": 186,
     "metadata": {},
     "output_type": "execute_result"
    }
   ],
   "source": [
    "assigned_same_day  = df_mod[df_mod['Demora'] == 0]\n",
    "assigned_same_day['Estado_Cita'].value_counts(normalize=True)\n"
   ]
  },
  {
   "cell_type": "code",
   "execution_count": 188,
   "id": "0d035327",
   "metadata": {},
   "outputs": [
    {
     "name": "stdout",
     "output_type": "stream",
     "text": [
      "<class 'pandas.core.frame.DataFrame'>\n",
      "Index: 58897 entries, 9 to 633853\n",
      "Data columns (total 17 columns):\n",
      " #   Column                       Non-Null Count  Dtype   \n",
      "---  ------                       --------------  -----   \n",
      " 0   Estado_Cita                  58897 non-null  category\n",
      " 1   Genero                       58897 non-null  category\n",
      " 2   Agrupacion_Oficina_Atencion  58897 non-null  category\n",
      " 3   Oficina_Atencion             58897 non-null  category\n",
      " 4   Categoria                    58897 non-null  category\n",
      " 5   Recordatorio_Correo          58897 non-null  category\n",
      " 6   Recordatorio_SMS             58897 non-null  category\n",
      " 7   Canal_Asignacion             58897 non-null  category\n",
      " 8   Entidad_Atencion             58897 non-null  category\n",
      " 9   Tramite                      58897 non-null  category\n",
      " 10  Tipo_Documento_Identidad     58897 non-null  category\n",
      " 11  dia_semana_asignacion        58897 non-null  category\n",
      " 12  dia_semana_cita              58897 non-null  category\n",
      " 13  Demora                       58897 non-null  int64   \n",
      " 14  rango_hora_asignacion        58897 non-null  int32   \n",
      " 15  rango_hora_cita              58897 non-null  int32   \n",
      " 16  target                       58897 non-null  category\n",
      "dtypes: category(14), int32(2), int64(1)\n",
      "memory usage: 2.2 MB\n"
     ]
    }
   ],
   "source": [
    "assigned_same_day.info()"
   ]
  },
  {
   "cell_type": "code",
   "execution_count": 312,
   "id": "a6efe8da",
   "metadata": {},
   "outputs": [
    {
     "name": "stdout",
     "output_type": "stream",
     "text": [
      "<class 'pandas.core.frame.DataFrame'>\n",
      "RangeIndex: 633937 entries, 0 to 633936\n",
      "Data columns (total 18 columns):\n",
      " #   Column                       Non-Null Count   Dtype   \n",
      "---  ------                       --------------   -----   \n",
      " 0   Estado_Cita                  633937 non-null  category\n",
      " 1   Genero                       633937 non-null  category\n",
      " 2   Agrupacion_Oficina_Atencion  633937 non-null  category\n",
      " 3   Oficina_Atencion             633937 non-null  category\n",
      " 4   Categoria                    633937 non-null  category\n",
      " 5   Recordatorio_Correo          633937 non-null  category\n",
      " 6   Recordatorio_SMS             633937 non-null  category\n",
      " 7   Canal_Asignacion             633937 non-null  category\n",
      " 8   Entidad_Atencion             633937 non-null  category\n",
      " 9   Tramite                      633937 non-null  category\n",
      " 10  Tipo_Documento_Identidad     633937 non-null  category\n",
      " 11  dia_semana_asignacion        633937 non-null  category\n",
      " 12  dia_semana_cita              633937 non-null  category\n",
      " 13  Demora                       633937 non-null  int64   \n",
      " 14  rango_hora_asignacion        633937 non-null  int32   \n",
      " 15  rango_hora_cita              633937 non-null  int32   \n",
      " 16  target                       633937 non-null  category\n",
      " 17  Tramite_Oficina              633937 non-null  object  \n",
      "dtypes: category(14), int32(2), int64(1), object(1)\n",
      "memory usage: 23.6+ MB\n"
     ]
    }
   ],
   "source": [
    "df_mod.info()"
   ]
  },
  {
   "cell_type": "code",
   "execution_count": null,
   "id": "62853546",
   "metadata": {},
   "outputs": [
    {
     "data": {
      "text/html": [
       "<div>\n",
       "<style scoped>\n",
       "    .dataframe tbody tr th:only-of-type {\n",
       "        vertical-align: middle;\n",
       "    }\n",
       "\n",
       "    .dataframe tbody tr th {\n",
       "        vertical-align: top;\n",
       "    }\n",
       "\n",
       "    .dataframe thead th {\n",
       "        text-align: right;\n",
       "    }\n",
       "</style>\n",
       "<table border=\"1\" class=\"dataframe\">\n",
       "  <thead>\n",
       "    <tr style=\"text-align: right;\">\n",
       "      <th></th>\n",
       "      <th>Estado_Cita</th>\n",
       "      <th>Agrupacion_Oficina_Atencion</th>\n",
       "      <th>Oficina_Atencion</th>\n",
       "      <th>Genero</th>\n",
       "      <th>Categoria</th>\n",
       "      <th>Recordatorio_Correo</th>\n",
       "      <th>Recordatorio_SMS</th>\n",
       "      <th>Demora</th>\n",
       "      <th>Canal_Asignacion</th>\n",
       "      <th>Entidad_Atencion</th>\n",
       "      <th>Fecha_Asignacion</th>\n",
       "      <th>Fecha_Cita</th>\n",
       "      <th>Fecha_Eliminacion</th>\n",
       "      <th>Tramite</th>\n",
       "      <th>Tipo_Documento_Identidad</th>\n",
       "      <th>dia_asignacion</th>\n",
       "      <th>dia_cita</th>\n",
       "      <th>hora_asignacion</th>\n",
       "      <th>rango_hora_asignacion</th>\n",
       "      <th>hora_cita</th>\n",
       "      <th>rango_hora_cita</th>\n",
       "      <th>dia_semana_asignacion</th>\n",
       "      <th>dia_semana_cita</th>\n",
       "    </tr>\n",
       "  </thead>\n",
       "  <tbody>\n",
       "    <tr>\n",
       "      <th>0</th>\n",
       "      <td>Cancelada</td>\n",
       "      <td>LINEA MADRID</td>\n",
       "      <td>OAC Vicálvaro</td>\n",
       "      <td>2</td>\n",
       "      <td>Padrón y censo</td>\n",
       "      <td>0</td>\n",
       "      <td>0</td>\n",
       "      <td>1</td>\n",
       "      <td>Internet Web</td>\n",
       "      <td>LINEA MADRID</td>\n",
       "      <td>2025-01-08T21:24:49</td>\n",
       "      <td>2025-01-09T15:20:00</td>\n",
       "      <td>2025-01-08T22:02:16</td>\n",
       "      <td>Altas, bajas y cambio de domicilio en Padrón</td>\n",
       "      <td>DNI</td>\n",
       "      <td>2025-01-08</td>\n",
       "      <td>2025-01-09</td>\n",
       "      <td>21:24:49</td>\n",
       "      <td>21</td>\n",
       "      <td>15:20:00</td>\n",
       "      <td>15</td>\n",
       "      <td>Wednesday</td>\n",
       "      <td>Thursday</td>\n",
       "    </tr>\n",
       "    <tr>\n",
       "      <th>1</th>\n",
       "      <td>Absentismo</td>\n",
       "      <td>LINEA MADRID</td>\n",
       "      <td>OAC Usera</td>\n",
       "      <td>2</td>\n",
       "      <td>Urbanismo y Vivienda</td>\n",
       "      <td>0</td>\n",
       "      <td>0</td>\n",
       "      <td>1</td>\n",
       "      <td>010</td>\n",
       "      <td>LINEA MADRID</td>\n",
       "      <td>2025-01-08T09:39:29</td>\n",
       "      <td>2025-01-09T11:00:00</td>\n",
       "      <td>None</td>\n",
       "      <td>Información urbanística general de las oficina...</td>\n",
       "      <td>DNI</td>\n",
       "      <td>2025-01-08</td>\n",
       "      <td>2025-01-09</td>\n",
       "      <td>09:39:29</td>\n",
       "      <td>9</td>\n",
       "      <td>11:00:00</td>\n",
       "      <td>11</td>\n",
       "      <td>Wednesday</td>\n",
       "      <td>Thursday</td>\n",
       "    </tr>\n",
       "  </tbody>\n",
       "</table>\n",
       "</div>"
      ],
      "text/plain": [
       "  Estado_Cita Agrupacion_Oficina_Atencion Oficina_Atencion  Genero  \\\n",
       "0   Cancelada                LINEA MADRID    OAC Vicálvaro       2   \n",
       "1  Absentismo                LINEA MADRID        OAC Usera       2   \n",
       "\n",
       "              Categoria  Recordatorio_Correo  Recordatorio_SMS Demora  \\\n",
       "0        Padrón y censo                    0                 0      1   \n",
       "1  Urbanismo y Vivienda                    0                 0      1   \n",
       "\n",
       "  Canal_Asignacion Entidad_Atencion     Fecha_Asignacion           Fecha_Cita  \\\n",
       "0     Internet Web     LINEA MADRID  2025-01-08T21:24:49  2025-01-09T15:20:00   \n",
       "1              010     LINEA MADRID  2025-01-08T09:39:29  2025-01-09T11:00:00   \n",
       "\n",
       "     Fecha_Eliminacion                                            Tramite  \\\n",
       "0  2025-01-08T22:02:16       Altas, bajas y cambio de domicilio en Padrón   \n",
       "1                 None  Información urbanística general de las oficina...   \n",
       "\n",
       "  Tipo_Documento_Identidad dia_asignacion    dia_cita hora_asignacion  \\\n",
       "0                      DNI     2025-01-08  2025-01-09        21:24:49   \n",
       "1                      DNI     2025-01-08  2025-01-09        09:39:29   \n",
       "\n",
       "   rango_hora_asignacion hora_cita  rango_hora_cita dia_semana_asignacion  \\\n",
       "0                     21  15:20:00               15             Wednesday   \n",
       "1                      9  11:00:00               11             Wednesday   \n",
       "\n",
       "  dia_semana_cita  \n",
       "0        Thursday  \n",
       "1        Thursday  "
      ]
     },
     "execution_count": 91,
     "metadata": {},
     "output_type": "execute_result"
    }
   ],
   "source": [
    "df.head(2)"
   ]
  },
  {
   "cell_type": "code",
   "execution_count": null,
   "id": "4b9d6e8c",
   "metadata": {},
   "outputs": [
    {
     "data": {
      "text/plain": [
       "Estado_Cita\n",
       "Absentismo    112150\n",
       "Atendida      375477\n",
       "Cancelada     146310\n",
       "dtype: int64"
      ]
     },
     "execution_count": 35,
     "metadata": {},
     "output_type": "execute_result"
    }
   ],
   "source": [
    "df.groupby(['Estado_Cita']).size()"
   ]
  },
  {
   "cell_type": "code",
   "execution_count": 297,
   "id": "5be69a6b",
   "metadata": {},
   "outputs": [
    {
     "name": "stderr",
     "output_type": "stream",
     "text": [
      "/var/folders/z0/vchk24hj0y707vpcv211pl1w0000gn/T/ipykernel_24148/3658640535.py:1: SettingWithCopyWarning:\n",
      "\n",
      "\n",
      "A value is trying to be set on a copy of a slice from a DataFrame.\n",
      "Try using .loc[row_indexer,col_indexer] = value instead\n",
      "\n",
      "See the caveats in the documentation: https://pandas.pydata.org/pandas-docs/stable/user_guide/indexing.html#returning-a-view-versus-a-copy\n",
      "\n"
     ]
    },
    {
     "data": {
      "text/html": [
       "<div>\n",
       "<style scoped>\n",
       "    .dataframe tbody tr th:only-of-type {\n",
       "        vertical-align: middle;\n",
       "    }\n",
       "\n",
       "    .dataframe tbody tr th {\n",
       "        vertical-align: top;\n",
       "    }\n",
       "\n",
       "    .dataframe thead th {\n",
       "        text-align: right;\n",
       "    }\n",
       "</style>\n",
       "<table border=\"1\" class=\"dataframe\">\n",
       "  <thead>\n",
       "    <tr style=\"text-align: right;\">\n",
       "      <th></th>\n",
       "      <th>Estado_Cita</th>\n",
       "      <th>Genero</th>\n",
       "      <th>Agrupacion_Oficina_Atencion</th>\n",
       "      <th>Oficina_Atencion</th>\n",
       "      <th>Categoria</th>\n",
       "      <th>Recordatorio_Correo</th>\n",
       "      <th>Recordatorio_SMS</th>\n",
       "      <th>Canal_Asignacion</th>\n",
       "      <th>Entidad_Atencion</th>\n",
       "      <th>Tramite</th>\n",
       "      <th>Tipo_Documento_Identidad</th>\n",
       "      <th>dia_semana_asignacion</th>\n",
       "      <th>dia_semana_cita</th>\n",
       "      <th>Demora</th>\n",
       "      <th>rango_hora_asignacion</th>\n",
       "      <th>rango_hora_cita</th>\n",
       "      <th>target</th>\n",
       "      <th>Tramite_Oficina</th>\n",
       "    </tr>\n",
       "  </thead>\n",
       "  <tbody>\n",
       "    <tr>\n",
       "      <th>0</th>\n",
       "      <td>Cancelada</td>\n",
       "      <td>2</td>\n",
       "      <td>LINEA MADRID</td>\n",
       "      <td>OAC Vicálvaro</td>\n",
       "      <td>Padrón y censo</td>\n",
       "      <td>0</td>\n",
       "      <td>0</td>\n",
       "      <td>Internet Web</td>\n",
       "      <td>LINEA MADRID</td>\n",
       "      <td>Altas, bajas y cambio de domicilio en Padrón</td>\n",
       "      <td>DNI</td>\n",
       "      <td>Wednesday</td>\n",
       "      <td>Thursday</td>\n",
       "      <td>1</td>\n",
       "      <td>21</td>\n",
       "      <td>15</td>\n",
       "      <td>Cancelada</td>\n",
       "      <td>Altas, bajas y cambio de domicilio en Padrón_O...</td>\n",
       "    </tr>\n",
       "    <tr>\n",
       "      <th>1</th>\n",
       "      <td>Absentismo</td>\n",
       "      <td>2</td>\n",
       "      <td>LINEA MADRID</td>\n",
       "      <td>OAC Usera</td>\n",
       "      <td>Urbanismo y Vivienda</td>\n",
       "      <td>0</td>\n",
       "      <td>0</td>\n",
       "      <td>010</td>\n",
       "      <td>LINEA MADRID</td>\n",
       "      <td>Información urbanística general de las oficina...</td>\n",
       "      <td>DNI</td>\n",
       "      <td>Wednesday</td>\n",
       "      <td>Thursday</td>\n",
       "      <td>1</td>\n",
       "      <td>9</td>\n",
       "      <td>11</td>\n",
       "      <td>Absentismo</td>\n",
       "      <td>Información urbanística general de las oficina...</td>\n",
       "    </tr>\n",
       "    <tr>\n",
       "      <th>2</th>\n",
       "      <td>Atendida</td>\n",
       "      <td>1</td>\n",
       "      <td>LINEA MADRID</td>\n",
       "      <td>OAC Puente Vallecas</td>\n",
       "      <td>Padrón y censo</td>\n",
       "      <td>1</td>\n",
       "      <td>1</td>\n",
       "      <td>Internet Móvil</td>\n",
       "      <td>LINEA MADRID</td>\n",
       "      <td>Altas, bajas y cambio de domicilio en Padrón</td>\n",
       "      <td>Tarjeta Residencia</td>\n",
       "      <td>Thursday</td>\n",
       "      <td>Wednesday</td>\n",
       "      <td>6</td>\n",
       "      <td>23</td>\n",
       "      <td>9</td>\n",
       "      <td>Atendida</td>\n",
       "      <td>Altas, bajas y cambio de domicilio en Padrón_O...</td>\n",
       "    </tr>\n",
       "    <tr>\n",
       "      <th>3</th>\n",
       "      <td>Atendida</td>\n",
       "      <td>3</td>\n",
       "      <td>LINEA MADRID</td>\n",
       "      <td>OAC Barajas</td>\n",
       "      <td>Padrón y censo</td>\n",
       "      <td>1</td>\n",
       "      <td>1</td>\n",
       "      <td>Internet Web</td>\n",
       "      <td>LINEA MADRID</td>\n",
       "      <td>Altas, bajas y cambio de domicilio en Padrón</td>\n",
       "      <td>DNI</td>\n",
       "      <td>Friday</td>\n",
       "      <td>Wednesday</td>\n",
       "      <td>5</td>\n",
       "      <td>11</td>\n",
       "      <td>9</td>\n",
       "      <td>Atendida</td>\n",
       "      <td>Altas, bajas y cambio de domicilio en Padrón_O...</td>\n",
       "    </tr>\n",
       "    <tr>\n",
       "      <th>4</th>\n",
       "      <td>Atendida</td>\n",
       "      <td>3</td>\n",
       "      <td>LINEA MADRID</td>\n",
       "      <td>OAC Hortaleza</td>\n",
       "      <td>Registro</td>\n",
       "      <td>1</td>\n",
       "      <td>0</td>\n",
       "      <td>Internet Web</td>\n",
       "      <td>LINEA MADRID</td>\n",
       "      <td>Registro</td>\n",
       "      <td>DNI</td>\n",
       "      <td>Thursday</td>\n",
       "      <td>Friday</td>\n",
       "      <td>29</td>\n",
       "      <td>10</td>\n",
       "      <td>12</td>\n",
       "      <td>Atendida</td>\n",
       "      <td>Registro_OAC Hortaleza</td>\n",
       "    </tr>\n",
       "    <tr>\n",
       "      <th>...</th>\n",
       "      <td>...</td>\n",
       "      <td>...</td>\n",
       "      <td>...</td>\n",
       "      <td>...</td>\n",
       "      <td>...</td>\n",
       "      <td>...</td>\n",
       "      <td>...</td>\n",
       "      <td>...</td>\n",
       "      <td>...</td>\n",
       "      <td>...</td>\n",
       "      <td>...</td>\n",
       "      <td>...</td>\n",
       "      <td>...</td>\n",
       "      <td>...</td>\n",
       "      <td>...</td>\n",
       "      <td>...</td>\n",
       "      <td>...</td>\n",
       "      <td>...</td>\n",
       "    </tr>\n",
       "    <tr>\n",
       "      <th>633932</th>\n",
       "      <td>Absentismo</td>\n",
       "      <td>2</td>\n",
       "      <td>AGENCIA TRIBUTARIA - OAIC</td>\n",
       "      <td>OAIC Sacramento</td>\n",
       "      <td>Contribuyente</td>\n",
       "      <td>1</td>\n",
       "      <td>0</td>\n",
       "      <td>010</td>\n",
       "      <td>AGENCIA TRIBUTARIA</td>\n",
       "      <td>Recaudación en período ejecutivo</td>\n",
       "      <td>DNI</td>\n",
       "      <td>Friday</td>\n",
       "      <td>Tuesday</td>\n",
       "      <td>11</td>\n",
       "      <td>15</td>\n",
       "      <td>9</td>\n",
       "      <td>Absentismo</td>\n",
       "      <td>Recaudación en período ejecutivo_OAIC Sacramento</td>\n",
       "    </tr>\n",
       "    <tr>\n",
       "      <th>633933</th>\n",
       "      <td>Absentismo</td>\n",
       "      <td>2</td>\n",
       "      <td>AGENCIA PARA EL EMPLEO - AZ</td>\n",
       "      <td>Centro Especializado Sector Alimentario</td>\n",
       "      <td>Empleo</td>\n",
       "      <td>0</td>\n",
       "      <td>1</td>\n",
       "      <td>010</td>\n",
       "      <td>AGENCIA PARA EL EMPLEO</td>\n",
       "      <td>Empleo por cuenta ajena. Información y orienta...</td>\n",
       "      <td>Tarjeta Residencia</td>\n",
       "      <td>Saturday</td>\n",
       "      <td>Tuesday</td>\n",
       "      <td>17</td>\n",
       "      <td>12</td>\n",
       "      <td>10</td>\n",
       "      <td>Absentismo</td>\n",
       "      <td>Empleo por cuenta ajena. Información y orienta...</td>\n",
       "    </tr>\n",
       "    <tr>\n",
       "      <th>633934</th>\n",
       "      <td>Absentismo</td>\n",
       "      <td>1</td>\n",
       "      <td>MOVILIDAD - MULTAS DE TRÁFICO</td>\n",
       "      <td>Multas de circulación</td>\n",
       "      <td>Seguridad y Sanciones</td>\n",
       "      <td>0</td>\n",
       "      <td>1</td>\n",
       "      <td>010</td>\n",
       "      <td>MULTAS</td>\n",
       "      <td>Multas de tráfico, consulta de expedientes</td>\n",
       "      <td>DNI</td>\n",
       "      <td>Monday</td>\n",
       "      <td>Tuesday</td>\n",
       "      <td>22</td>\n",
       "      <td>14</td>\n",
       "      <td>12</td>\n",
       "      <td>Absentismo</td>\n",
       "      <td>Multas de tráfico, consulta de expedientes_Mul...</td>\n",
       "    </tr>\n",
       "    <tr>\n",
       "      <th>633935</th>\n",
       "      <td>Cancelada</td>\n",
       "      <td>2</td>\n",
       "      <td>SERVICIOS SOCIALES - CCSS</td>\n",
       "      <td>CSS Fuerte de Navidad</td>\n",
       "      <td>Servicios Sociales</td>\n",
       "      <td>1</td>\n",
       "      <td>0</td>\n",
       "      <td>010</td>\n",
       "      <td>SERVICIOS SOCIALES</td>\n",
       "      <td>Atención Servicios Sociales</td>\n",
       "      <td>DNI</td>\n",
       "      <td>Monday</td>\n",
       "      <td>Monday</td>\n",
       "      <td>49</td>\n",
       "      <td>8</td>\n",
       "      <td>10</td>\n",
       "      <td>Cancelada</td>\n",
       "      <td>Atención Servicios Sociales_CSS Fuerte de Navidad</td>\n",
       "    </tr>\n",
       "    <tr>\n",
       "      <th>633936</th>\n",
       "      <td>Cancelada</td>\n",
       "      <td>1</td>\n",
       "      <td>AGENCIA TRIBUTARIA - OAIC</td>\n",
       "      <td>OAIC Ramón Power</td>\n",
       "      <td>Contribuyente</td>\n",
       "      <td>1</td>\n",
       "      <td>0</td>\n",
       "      <td>Internet Web</td>\n",
       "      <td>AGENCIA TRIBUTARIA</td>\n",
       "      <td>IBI - Impuesto Bienes Inmuebles</td>\n",
       "      <td>DNI</td>\n",
       "      <td>Wednesday</td>\n",
       "      <td>Tuesday</td>\n",
       "      <td>6</td>\n",
       "      <td>16</td>\n",
       "      <td>11</td>\n",
       "      <td>Cancelada</td>\n",
       "      <td>IBI - Impuesto Bienes Inmuebles_OAIC Ramón Power</td>\n",
       "    </tr>\n",
       "  </tbody>\n",
       "</table>\n",
       "<p>633937 rows × 18 columns</p>\n",
       "</div>"
      ],
      "text/plain": [
       "       Estado_Cita Genero    Agrupacion_Oficina_Atencion  \\\n",
       "0        Cancelada      2                   LINEA MADRID   \n",
       "1       Absentismo      2                   LINEA MADRID   \n",
       "2         Atendida      1                   LINEA MADRID   \n",
       "3         Atendida      3                   LINEA MADRID   \n",
       "4         Atendida      3                   LINEA MADRID   \n",
       "...            ...    ...                            ...   \n",
       "633932  Absentismo      2      AGENCIA TRIBUTARIA - OAIC   \n",
       "633933  Absentismo      2    AGENCIA PARA EL EMPLEO - AZ   \n",
       "633934  Absentismo      1  MOVILIDAD - MULTAS DE TRÁFICO   \n",
       "633935   Cancelada      2      SERVICIOS SOCIALES - CCSS   \n",
       "633936   Cancelada      1      AGENCIA TRIBUTARIA - OAIC   \n",
       "\n",
       "                               Oficina_Atencion              Categoria  \\\n",
       "0                                 OAC Vicálvaro         Padrón y censo   \n",
       "1                                     OAC Usera   Urbanismo y Vivienda   \n",
       "2                           OAC Puente Vallecas         Padrón y censo   \n",
       "3                                   OAC Barajas         Padrón y censo   \n",
       "4                                 OAC Hortaleza               Registro   \n",
       "...                                         ...                    ...   \n",
       "633932                          OAIC Sacramento          Contribuyente   \n",
       "633933  Centro Especializado Sector Alimentario                 Empleo   \n",
       "633934                    Multas de circulación  Seguridad y Sanciones   \n",
       "633935                    CSS Fuerte de Navidad     Servicios Sociales   \n",
       "633936                         OAIC Ramón Power          Contribuyente   \n",
       "\n",
       "       Recordatorio_Correo Recordatorio_SMS Canal_Asignacion  \\\n",
       "0                        0                0     Internet Web   \n",
       "1                        0                0              010   \n",
       "2                        1                1   Internet Móvil   \n",
       "3                        1                1     Internet Web   \n",
       "4                        1                0     Internet Web   \n",
       "...                    ...              ...              ...   \n",
       "633932                   1                0              010   \n",
       "633933                   0                1              010   \n",
       "633934                   0                1              010   \n",
       "633935                   1                0              010   \n",
       "633936                   1                0     Internet Web   \n",
       "\n",
       "              Entidad_Atencion  \\\n",
       "0                 LINEA MADRID   \n",
       "1                 LINEA MADRID   \n",
       "2                 LINEA MADRID   \n",
       "3                 LINEA MADRID   \n",
       "4                 LINEA MADRID   \n",
       "...                        ...   \n",
       "633932      AGENCIA TRIBUTARIA   \n",
       "633933  AGENCIA PARA EL EMPLEO   \n",
       "633934                  MULTAS   \n",
       "633935      SERVICIOS SOCIALES   \n",
       "633936      AGENCIA TRIBUTARIA   \n",
       "\n",
       "                                                  Tramite  \\\n",
       "0            Altas, bajas y cambio de domicilio en Padrón   \n",
       "1       Información urbanística general de las oficina...   \n",
       "2            Altas, bajas y cambio de domicilio en Padrón   \n",
       "3            Altas, bajas y cambio de domicilio en Padrón   \n",
       "4                                                Registro   \n",
       "...                                                   ...   \n",
       "633932                   Recaudación en período ejecutivo   \n",
       "633933  Empleo por cuenta ajena. Información y orienta...   \n",
       "633934         Multas de tráfico, consulta de expedientes   \n",
       "633935                        Atención Servicios Sociales   \n",
       "633936                    IBI - Impuesto Bienes Inmuebles   \n",
       "\n",
       "       Tipo_Documento_Identidad dia_semana_asignacion dia_semana_cita  Demora  \\\n",
       "0                           DNI             Wednesday        Thursday       1   \n",
       "1                           DNI             Wednesday        Thursday       1   \n",
       "2            Tarjeta Residencia              Thursday       Wednesday       6   \n",
       "3                           DNI                Friday       Wednesday       5   \n",
       "4                           DNI              Thursday          Friday      29   \n",
       "...                         ...                   ...             ...     ...   \n",
       "633932                      DNI                Friday         Tuesday      11   \n",
       "633933       Tarjeta Residencia              Saturday         Tuesday      17   \n",
       "633934                      DNI                Monday         Tuesday      22   \n",
       "633935                      DNI                Monday          Monday      49   \n",
       "633936                      DNI             Wednesday         Tuesday       6   \n",
       "\n",
       "        rango_hora_asignacion  rango_hora_cita      target  \\\n",
       "0                          21               15   Cancelada   \n",
       "1                           9               11  Absentismo   \n",
       "2                          23                9    Atendida   \n",
       "3                          11                9    Atendida   \n",
       "4                          10               12    Atendida   \n",
       "...                       ...              ...         ...   \n",
       "633932                     15                9  Absentismo   \n",
       "633933                     12               10  Absentismo   \n",
       "633934                     14               12  Absentismo   \n",
       "633935                      8               10   Cancelada   \n",
       "633936                     16               11   Cancelada   \n",
       "\n",
       "                                          Tramite_Oficina  \n",
       "0       Altas, bajas y cambio de domicilio en Padrón_O...  \n",
       "1       Información urbanística general de las oficina...  \n",
       "2       Altas, bajas y cambio de domicilio en Padrón_O...  \n",
       "3       Altas, bajas y cambio de domicilio en Padrón_O...  \n",
       "4                                  Registro_OAC Hortaleza  \n",
       "...                                                   ...  \n",
       "633932   Recaudación en período ejecutivo_OAIC Sacramento  \n",
       "633933  Empleo por cuenta ajena. Información y orienta...  \n",
       "633934  Multas de tráfico, consulta de expedientes_Mul...  \n",
       "633935  Atención Servicios Sociales_CSS Fuerte de Navidad  \n",
       "633936   IBI - Impuesto Bienes Inmuebles_OAIC Ramón Power  \n",
       "\n",
       "[633937 rows x 18 columns]"
      ]
     },
     "execution_count": 297,
     "metadata": {},
     "output_type": "execute_result"
    }
   ],
   "source": [
    "df_mod[\"Tramite_Oficina\"] = df_mod[\"Tramite\"].astype(str) + \"_\" + df_mod[\"Oficina_Atencion\"].astype(str)\n",
    "df_mod"
   ]
  },
  {
   "cell_type": "code",
   "execution_count": 301,
   "id": "95765ab7",
   "metadata": {},
   "outputs": [
    {
     "data": {
      "text/plain": [
       "Index(['Genero', 'Agrupacion_Oficina_Atencion', 'Oficina_Atencion',\n",
       "       'Categoria', 'Recordatorio_Correo', 'Recordatorio_SMS',\n",
       "       'Canal_Asignacion', 'Entidad_Atencion', 'Tramite',\n",
       "       'Tipo_Documento_Identidad', 'dia_semana_asignacion', 'dia_semana_cita',\n",
       "       'Demora', 'rango_hora_asignacion', 'rango_hora_cita',\n",
       "       'Tramite_Oficina'],\n",
       "      dtype='object')"
      ]
     },
     "execution_count": 301,
     "metadata": {},
     "output_type": "execute_result"
    }
   ],
   "source": [
    "\n",
    "features = df_mod.drop(columns=['target', 'Estado_Cita']).columns\n",
    "features"
   ]
  },
  {
   "cell_type": "code",
   "execution_count": 319,
   "id": "b43805e4",
   "metadata": {},
   "outputs": [
    {
     "name": "stderr",
     "output_type": "stream",
     "text": [
      "/var/folders/z0/vchk24hj0y707vpcv211pl1w0000gn/T/ipykernel_24148/267521413.py:4: FutureWarning:\n",
      "\n",
      "The default of observed=False is deprecated and will be changed to True in a future version of pandas. Pass observed=False to retain current behavior or observed=True to adopt the future default and silence this warning.\n",
      "\n"
     ]
    },
    {
     "data": {
      "text/plain": [
       "Estado_Cita\n",
       "Absentismo    17730\n",
       "Atendida      59066\n",
       "Cancelada     23204\n",
       "dtype: int64"
      ]
     },
     "execution_count": 319,
     "metadata": {},
     "output_type": "execute_result"
    }
   ],
   "source": [
    "# select a random sample of 50000 rows\n",
    "df_mod_try  = df_mod.sample(n=100000, random_state=42)\n",
    "\n",
    "df_mod_try.groupby(['Estado_Cita']).size()\n",
    "\n"
   ]
  },
  {
   "cell_type": "code",
   "execution_count": 304,
   "id": "a180f91d",
   "metadata": {},
   "outputs": [
    {
     "data": {
      "text/html": [
       "<div>\n",
       "<style scoped>\n",
       "    .dataframe tbody tr th:only-of-type {\n",
       "        vertical-align: middle;\n",
       "    }\n",
       "\n",
       "    .dataframe tbody tr th {\n",
       "        vertical-align: top;\n",
       "    }\n",
       "\n",
       "    .dataframe thead th {\n",
       "        text-align: right;\n",
       "    }\n",
       "</style>\n",
       "<table border=\"1\" class=\"dataframe\">\n",
       "  <thead>\n",
       "    <tr style=\"text-align: right;\">\n",
       "      <th></th>\n",
       "      <th>Estado_Cita</th>\n",
       "      <th>Genero</th>\n",
       "      <th>Agrupacion_Oficina_Atencion</th>\n",
       "      <th>Oficina_Atencion</th>\n",
       "      <th>Categoria</th>\n",
       "      <th>Recordatorio_Correo</th>\n",
       "      <th>Recordatorio_SMS</th>\n",
       "      <th>Canal_Asignacion</th>\n",
       "      <th>Entidad_Atencion</th>\n",
       "      <th>Tramite</th>\n",
       "      <th>Tipo_Documento_Identidad</th>\n",
       "      <th>dia_semana_asignacion</th>\n",
       "      <th>dia_semana_cita</th>\n",
       "      <th>Demora</th>\n",
       "      <th>rango_hora_asignacion</th>\n",
       "      <th>rango_hora_cita</th>\n",
       "      <th>target</th>\n",
       "      <th>Tramite_Oficina</th>\n",
       "    </tr>\n",
       "  </thead>\n",
       "  <tbody>\n",
       "    <tr>\n",
       "      <th>101885</th>\n",
       "      <td>Atendida</td>\n",
       "      <td>1</td>\n",
       "      <td>LINEA MADRID</td>\n",
       "      <td>OAC Villa de Vallecas</td>\n",
       "      <td>Contribuyente</td>\n",
       "      <td>0</td>\n",
       "      <td>0</td>\n",
       "      <td>010</td>\n",
       "      <td>LINEA MADRID</td>\n",
       "      <td>Domiciliaciones pagos y recibos en LINEA MADRID</td>\n",
       "      <td>DNI</td>\n",
       "      <td>Monday</td>\n",
       "      <td>Monday</td>\n",
       "      <td>0</td>\n",
       "      <td>9</td>\n",
       "      <td>11</td>\n",
       "      <td>Atendida</td>\n",
       "      <td>Domiciliaciones pagos y recibos en LINEA MADRI...</td>\n",
       "    </tr>\n",
       "    <tr>\n",
       "      <th>553362</th>\n",
       "      <td>Atendida</td>\n",
       "      <td>3</td>\n",
       "      <td>LINEA MADRID</td>\n",
       "      <td>OAC Chamberí</td>\n",
       "      <td>Padrón y censo</td>\n",
       "      <td>0</td>\n",
       "      <td>0</td>\n",
       "      <td>Internet Móvil</td>\n",
       "      <td>LINEA MADRID</td>\n",
       "      <td>Renovación o confirmación en Padrón de persona...</td>\n",
       "      <td>Tarjeta Residencia</td>\n",
       "      <td>Thursday</td>\n",
       "      <td>Friday</td>\n",
       "      <td>1</td>\n",
       "      <td>19</td>\n",
       "      <td>12</td>\n",
       "      <td>Atendida</td>\n",
       "      <td>Renovación o confirmación en Padrón de persona...</td>\n",
       "    </tr>\n",
       "    <tr>\n",
       "      <th>40817</th>\n",
       "      <td>Atendida</td>\n",
       "      <td>3</td>\n",
       "      <td>LINEA MADRID</td>\n",
       "      <td>OAC Chamberí</td>\n",
       "      <td>Padrón y censo</td>\n",
       "      <td>0</td>\n",
       "      <td>0</td>\n",
       "      <td>Internet Móvil</td>\n",
       "      <td>LINEA MADRID</td>\n",
       "      <td>Altas, bajas y cambio de domicilio en Padrón</td>\n",
       "      <td>DNI</td>\n",
       "      <td>Monday</td>\n",
       "      <td>Tuesday</td>\n",
       "      <td>1</td>\n",
       "      <td>15</td>\n",
       "      <td>13</td>\n",
       "      <td>Atendida</td>\n",
       "      <td>Altas, bajas y cambio de domicilio en Padrón_O...</td>\n",
       "    </tr>\n",
       "  </tbody>\n",
       "</table>\n",
       "</div>"
      ],
      "text/plain": [
       "       Estado_Cita Genero Agrupacion_Oficina_Atencion       Oficina_Atencion  \\\n",
       "101885    Atendida      1                LINEA MADRID  OAC Villa de Vallecas   \n",
       "553362    Atendida      3                LINEA MADRID           OAC Chamberí   \n",
       "40817     Atendida      3                LINEA MADRID           OAC Chamberí   \n",
       "\n",
       "             Categoria Recordatorio_Correo Recordatorio_SMS Canal_Asignacion  \\\n",
       "101885   Contribuyente                   0                0              010   \n",
       "553362  Padrón y censo                   0                0   Internet Móvil   \n",
       "40817   Padrón y censo                   0                0   Internet Móvil   \n",
       "\n",
       "       Entidad_Atencion                                            Tramite  \\\n",
       "101885     LINEA MADRID    Domiciliaciones pagos y recibos en LINEA MADRID   \n",
       "553362     LINEA MADRID  Renovación o confirmación en Padrón de persona...   \n",
       "40817      LINEA MADRID       Altas, bajas y cambio de domicilio en Padrón   \n",
       "\n",
       "       Tipo_Documento_Identidad dia_semana_asignacion dia_semana_cita  Demora  \\\n",
       "101885                      DNI                Monday          Monday       0   \n",
       "553362       Tarjeta Residencia              Thursday          Friday       1   \n",
       "40817                       DNI                Monday         Tuesday       1   \n",
       "\n",
       "        rango_hora_asignacion  rango_hora_cita    target  \\\n",
       "101885                      9               11  Atendida   \n",
       "553362                     19               12  Atendida   \n",
       "40817                      15               13  Atendida   \n",
       "\n",
       "                                          Tramite_Oficina  \n",
       "101885  Domiciliaciones pagos y recibos en LINEA MADRI...  \n",
       "553362  Renovación o confirmación en Padrón de persona...  \n",
       "40817   Altas, bajas y cambio de domicilio en Padrón_O...  "
      ]
     },
     "execution_count": 304,
     "metadata": {},
     "output_type": "execute_result"
    }
   ],
   "source": [
    "df_mod_try.head(3)"
   ]
  },
  {
   "cell_type": "code",
   "execution_count": 305,
   "id": "bfccee42",
   "metadata": {},
   "outputs": [
    {
     "data": {
      "text/html": [
       "<div>\n",
       "<style scoped>\n",
       "    .dataframe tbody tr th:only-of-type {\n",
       "        vertical-align: middle;\n",
       "    }\n",
       "\n",
       "    .dataframe tbody tr th {\n",
       "        vertical-align: top;\n",
       "    }\n",
       "\n",
       "    .dataframe thead th {\n",
       "        text-align: right;\n",
       "    }\n",
       "</style>\n",
       "<table border=\"1\" class=\"dataframe\">\n",
       "  <thead>\n",
       "    <tr style=\"text-align: right;\">\n",
       "      <th></th>\n",
       "      <th>Genero</th>\n",
       "      <th>Agrupacion_Oficina_Atencion</th>\n",
       "      <th>Oficina_Atencion</th>\n",
       "      <th>Categoria</th>\n",
       "      <th>Recordatorio_Correo</th>\n",
       "      <th>Recordatorio_SMS</th>\n",
       "      <th>Canal_Asignacion</th>\n",
       "      <th>Entidad_Atencion</th>\n",
       "      <th>Tramite</th>\n",
       "      <th>Tipo_Documento_Identidad</th>\n",
       "      <th>dia_semana_asignacion</th>\n",
       "      <th>dia_semana_cita</th>\n",
       "      <th>Demora</th>\n",
       "      <th>rango_hora_asignacion</th>\n",
       "      <th>rango_hora_cita</th>\n",
       "      <th>Tramite_Oficina</th>\n",
       "    </tr>\n",
       "  </thead>\n",
       "  <tbody>\n",
       "    <tr>\n",
       "      <th>101885</th>\n",
       "      <td>1</td>\n",
       "      <td>LINEA MADRID</td>\n",
       "      <td>OAC Villa de Vallecas</td>\n",
       "      <td>Contribuyente</td>\n",
       "      <td>0</td>\n",
       "      <td>0</td>\n",
       "      <td>010</td>\n",
       "      <td>LINEA MADRID</td>\n",
       "      <td>Domiciliaciones pagos y recibos en LINEA MADRID</td>\n",
       "      <td>DNI</td>\n",
       "      <td>Monday</td>\n",
       "      <td>Monday</td>\n",
       "      <td>0</td>\n",
       "      <td>9</td>\n",
       "      <td>11</td>\n",
       "      <td>Domiciliaciones pagos y recibos en LINEA MADRI...</td>\n",
       "    </tr>\n",
       "    <tr>\n",
       "      <th>553362</th>\n",
       "      <td>3</td>\n",
       "      <td>LINEA MADRID</td>\n",
       "      <td>OAC Chamberí</td>\n",
       "      <td>Padrón y censo</td>\n",
       "      <td>0</td>\n",
       "      <td>0</td>\n",
       "      <td>Internet Móvil</td>\n",
       "      <td>LINEA MADRID</td>\n",
       "      <td>Renovación o confirmación en Padrón de persona...</td>\n",
       "      <td>Tarjeta Residencia</td>\n",
       "      <td>Thursday</td>\n",
       "      <td>Friday</td>\n",
       "      <td>1</td>\n",
       "      <td>19</td>\n",
       "      <td>12</td>\n",
       "      <td>Renovación o confirmación en Padrón de persona...</td>\n",
       "    </tr>\n",
       "  </tbody>\n",
       "</table>\n",
       "</div>"
      ],
      "text/plain": [
       "       Genero Agrupacion_Oficina_Atencion       Oficina_Atencion  \\\n",
       "101885      1                LINEA MADRID  OAC Villa de Vallecas   \n",
       "553362      3                LINEA MADRID           OAC Chamberí   \n",
       "\n",
       "             Categoria Recordatorio_Correo Recordatorio_SMS Canal_Asignacion  \\\n",
       "101885   Contribuyente                   0                0              010   \n",
       "553362  Padrón y censo                   0                0   Internet Móvil   \n",
       "\n",
       "       Entidad_Atencion                                            Tramite  \\\n",
       "101885     LINEA MADRID    Domiciliaciones pagos y recibos en LINEA MADRID   \n",
       "553362     LINEA MADRID  Renovación o confirmación en Padrón de persona...   \n",
       "\n",
       "       Tipo_Documento_Identidad dia_semana_asignacion dia_semana_cita  Demora  \\\n",
       "101885                      DNI                Monday          Monday       0   \n",
       "553362       Tarjeta Residencia              Thursday          Friday       1   \n",
       "\n",
       "        rango_hora_asignacion  rango_hora_cita  \\\n",
       "101885                      9               11   \n",
       "553362                     19               12   \n",
       "\n",
       "                                          Tramite_Oficina  \n",
       "101885  Domiciliaciones pagos y recibos en LINEA MADRI...  \n",
       "553362  Renovación o confirmación en Padrón de persona...  "
      ]
     },
     "metadata": {},
     "output_type": "display_data"
    },
    {
     "data": {
      "text/plain": [
       "101885    0\n",
       "553362    0\n",
       "Name: target, dtype: int64"
      ]
     },
     "metadata": {},
     "output_type": "display_data"
    }
   ],
   "source": [
    "from sklearn.ensemble import RandomForestClassifier\n",
    "from sklearn.model_selection import train_test_split\n",
    "from sklearn.pipeline import Pipeline\n",
    "from sklearn.compose import ColumnTransformer\n",
    "from sklearn.preprocessing import OneHotEncoder, StandardScaler, FunctionTransformer\n",
    "from sklearn.metrics import classification_report\n",
    "from xgboost import XGBClassifier\n",
    "from sklearn.utils.class_weight import compute_sample_weight\n",
    "import numpy as np\n",
    "\n",
    "\n",
    "df_mod_try[\"target\"] = (df_mod_try[\"target\"] != \"Atendida\").astype(int)\n",
    "\n",
    "\n",
    "\n",
    "X = df_mod_try[features]\n",
    "y = df_mod_try[\"target\"]\n",
    "\n",
    "(display(X.head(2)))\n",
    "(display(y.head(2)))\n"
   ]
  },
  {
   "cell_type": "code",
   "execution_count": 306,
   "id": "e5042b07",
   "metadata": {},
   "outputs": [
    {
     "data": {
      "text/plain": [
       "target\n",
       "0    59066\n",
       "1    40934\n",
       "Name: count, dtype: int64"
      ]
     },
     "execution_count": 306,
     "metadata": {},
     "output_type": "execute_result"
    }
   ],
   "source": [
    "y.value_counts()"
   ]
  },
  {
   "cell_type": "code",
   "execution_count": 322,
   "id": "1c951741",
   "metadata": {},
   "outputs": [
    {
     "name": "stderr",
     "output_type": "stream",
     "text": [
      "/Users/personas/Dropbox/side_projects/github/mlops-zoomcamp/project/citas/.venv/lib/python3.11/site-packages/xgboost/training.py:183: UserWarning:\n",
      "\n",
      "[16:57:47] WARNING: /Users/runner/work/xgboost/xgboost/src/learner.cc:738: \n",
      "Parameters: { \"use_label_encoder\" } are not used.\n",
      "\n",
      "\n"
     ]
    },
    {
     "name": "stdout",
     "output_type": "stream",
     "text": [
      "Best threshold (F2): 0.18\n",
      "Best F2-score: 0.7804\n",
      "              precision    recall  f1-score   support\n",
      "\n",
      "    Atendida       0.70      0.92      0.80     11813\n",
      " No Atendida       0.79      0.43      0.56      8187\n",
      "\n",
      "    accuracy                           0.72     20000\n",
      "   macro avg       0.74      0.68      0.68     20000\n",
      "weighted avg       0.74      0.72      0.70     20000\n",
      "\n"
     ]
    }
   ],
   "source": [
    "from sklearn.metrics import precision_recall_curve, fbeta_score\n",
    "from category_encoders import TargetEncoder\n",
    "\n",
    "\n",
    "categorical_cols = [ 'Genero', \n",
    "  'Categoria',\n",
    "  'Recordatorio_Correo', 'Recordatorio_SMS',\n",
    "    'Canal_Asignacion', 'Entidad_Atencion', \n",
    "    'Tipo_Documento_Identidad','dia_semana_asignacion',\n",
    "    'dia_semana_cita']\n",
    "\n",
    "numerical_cols = ['Demora', 'rango_hora_asignacion', 'rango_hora_cita']\n",
    "\n",
    "date_cols = ['dia_asignacion', 'dia_cita']\n",
    "\n",
    "high_cardinality_cols = ['Oficina_Atencion', 'Agrupacion_Oficina_Atencion', 'Tramite']\n",
    "\n",
    "categorical = X[categorical_cols]\n",
    "numerical = X[numerical_cols]\n",
    "high_cardinality = X[high_cardinality_cols]\n",
    "\n",
    "tramite_encoder = Pipeline([\n",
    "    (\"encode\", TargetEncoder())\n",
    "])\n",
    "\n",
    "\n",
    "X_train, X_test, y_train, y_test = train_test_split(X, y, stratify=y, test_size=0.2, random_state=42)\n",
    "\n",
    "\n",
    "# 3. Preprocessing\n",
    "preprocessor = ColumnTransformer([\n",
    "    (\"cat\", OneHotEncoder(handle_unknown='ignore'), categorical_cols),\n",
    "    (\"num\", StandardScaler(), numerical_cols),\n",
    "    (\"high_card\", tramite_encoder, high_cardinality_cols),\n",
    "])\n",
    "\n",
    "classifier = XGBClassifier(n_estimators=300,\n",
    "    max_depth=6,\n",
    "    learning_rate=0.05,\n",
    "    subsample=0.8,\n",
    "    colsample_bytree=0.8,\n",
    "    reg_lambda=1,\n",
    "    reg_alpha=0.1,\n",
    "    use_label_encoder=False,\n",
    "    eval_metric='logloss',\n",
    "    random_state=42)\n",
    "\n",
    "pipeline = Pipeline([\n",
    "    (\"preprocessor\", preprocessor),\n",
    "    (\"classifier\", classifier)\n",
    "])\n",
    "\n",
    "# 7. Train & evaluate\n",
    "pipeline.fit(X_train, y_train)\n",
    "y_pred = pipeline.predict(X_test)\n",
    "\n",
    "# 1. Get predicted probabilities for positive class\n",
    "y_proba = pipeline.predict_proba(X_test)[:, 1]\n",
    "\n",
    "# 2. Generate thresholds\n",
    "precision, recall, thresholds = precision_recall_curve(y_test, y_proba)\n",
    "\n",
    "# 3. Compute F2-score at each threshold\n",
    "beta = 2  # F2 favors recall\n",
    "f2_scores = (1 + beta**2) * (precision * recall) / (beta**2 * precision + recall + 1e-9)\n",
    "\n",
    "# 4. Get best threshold\n",
    "best_idx = np.argmax(f2_scores)\n",
    "best_threshold = thresholds[best_idx]\n",
    "best_f2 = f2_scores[best_idx]\n",
    "\n",
    "print(f\"Best threshold (F2): {best_threshold:.2f}\")\n",
    "print(f\"Best F2-score: {best_f2:.4f}\")\n",
    "\n",
    "report = classification_report(y_test, y_pred, target_names=[\"Atendida\", \"No Atendida\"])\n",
    "print(report)\n"
   ]
  },
  {
   "cell_type": "code",
   "execution_count": null,
   "id": "96072f9e",
   "metadata": {},
   "outputs": [],
   "source": []
  },
  {
   "cell_type": "code",
   "execution_count": 246,
   "id": "aee23139",
   "metadata": {},
   "outputs": [
    {
     "data": {
      "text/plain": [
       "['Domiciliaciones pagos y recibos en LINEA MADRID', 'Renovación o confirmación en Padrón de person..., 'Altas, bajas y cambio de domicilio en Padrón', 'SER - Estacionamiento en vía pública. Atenció..., 'Vacunación internacional', ..., 'Información y otras gestiones en Centros Cult..., 'Subv. adaptación vivienda de usuarios de cent..., 'Apud acta de expedientes de responsabilidad p..., 'Subvención PLAN MAD-RE', 'Biciregistro']\n",
       "Length: 98\n",
       "Categories (100, object): ['Adopción de animales', 'Altas, bajas y cambio de domicilio en Padrón', 'Aplazamiento-Fraccionamiento de deudas tribut..., 'Apud acta de expedientes de responsabilidad p..., ..., 'Vacunación internacional', 'ZBEDEP Distrito Centro, Oficina Atención Espe..., 'ZBEDEP Plaza Elíptica, Oficina Atención Espec..., 'Zonas de bajas emisiones Personas físicas OAC...]"
      ]
     },
     "execution_count": 246,
     "metadata": {},
     "output_type": "execute_result"
    }
   ],
   "source": [
    "df_mod_try['Tramite'].unique()"
   ]
  },
  {
   "cell_type": "code",
   "execution_count": 316,
   "id": "ba171070",
   "metadata": {},
   "outputs": [
    {
     "name": "stderr",
     "output_type": "stream",
     "text": [
      "/Users/personas/Dropbox/side_projects/github/mlops-zoomcamp/project/citas/.venv/lib/python3.11/site-packages/xgboost/training.py:183: UserWarning:\n",
      "\n",
      "[12:47:39] WARNING: /Users/runner/work/xgboost/xgboost/src/learner.cc:738: \n",
      "Parameters: { \"use_label_encoder\" } are not used.\n",
      "\n",
      "\n"
     ]
    },
    {
     "data": {
      "text/html": [
       "<style>#sk-container-id-5 {\n",
       "  /* Definition of color scheme common for light and dark mode */\n",
       "  --sklearn-color-text: #000;\n",
       "  --sklearn-color-text-muted: #666;\n",
       "  --sklearn-color-line: gray;\n",
       "  /* Definition of color scheme for unfitted estimators */\n",
       "  --sklearn-color-unfitted-level-0: #fff5e6;\n",
       "  --sklearn-color-unfitted-level-1: #f6e4d2;\n",
       "  --sklearn-color-unfitted-level-2: #ffe0b3;\n",
       "  --sklearn-color-unfitted-level-3: chocolate;\n",
       "  /* Definition of color scheme for fitted estimators */\n",
       "  --sklearn-color-fitted-level-0: #f0f8ff;\n",
       "  --sklearn-color-fitted-level-1: #d4ebff;\n",
       "  --sklearn-color-fitted-level-2: #b3dbfd;\n",
       "  --sklearn-color-fitted-level-3: cornflowerblue;\n",
       "\n",
       "  /* Specific color for light theme */\n",
       "  --sklearn-color-text-on-default-background: var(--sg-text-color, var(--theme-code-foreground, var(--jp-content-font-color1, black)));\n",
       "  --sklearn-color-background: var(--sg-background-color, var(--theme-background, var(--jp-layout-color0, white)));\n",
       "  --sklearn-color-border-box: var(--sg-text-color, var(--theme-code-foreground, var(--jp-content-font-color1, black)));\n",
       "  --sklearn-color-icon: #696969;\n",
       "\n",
       "  @media (prefers-color-scheme: dark) {\n",
       "    /* Redefinition of color scheme for dark theme */\n",
       "    --sklearn-color-text-on-default-background: var(--sg-text-color, var(--theme-code-foreground, var(--jp-content-font-color1, white)));\n",
       "    --sklearn-color-background: var(--sg-background-color, var(--theme-background, var(--jp-layout-color0, #111)));\n",
       "    --sklearn-color-border-box: var(--sg-text-color, var(--theme-code-foreground, var(--jp-content-font-color1, white)));\n",
       "    --sklearn-color-icon: #878787;\n",
       "  }\n",
       "}\n",
       "\n",
       "#sk-container-id-5 {\n",
       "  color: var(--sklearn-color-text);\n",
       "}\n",
       "\n",
       "#sk-container-id-5 pre {\n",
       "  padding: 0;\n",
       "}\n",
       "\n",
       "#sk-container-id-5 input.sk-hidden--visually {\n",
       "  border: 0;\n",
       "  clip: rect(1px 1px 1px 1px);\n",
       "  clip: rect(1px, 1px, 1px, 1px);\n",
       "  height: 1px;\n",
       "  margin: -1px;\n",
       "  overflow: hidden;\n",
       "  padding: 0;\n",
       "  position: absolute;\n",
       "  width: 1px;\n",
       "}\n",
       "\n",
       "#sk-container-id-5 div.sk-dashed-wrapped {\n",
       "  border: 1px dashed var(--sklearn-color-line);\n",
       "  margin: 0 0.4em 0.5em 0.4em;\n",
       "  box-sizing: border-box;\n",
       "  padding-bottom: 0.4em;\n",
       "  background-color: var(--sklearn-color-background);\n",
       "}\n",
       "\n",
       "#sk-container-id-5 div.sk-container {\n",
       "  /* jupyter's `normalize.less` sets `[hidden] { display: none; }`\n",
       "     but bootstrap.min.css set `[hidden] { display: none !important; }`\n",
       "     so we also need the `!important` here to be able to override the\n",
       "     default hidden behavior on the sphinx rendered scikit-learn.org.\n",
       "     See: https://github.com/scikit-learn/scikit-learn/issues/21755 */\n",
       "  display: inline-block !important;\n",
       "  position: relative;\n",
       "}\n",
       "\n",
       "#sk-container-id-5 div.sk-text-repr-fallback {\n",
       "  display: none;\n",
       "}\n",
       "\n",
       "div.sk-parallel-item,\n",
       "div.sk-serial,\n",
       "div.sk-item {\n",
       "  /* draw centered vertical line to link estimators */\n",
       "  background-image: linear-gradient(var(--sklearn-color-text-on-default-background), var(--sklearn-color-text-on-default-background));\n",
       "  background-size: 2px 100%;\n",
       "  background-repeat: no-repeat;\n",
       "  background-position: center center;\n",
       "}\n",
       "\n",
       "/* Parallel-specific style estimator block */\n",
       "\n",
       "#sk-container-id-5 div.sk-parallel-item::after {\n",
       "  content: \"\";\n",
       "  width: 100%;\n",
       "  border-bottom: 2px solid var(--sklearn-color-text-on-default-background);\n",
       "  flex-grow: 1;\n",
       "}\n",
       "\n",
       "#sk-container-id-5 div.sk-parallel {\n",
       "  display: flex;\n",
       "  align-items: stretch;\n",
       "  justify-content: center;\n",
       "  background-color: var(--sklearn-color-background);\n",
       "  position: relative;\n",
       "}\n",
       "\n",
       "#sk-container-id-5 div.sk-parallel-item {\n",
       "  display: flex;\n",
       "  flex-direction: column;\n",
       "}\n",
       "\n",
       "#sk-container-id-5 div.sk-parallel-item:first-child::after {\n",
       "  align-self: flex-end;\n",
       "  width: 50%;\n",
       "}\n",
       "\n",
       "#sk-container-id-5 div.sk-parallel-item:last-child::after {\n",
       "  align-self: flex-start;\n",
       "  width: 50%;\n",
       "}\n",
       "\n",
       "#sk-container-id-5 div.sk-parallel-item:only-child::after {\n",
       "  width: 0;\n",
       "}\n",
       "\n",
       "/* Serial-specific style estimator block */\n",
       "\n",
       "#sk-container-id-5 div.sk-serial {\n",
       "  display: flex;\n",
       "  flex-direction: column;\n",
       "  align-items: center;\n",
       "  background-color: var(--sklearn-color-background);\n",
       "  padding-right: 1em;\n",
       "  padding-left: 1em;\n",
       "}\n",
       "\n",
       "\n",
       "/* Toggleable style: style used for estimator/Pipeline/ColumnTransformer box that is\n",
       "clickable and can be expanded/collapsed.\n",
       "- Pipeline and ColumnTransformer use this feature and define the default style\n",
       "- Estimators will overwrite some part of the style using the `sk-estimator` class\n",
       "*/\n",
       "\n",
       "/* Pipeline and ColumnTransformer style (default) */\n",
       "\n",
       "#sk-container-id-5 div.sk-toggleable {\n",
       "  /* Default theme specific background. It is overwritten whether we have a\n",
       "  specific estimator or a Pipeline/ColumnTransformer */\n",
       "  background-color: var(--sklearn-color-background);\n",
       "}\n",
       "\n",
       "/* Toggleable label */\n",
       "#sk-container-id-5 label.sk-toggleable__label {\n",
       "  cursor: pointer;\n",
       "  display: flex;\n",
       "  width: 100%;\n",
       "  margin-bottom: 0;\n",
       "  padding: 0.5em;\n",
       "  box-sizing: border-box;\n",
       "  text-align: center;\n",
       "  align-items: start;\n",
       "  justify-content: space-between;\n",
       "  gap: 0.5em;\n",
       "}\n",
       "\n",
       "#sk-container-id-5 label.sk-toggleable__label .caption {\n",
       "  font-size: 0.6rem;\n",
       "  font-weight: lighter;\n",
       "  color: var(--sklearn-color-text-muted);\n",
       "}\n",
       "\n",
       "#sk-container-id-5 label.sk-toggleable__label-arrow:before {\n",
       "  /* Arrow on the left of the label */\n",
       "  content: \"▸\";\n",
       "  float: left;\n",
       "  margin-right: 0.25em;\n",
       "  color: var(--sklearn-color-icon);\n",
       "}\n",
       "\n",
       "#sk-container-id-5 label.sk-toggleable__label-arrow:hover:before {\n",
       "  color: var(--sklearn-color-text);\n",
       "}\n",
       "\n",
       "/* Toggleable content - dropdown */\n",
       "\n",
       "#sk-container-id-5 div.sk-toggleable__content {\n",
       "  max-height: 0;\n",
       "  max-width: 0;\n",
       "  overflow: hidden;\n",
       "  text-align: left;\n",
       "  /* unfitted */\n",
       "  background-color: var(--sklearn-color-unfitted-level-0);\n",
       "}\n",
       "\n",
       "#sk-container-id-5 div.sk-toggleable__content.fitted {\n",
       "  /* fitted */\n",
       "  background-color: var(--sklearn-color-fitted-level-0);\n",
       "}\n",
       "\n",
       "#sk-container-id-5 div.sk-toggleable__content pre {\n",
       "  margin: 0.2em;\n",
       "  border-radius: 0.25em;\n",
       "  color: var(--sklearn-color-text);\n",
       "  /* unfitted */\n",
       "  background-color: var(--sklearn-color-unfitted-level-0);\n",
       "}\n",
       "\n",
       "#sk-container-id-5 div.sk-toggleable__content.fitted pre {\n",
       "  /* unfitted */\n",
       "  background-color: var(--sklearn-color-fitted-level-0);\n",
       "}\n",
       "\n",
       "#sk-container-id-5 input.sk-toggleable__control:checked~div.sk-toggleable__content {\n",
       "  /* Expand drop-down */\n",
       "  max-height: 200px;\n",
       "  max-width: 100%;\n",
       "  overflow: auto;\n",
       "}\n",
       "\n",
       "#sk-container-id-5 input.sk-toggleable__control:checked~label.sk-toggleable__label-arrow:before {\n",
       "  content: \"▾\";\n",
       "}\n",
       "\n",
       "/* Pipeline/ColumnTransformer-specific style */\n",
       "\n",
       "#sk-container-id-5 div.sk-label input.sk-toggleable__control:checked~label.sk-toggleable__label {\n",
       "  color: var(--sklearn-color-text);\n",
       "  background-color: var(--sklearn-color-unfitted-level-2);\n",
       "}\n",
       "\n",
       "#sk-container-id-5 div.sk-label.fitted input.sk-toggleable__control:checked~label.sk-toggleable__label {\n",
       "  background-color: var(--sklearn-color-fitted-level-2);\n",
       "}\n",
       "\n",
       "/* Estimator-specific style */\n",
       "\n",
       "/* Colorize estimator box */\n",
       "#sk-container-id-5 div.sk-estimator input.sk-toggleable__control:checked~label.sk-toggleable__label {\n",
       "  /* unfitted */\n",
       "  background-color: var(--sklearn-color-unfitted-level-2);\n",
       "}\n",
       "\n",
       "#sk-container-id-5 div.sk-estimator.fitted input.sk-toggleable__control:checked~label.sk-toggleable__label {\n",
       "  /* fitted */\n",
       "  background-color: var(--sklearn-color-fitted-level-2);\n",
       "}\n",
       "\n",
       "#sk-container-id-5 div.sk-label label.sk-toggleable__label,\n",
       "#sk-container-id-5 div.sk-label label {\n",
       "  /* The background is the default theme color */\n",
       "  color: var(--sklearn-color-text-on-default-background);\n",
       "}\n",
       "\n",
       "/* On hover, darken the color of the background */\n",
       "#sk-container-id-5 div.sk-label:hover label.sk-toggleable__label {\n",
       "  color: var(--sklearn-color-text);\n",
       "  background-color: var(--sklearn-color-unfitted-level-2);\n",
       "}\n",
       "\n",
       "/* Label box, darken color on hover, fitted */\n",
       "#sk-container-id-5 div.sk-label.fitted:hover label.sk-toggleable__label.fitted {\n",
       "  color: var(--sklearn-color-text);\n",
       "  background-color: var(--sklearn-color-fitted-level-2);\n",
       "}\n",
       "\n",
       "/* Estimator label */\n",
       "\n",
       "#sk-container-id-5 div.sk-label label {\n",
       "  font-family: monospace;\n",
       "  font-weight: bold;\n",
       "  display: inline-block;\n",
       "  line-height: 1.2em;\n",
       "}\n",
       "\n",
       "#sk-container-id-5 div.sk-label-container {\n",
       "  text-align: center;\n",
       "}\n",
       "\n",
       "/* Estimator-specific */\n",
       "#sk-container-id-5 div.sk-estimator {\n",
       "  font-family: monospace;\n",
       "  border: 1px dotted var(--sklearn-color-border-box);\n",
       "  border-radius: 0.25em;\n",
       "  box-sizing: border-box;\n",
       "  margin-bottom: 0.5em;\n",
       "  /* unfitted */\n",
       "  background-color: var(--sklearn-color-unfitted-level-0);\n",
       "}\n",
       "\n",
       "#sk-container-id-5 div.sk-estimator.fitted {\n",
       "  /* fitted */\n",
       "  background-color: var(--sklearn-color-fitted-level-0);\n",
       "}\n",
       "\n",
       "/* on hover */\n",
       "#sk-container-id-5 div.sk-estimator:hover {\n",
       "  /* unfitted */\n",
       "  background-color: var(--sklearn-color-unfitted-level-2);\n",
       "}\n",
       "\n",
       "#sk-container-id-5 div.sk-estimator.fitted:hover {\n",
       "  /* fitted */\n",
       "  background-color: var(--sklearn-color-fitted-level-2);\n",
       "}\n",
       "\n",
       "/* Specification for estimator info (e.g. \"i\" and \"?\") */\n",
       "\n",
       "/* Common style for \"i\" and \"?\" */\n",
       "\n",
       ".sk-estimator-doc-link,\n",
       "a:link.sk-estimator-doc-link,\n",
       "a:visited.sk-estimator-doc-link {\n",
       "  float: right;\n",
       "  font-size: smaller;\n",
       "  line-height: 1em;\n",
       "  font-family: monospace;\n",
       "  background-color: var(--sklearn-color-background);\n",
       "  border-radius: 1em;\n",
       "  height: 1em;\n",
       "  width: 1em;\n",
       "  text-decoration: none !important;\n",
       "  margin-left: 0.5em;\n",
       "  text-align: center;\n",
       "  /* unfitted */\n",
       "  border: var(--sklearn-color-unfitted-level-1) 1pt solid;\n",
       "  color: var(--sklearn-color-unfitted-level-1);\n",
       "}\n",
       "\n",
       ".sk-estimator-doc-link.fitted,\n",
       "a:link.sk-estimator-doc-link.fitted,\n",
       "a:visited.sk-estimator-doc-link.fitted {\n",
       "  /* fitted */\n",
       "  border: var(--sklearn-color-fitted-level-1) 1pt solid;\n",
       "  color: var(--sklearn-color-fitted-level-1);\n",
       "}\n",
       "\n",
       "/* On hover */\n",
       "div.sk-estimator:hover .sk-estimator-doc-link:hover,\n",
       ".sk-estimator-doc-link:hover,\n",
       "div.sk-label-container:hover .sk-estimator-doc-link:hover,\n",
       ".sk-estimator-doc-link:hover {\n",
       "  /* unfitted */\n",
       "  background-color: var(--sklearn-color-unfitted-level-3);\n",
       "  color: var(--sklearn-color-background);\n",
       "  text-decoration: none;\n",
       "}\n",
       "\n",
       "div.sk-estimator.fitted:hover .sk-estimator-doc-link.fitted:hover,\n",
       ".sk-estimator-doc-link.fitted:hover,\n",
       "div.sk-label-container:hover .sk-estimator-doc-link.fitted:hover,\n",
       ".sk-estimator-doc-link.fitted:hover {\n",
       "  /* fitted */\n",
       "  background-color: var(--sklearn-color-fitted-level-3);\n",
       "  color: var(--sklearn-color-background);\n",
       "  text-decoration: none;\n",
       "}\n",
       "\n",
       "/* Span, style for the box shown on hovering the info icon */\n",
       ".sk-estimator-doc-link span {\n",
       "  display: none;\n",
       "  z-index: 9999;\n",
       "  position: relative;\n",
       "  font-weight: normal;\n",
       "  right: .2ex;\n",
       "  padding: .5ex;\n",
       "  margin: .5ex;\n",
       "  width: min-content;\n",
       "  min-width: 20ex;\n",
       "  max-width: 50ex;\n",
       "  color: var(--sklearn-color-text);\n",
       "  box-shadow: 2pt 2pt 4pt #999;\n",
       "  /* unfitted */\n",
       "  background: var(--sklearn-color-unfitted-level-0);\n",
       "  border: .5pt solid var(--sklearn-color-unfitted-level-3);\n",
       "}\n",
       "\n",
       ".sk-estimator-doc-link.fitted span {\n",
       "  /* fitted */\n",
       "  background: var(--sklearn-color-fitted-level-0);\n",
       "  border: var(--sklearn-color-fitted-level-3);\n",
       "}\n",
       "\n",
       ".sk-estimator-doc-link:hover span {\n",
       "  display: block;\n",
       "}\n",
       "\n",
       "/* \"?\"-specific style due to the `<a>` HTML tag */\n",
       "\n",
       "#sk-container-id-5 a.estimator_doc_link {\n",
       "  float: right;\n",
       "  font-size: 1rem;\n",
       "  line-height: 1em;\n",
       "  font-family: monospace;\n",
       "  background-color: var(--sklearn-color-background);\n",
       "  border-radius: 1rem;\n",
       "  height: 1rem;\n",
       "  width: 1rem;\n",
       "  text-decoration: none;\n",
       "  /* unfitted */\n",
       "  color: var(--sklearn-color-unfitted-level-1);\n",
       "  border: var(--sklearn-color-unfitted-level-1) 1pt solid;\n",
       "}\n",
       "\n",
       "#sk-container-id-5 a.estimator_doc_link.fitted {\n",
       "  /* fitted */\n",
       "  border: var(--sklearn-color-fitted-level-1) 1pt solid;\n",
       "  color: var(--sklearn-color-fitted-level-1);\n",
       "}\n",
       "\n",
       "/* On hover */\n",
       "#sk-container-id-5 a.estimator_doc_link:hover {\n",
       "  /* unfitted */\n",
       "  background-color: var(--sklearn-color-unfitted-level-3);\n",
       "  color: var(--sklearn-color-background);\n",
       "  text-decoration: none;\n",
       "}\n",
       "\n",
       "#sk-container-id-5 a.estimator_doc_link.fitted:hover {\n",
       "  /* fitted */\n",
       "  background-color: var(--sklearn-color-fitted-level-3);\n",
       "}\n",
       "</style><div id=\"sk-container-id-5\" class=\"sk-top-container\"><div class=\"sk-text-repr-fallback\"><pre>Pipeline(steps=[(&#x27;preprocessor&#x27;,\n",
       "                 ColumnTransformer(transformers=[(&#x27;cat&#x27;,\n",
       "                                                  OneHotEncoder(handle_unknown=&#x27;ignore&#x27;),\n",
       "                                                  [&#x27;Genero&#x27;, &#x27;Categoria&#x27;,\n",
       "                                                   &#x27;Recordatorio_Correo&#x27;,\n",
       "                                                   &#x27;Recordatorio_SMS&#x27;,\n",
       "                                                   &#x27;Canal_Asignacion&#x27;,\n",
       "                                                   &#x27;Entidad_Atencion&#x27;,\n",
       "                                                   &#x27;Tipo_Documento_Identidad&#x27;,\n",
       "                                                   &#x27;dia_semana_asignacion&#x27;,\n",
       "                                                   &#x27;dia_semana_cita&#x27;]),\n",
       "                                                 (&#x27;num&#x27;, StandardScaler(),\n",
       "                                                  [&#x27;Demora&#x27;,\n",
       "                                                   &#x27;rango_hora_asignacion&#x27;,\n",
       "                                                   &#x27;rango_hor...\n",
       "                               feature_types=None, feature_weights=None,\n",
       "                               gamma=None, grow_policy=None,\n",
       "                               importance_type=None,\n",
       "                               interaction_constraints=None, learning_rate=0.05,\n",
       "                               max_bin=None, max_cat_threshold=None,\n",
       "                               max_cat_to_onehot=None, max_delta_step=None,\n",
       "                               max_depth=6, max_leaves=None,\n",
       "                               min_child_weight=None, missing=nan,\n",
       "                               monotone_constraints=None, multi_strategy=None,\n",
       "                               n_estimators=300, n_jobs=None,\n",
       "                               num_parallel_tree=None, ...))])</pre><b>In a Jupyter environment, please rerun this cell to show the HTML representation or trust the notebook. <br />On GitHub, the HTML representation is unable to render, please try loading this page with nbviewer.org.</b></div><div class=\"sk-container\" hidden><div class=\"sk-item sk-dashed-wrapped\"><div class=\"sk-label-container\"><div class=\"sk-label fitted sk-toggleable\"><input class=\"sk-toggleable__control sk-hidden--visually\" id=\"sk-estimator-id-33\" type=\"checkbox\" ><label for=\"sk-estimator-id-33\" class=\"sk-toggleable__label fitted sk-toggleable__label-arrow\"><div><div>Pipeline</div></div><div><a class=\"sk-estimator-doc-link fitted\" rel=\"noreferrer\" target=\"_blank\" href=\"https://scikit-learn.org/1.6/modules/generated/sklearn.pipeline.Pipeline.html\">?<span>Documentation for Pipeline</span></a><span class=\"sk-estimator-doc-link fitted\">i<span>Fitted</span></span></div></label><div class=\"sk-toggleable__content fitted\"><pre>Pipeline(steps=[(&#x27;preprocessor&#x27;,\n",
       "                 ColumnTransformer(transformers=[(&#x27;cat&#x27;,\n",
       "                                                  OneHotEncoder(handle_unknown=&#x27;ignore&#x27;),\n",
       "                                                  [&#x27;Genero&#x27;, &#x27;Categoria&#x27;,\n",
       "                                                   &#x27;Recordatorio_Correo&#x27;,\n",
       "                                                   &#x27;Recordatorio_SMS&#x27;,\n",
       "                                                   &#x27;Canal_Asignacion&#x27;,\n",
       "                                                   &#x27;Entidad_Atencion&#x27;,\n",
       "                                                   &#x27;Tipo_Documento_Identidad&#x27;,\n",
       "                                                   &#x27;dia_semana_asignacion&#x27;,\n",
       "                                                   &#x27;dia_semana_cita&#x27;]),\n",
       "                                                 (&#x27;num&#x27;, StandardScaler(),\n",
       "                                                  [&#x27;Demora&#x27;,\n",
       "                                                   &#x27;rango_hora_asignacion&#x27;,\n",
       "                                                   &#x27;rango_hor...\n",
       "                               feature_types=None, feature_weights=None,\n",
       "                               gamma=None, grow_policy=None,\n",
       "                               importance_type=None,\n",
       "                               interaction_constraints=None, learning_rate=0.05,\n",
       "                               max_bin=None, max_cat_threshold=None,\n",
       "                               max_cat_to_onehot=None, max_delta_step=None,\n",
       "                               max_depth=6, max_leaves=None,\n",
       "                               min_child_weight=None, missing=nan,\n",
       "                               monotone_constraints=None, multi_strategy=None,\n",
       "                               n_estimators=300, n_jobs=None,\n",
       "                               num_parallel_tree=None, ...))])</pre></div> </div></div><div class=\"sk-serial\"><div class=\"sk-item sk-dashed-wrapped\"><div class=\"sk-label-container\"><div class=\"sk-label fitted sk-toggleable\"><input class=\"sk-toggleable__control sk-hidden--visually\" id=\"sk-estimator-id-34\" type=\"checkbox\" ><label for=\"sk-estimator-id-34\" class=\"sk-toggleable__label fitted sk-toggleable__label-arrow\"><div><div>preprocessor: ColumnTransformer</div></div><div><a class=\"sk-estimator-doc-link fitted\" rel=\"noreferrer\" target=\"_blank\" href=\"https://scikit-learn.org/1.6/modules/generated/sklearn.compose.ColumnTransformer.html\">?<span>Documentation for preprocessor: ColumnTransformer</span></a></div></label><div class=\"sk-toggleable__content fitted\"><pre>ColumnTransformer(transformers=[(&#x27;cat&#x27;, OneHotEncoder(handle_unknown=&#x27;ignore&#x27;),\n",
       "                                 [&#x27;Genero&#x27;, &#x27;Categoria&#x27;, &#x27;Recordatorio_Correo&#x27;,\n",
       "                                  &#x27;Recordatorio_SMS&#x27;, &#x27;Canal_Asignacion&#x27;,\n",
       "                                  &#x27;Entidad_Atencion&#x27;,\n",
       "                                  &#x27;Tipo_Documento_Identidad&#x27;,\n",
       "                                  &#x27;dia_semana_asignacion&#x27;, &#x27;dia_semana_cita&#x27;]),\n",
       "                                (&#x27;num&#x27;, StandardScaler(),\n",
       "                                 [&#x27;Demora&#x27;, &#x27;rango_hora_asignacion&#x27;,\n",
       "                                  &#x27;rango_hora_cita&#x27;]),\n",
       "                                (&#x27;high_card&#x27;,\n",
       "                                 Pipeline(steps=[(&#x27;encode&#x27;, TargetEncoder())]),\n",
       "                                 [&#x27;Oficina_Atencion&#x27;,\n",
       "                                  &#x27;Agrupacion_Oficina_Atencion&#x27;, &#x27;Tramite&#x27;,\n",
       "                                  &#x27;Tramite_Oficina&#x27;])])</pre></div> </div></div><div class=\"sk-parallel\"><div class=\"sk-parallel-item\"><div class=\"sk-item\"><div class=\"sk-label-container\"><div class=\"sk-label fitted sk-toggleable\"><input class=\"sk-toggleable__control sk-hidden--visually\" id=\"sk-estimator-id-35\" type=\"checkbox\" ><label for=\"sk-estimator-id-35\" class=\"sk-toggleable__label fitted sk-toggleable__label-arrow\"><div><div>cat</div></div></label><div class=\"sk-toggleable__content fitted\"><pre>[&#x27;Genero&#x27;, &#x27;Categoria&#x27;, &#x27;Recordatorio_Correo&#x27;, &#x27;Recordatorio_SMS&#x27;, &#x27;Canal_Asignacion&#x27;, &#x27;Entidad_Atencion&#x27;, &#x27;Tipo_Documento_Identidad&#x27;, &#x27;dia_semana_asignacion&#x27;, &#x27;dia_semana_cita&#x27;]</pre></div> </div></div><div class=\"sk-serial\"><div class=\"sk-item\"><div class=\"sk-estimator fitted sk-toggleable\"><input class=\"sk-toggleable__control sk-hidden--visually\" id=\"sk-estimator-id-36\" type=\"checkbox\" ><label for=\"sk-estimator-id-36\" class=\"sk-toggleable__label fitted sk-toggleable__label-arrow\"><div><div>OneHotEncoder</div></div><div><a class=\"sk-estimator-doc-link fitted\" rel=\"noreferrer\" target=\"_blank\" href=\"https://scikit-learn.org/1.6/modules/generated/sklearn.preprocessing.OneHotEncoder.html\">?<span>Documentation for OneHotEncoder</span></a></div></label><div class=\"sk-toggleable__content fitted\"><pre>OneHotEncoder(handle_unknown=&#x27;ignore&#x27;)</pre></div> </div></div></div></div></div><div class=\"sk-parallel-item\"><div class=\"sk-item\"><div class=\"sk-label-container\"><div class=\"sk-label fitted sk-toggleable\"><input class=\"sk-toggleable__control sk-hidden--visually\" id=\"sk-estimator-id-37\" type=\"checkbox\" ><label for=\"sk-estimator-id-37\" class=\"sk-toggleable__label fitted sk-toggleable__label-arrow\"><div><div>num</div></div></label><div class=\"sk-toggleable__content fitted\"><pre>[&#x27;Demora&#x27;, &#x27;rango_hora_asignacion&#x27;, &#x27;rango_hora_cita&#x27;]</pre></div> </div></div><div class=\"sk-serial\"><div class=\"sk-item\"><div class=\"sk-estimator fitted sk-toggleable\"><input class=\"sk-toggleable__control sk-hidden--visually\" id=\"sk-estimator-id-38\" type=\"checkbox\" ><label for=\"sk-estimator-id-38\" class=\"sk-toggleable__label fitted sk-toggleable__label-arrow\"><div><div>StandardScaler</div></div><div><a class=\"sk-estimator-doc-link fitted\" rel=\"noreferrer\" target=\"_blank\" href=\"https://scikit-learn.org/1.6/modules/generated/sklearn.preprocessing.StandardScaler.html\">?<span>Documentation for StandardScaler</span></a></div></label><div class=\"sk-toggleable__content fitted\"><pre>StandardScaler()</pre></div> </div></div></div></div></div><div class=\"sk-parallel-item\"><div class=\"sk-item\"><div class=\"sk-label-container\"><div class=\"sk-label fitted sk-toggleable\"><input class=\"sk-toggleable__control sk-hidden--visually\" id=\"sk-estimator-id-39\" type=\"checkbox\" ><label for=\"sk-estimator-id-39\" class=\"sk-toggleable__label fitted sk-toggleable__label-arrow\"><div><div>high_card</div></div></label><div class=\"sk-toggleable__content fitted\"><pre>[&#x27;Oficina_Atencion&#x27;, &#x27;Agrupacion_Oficina_Atencion&#x27;, &#x27;Tramite&#x27;, &#x27;Tramite_Oficina&#x27;]</pre></div> </div></div><div class=\"sk-serial\"><div class=\"sk-item\"><div class=\"sk-serial\"><div class=\"sk-item\"><div class=\"sk-estimator fitted sk-toggleable\"><input class=\"sk-toggleable__control sk-hidden--visually\" id=\"sk-estimator-id-40\" type=\"checkbox\" ><label for=\"sk-estimator-id-40\" class=\"sk-toggleable__label fitted sk-toggleable__label-arrow\"><div><div>TargetEncoder</div></div></label><div class=\"sk-toggleable__content fitted\"><pre>TargetEncoder()</pre></div> </div></div></div></div></div></div></div></div></div><div class=\"sk-item\"><div class=\"sk-estimator fitted sk-toggleable\"><input class=\"sk-toggleable__control sk-hidden--visually\" id=\"sk-estimator-id-41\" type=\"checkbox\" ><label for=\"sk-estimator-id-41\" class=\"sk-toggleable__label fitted sk-toggleable__label-arrow\"><div><div>XGBClassifier</div></div><div><a class=\"sk-estimator-doc-link fitted\" rel=\"noreferrer\" target=\"_blank\" href=\"https://xgboost.readthedocs.io/en/release_3.0.0/python/python_api.html#xgboost.XGBClassifier\">?<span>Documentation for XGBClassifier</span></a></div></label><div class=\"sk-toggleable__content fitted\"><pre>XGBClassifier(base_score=None, booster=None, callbacks=None,\n",
       "              colsample_bylevel=None, colsample_bynode=None,\n",
       "              colsample_bytree=0.8, device=None, early_stopping_rounds=None,\n",
       "              enable_categorical=False, eval_metric=&#x27;logloss&#x27;,\n",
       "              feature_types=None, feature_weights=None, gamma=None,\n",
       "              grow_policy=None, importance_type=None,\n",
       "              interaction_constraints=None, learning_rate=0.05, max_bin=None,\n",
       "              max_cat_threshold=None, max_cat_to_onehot=None,\n",
       "              max_delta_step=None, max_depth=6, max_leaves=None,\n",
       "              min_child_weight=None, missing=nan, monotone_constraints=None,\n",
       "              multi_strategy=None, n_estimators=300, n_jobs=None,\n",
       "              num_parallel_tree=None, ...)</pre></div> </div></div></div></div></div></div>"
      ],
      "text/plain": [
       "Pipeline(steps=[('preprocessor',\n",
       "                 ColumnTransformer(transformers=[('cat',\n",
       "                                                  OneHotEncoder(handle_unknown='ignore'),\n",
       "                                                  ['Genero', 'Categoria',\n",
       "                                                   'Recordatorio_Correo',\n",
       "                                                   'Recordatorio_SMS',\n",
       "                                                   'Canal_Asignacion',\n",
       "                                                   'Entidad_Atencion',\n",
       "                                                   'Tipo_Documento_Identidad',\n",
       "                                                   'dia_semana_asignacion',\n",
       "                                                   'dia_semana_cita']),\n",
       "                                                 ('num', StandardScaler(),\n",
       "                                                  ['Demora',\n",
       "                                                   'rango_hora_asignacion',\n",
       "                                                   'rango_hor...\n",
       "                               feature_types=None, feature_weights=None,\n",
       "                               gamma=None, grow_policy=None,\n",
       "                               importance_type=None,\n",
       "                               interaction_constraints=None, learning_rate=0.05,\n",
       "                               max_bin=None, max_cat_threshold=None,\n",
       "                               max_cat_to_onehot=None, max_delta_step=None,\n",
       "                               max_depth=6, max_leaves=None,\n",
       "                               min_child_weight=None, missing=nan,\n",
       "                               monotone_constraints=None, multi_strategy=None,\n",
       "                               n_estimators=300, n_jobs=None,\n",
       "                               num_parallel_tree=None, ...))])"
      ]
     },
     "execution_count": 316,
     "metadata": {},
     "output_type": "execute_result"
    }
   ],
   "source": [
    "from sklearn.compose import ColumnTransformer\n",
    "from sklearn.preprocessing import OneHotEncoder, StandardScaler\n",
    "from sklearn.pipeline import Pipeline\n",
    "from xgboost import XGBClassifier\n",
    "from sklearn.model_selection import train_test_split\n",
    "from sklearn.metrics import precision_recall_curve\n",
    "import numpy as np\n",
    "\n",
    "\n",
    "categorical_cols = [ 'Genero', \n",
    "  'Categoria',\n",
    "  'Recordatorio_Correo', 'Recordatorio_SMS',\n",
    "    'Canal_Asignacion', 'Entidad_Atencion', \n",
    "    'Tipo_Documento_Identidad','dia_semana_asignacion',\n",
    "    'dia_semana_cita']\n",
    "\n",
    "numerical_cols = ['Demora', 'rango_hora_asignacion', 'rango_hora_cita']\n",
    "\n",
    "date_cols = ['dia_asignacion', 'dia_cita']\n",
    "\n",
    "high_cardinality_cols = ['Oficina_Atencion', 'Agrupacion_Oficina_Atencion', 'Tramite', 'Tramite_Oficina']\n",
    "\n",
    "categorical = X[categorical_cols]\n",
    "numerical = X[numerical_cols]\n",
    "high_cardinality = X[high_cardinality_cols]\n",
    "\n",
    "high_card_encoder = Pipeline([\n",
    "    (\"encode\", TargetEncoder())\n",
    "])\n",
    "\n",
    "\n",
    "X_train, X_test, y_train, y_test = train_test_split(X, y, stratify=y, test_size=0.2, random_state=42)\n",
    "\n",
    "\n",
    "\n",
    "preprocessor = ColumnTransformer([\n",
    "    (\"cat\", OneHotEncoder(handle_unknown='ignore'), categorical_cols),\n",
    "    (\"num\", StandardScaler(), numerical_cols),\n",
    "    (\"high_card\", high_card_encoder, high_cardinality_cols),\n",
    "])\n",
    "\n",
    "classifier = XGBClassifier(n_estimators=300,\n",
    "    max_depth=6,\n",
    "    learning_rate=0.05,\n",
    "    subsample=0.8,\n",
    "    colsample_bytree=0.8,\n",
    "    reg_lambda=1,\n",
    "    reg_alpha=0.1,\n",
    "    use_label_encoder=False,\n",
    "    eval_metric='logloss',\n",
    "    random_state=42)\n",
    "\n",
    "\n",
    "\n",
    "pipeline = Pipeline([\n",
    "    (\"preprocessor\", preprocessor),\n",
    "    (\"classifier\", classifier)\n",
    "])\n",
    "\n",
    "# Fit model\n",
    "X_train, X_test, y_train, y_test = train_test_split(X, y, stratify=y, test_size=0.2, random_state=42)\n",
    "pipeline.fit(X_train, y_train)\n",
    "\n"
   ]
  },
  {
   "cell_type": "code",
   "execution_count": 317,
   "id": "be089520",
   "metadata": {},
   "outputs": [],
   "source": [
    "def recommend_offices(\n",
    "    tramite,\n",
    "    genero,\n",
    "    tipo_doc,\n",
    "    categoria,\n",
    "    canal,\n",
    "    entidad,\n",
    "    recordatorio_correo,\n",
    "    recordatorio_sms,\n",
    "    dia_semana_asignacion,\n",
    "    dia_semana_cita,\n",
    "    pipeline,\n",
    "    X_reference,  # pass original X used for training\n",
    "    agrupacion='LINEA MADRID',\n",
    "    demora=3,\n",
    "    hora_asignacion=10,\n",
    "    hora_cita=11,\n",
    "    office_list=None,\n",
    "    top_k=3\n",
    "):\n",
    "    \"\"\"\n",
    "    Recommend Top-K offices based on predicted success probability.\n",
    "    If office_list is None, use all known offices from X_reference.\n",
    "    \"\"\"\n",
    "\n",
    "    if office_list is None:\n",
    "        office_list = X_reference['Oficina_Atencion'].unique().tolist()\n",
    "\n",
    "    df_candidates = pd.DataFrame({\n",
    "        'Genero': [genero] * len(office_list),\n",
    "        'Agrupacion_Oficina_Atencion': [agrupacion] * len(office_list),\n",
    "        'Oficina_Atencion': office_list,\n",
    "        'Categoria': [categoria] * len(office_list),\n",
    "        'Recordatorio_Correo': [recordatorio_correo] * len(office_list),\n",
    "        'Recordatorio_SMS': [recordatorio_sms] * len(office_list),\n",
    "        'Canal_Asignacion': [canal] * len(office_list),\n",
    "        'Entidad_Atencion': [entidad] * len(office_list),\n",
    "        'Tramite': [tramite] * len(office_list),\n",
    "        'Tipo_Documento_Identidad': [tipo_doc] * len(office_list),\n",
    "        'dia_semana_asignacion': [dia_semana_asignacion] * len(office_list),\n",
    "        'dia_semana_cita': [dia_semana_cita] * len(office_list),\n",
    "        'Demora': [demora] * len(office_list),\n",
    "        'rango_hora_asignacion': [hora_asignacion] * len(office_list),\n",
    "        'rango_hora_cita': [hora_cita] * len(office_list),\n",
    "        'dia_asignacion': [None] * len(office_list),\n",
    "        'dia_cita': [None] * len(office_list)\n",
    "    })\n",
    "    \n",
    "    df_candidates[\"Tramite_Oficina\"] = (\n",
    "        df_candidates[\"Tramite\"].astype(str) + \"_\" + df_candidates[\"Oficina_Atencion\"].astype(str)\n",
    "    )\n",
    "\n",
    "    # Run through the trained pipeline\n",
    "    probs = pipeline.predict_proba(df_candidates)[:, 1]  # Prob. of no-show\n",
    "\n",
    "    df_candidates['prob_no_atendida'] = probs\n",
    "\n",
    "    return df_candidates[['Oficina_Atencion', 'prob_no_atendida']].sort_values(by='prob_no_atendida', ascending=False).head(top_k)\n"
   ]
  },
  {
   "cell_type": "code",
   "execution_count": 292,
   "id": "0b56d31a",
   "metadata": {},
   "outputs": [
    {
     "data": {
      "text/plain": [
       "Tramite\n",
       "Altas, bajas y cambio de domicilio en Padrón                                   239846\n",
       "Atención Servicios Sociales                                                    145363\n",
       "Registro                                                                        25607\n",
       "Renovación o confirmación en Padrón de personas extranjeras                     20943\n",
       "Certificado electrónico FNMT Persona física                                     20503\n",
       "Cl@ve                                                                           18774\n",
       "Plusvalía                                                                       15735\n",
       "Empleo por cuenta ajena. Información y orientación laboral. Bolsa de empleo     13177\n",
       "Información urbanística general de las oficinas de atención a la ciudadanía     12649\n",
       "Multas de tráfico, consulta de expedientes                                       9955\n",
       "Name: count, dtype: int64"
      ]
     },
     "execution_count": 292,
     "metadata": {},
     "output_type": "execute_result"
    }
   ],
   "source": [
    "df['Tramite'].value_counts().head(10)"
   ]
  },
  {
   "cell_type": "code",
   "execution_count": null,
   "id": "31fa3e40",
   "metadata": {},
   "outputs": [
    {
     "name": "stdout",
     "output_type": "stream",
     "text": [
      "--- Altas, bajas y cambio de domicilio en Padrón ---\n",
      "                            Oficina_Atencion  prob_no_atendida\n",
      "67   URB. JMD Puente Vallecas Serv. Técnicos          0.540609\n",
      "60                              OAC El Pardo          0.315234\n",
      "83   Centro Especializado Sector Alimentario          0.270607\n",
      "80                    URB. JMD Ciudad Lineal          0.269276\n",
      "32              URB. JMD San Blas-Canillejas          0.267659\n",
      "100                            CSS Entrevías          0.247208\n",
      "43                     CSS Villa de Vallecas          0.239977\n",
      "71                     AP Puente de Vallecas          0.239218\n",
      "90                                 AP Tetuán          0.238046\n",
      "57                  CSS Ramón Pérez de Ayala          0.235939\n",
      "--- Atención Servicios Sociales ---\n",
      "                            Oficina_Atencion  prob_no_atendida\n",
      "67   URB. JMD Puente Vallecas Serv. Técnicos          0.609515\n",
      "100                            CSS Entrevías          0.481134\n",
      "57                  CSS Ramón Pérez de Ayala          0.474828\n",
      "43                     CSS Villa de Vallecas          0.471895\n",
      "36                               CSS Aravaca          0.455931\n",
      "72                        CSS Vicente Ferrer          0.436302\n",
      "76                            CSS Luis Vives          0.420853\n",
      "84                         CSS Puerta Toledo          0.415672\n",
      "26                             CSS San Diego          0.415473\n",
      "74                     CSS Loyola de Palacio          0.407111\n",
      "--- Multas de tráfico, consulta de expedientes ---\n",
      "                            Oficina_Atencion  prob_no_atendida\n",
      "67   URB. JMD Puente Vallecas Serv. Técnicos          0.609515\n",
      "12                     Multas de circulación          0.345027\n",
      "83   Centro Especializado Sector Alimentario          0.329743\n",
      "80                    URB. JMD Ciudad Lineal          0.327147\n",
      "32              URB. JMD San Blas-Canillejas          0.326440\n",
      "100                            CSS Entrevías          0.303358\n",
      "25         OAC Numancia [Puente de Vallecas]          0.298637\n",
      "43                     CSS Villa de Vallecas          0.295128\n",
      "71                     AP Puente de Vallecas          0.294263\n",
      "90                                 AP Tetuán          0.292924\n",
      "--- Registro ---\n",
      "                            Oficina_Atencion  prob_no_atendida\n",
      "67   URB. JMD Puente Vallecas Serv. Técnicos          0.532654\n",
      "60                              OAC El Pardo          0.320234\n",
      "83   Centro Especializado Sector Alimentario          0.264339\n",
      "80                    URB. JMD Ciudad Lineal          0.263028\n",
      "45                             OAC Hortaleza          0.262540\n",
      "32              URB. JMD San Blas-Canillejas          0.261435\n",
      "100                            CSS Entrevías          0.241303\n",
      "43                     CSS Villa de Vallecas          0.233795\n",
      "71                     AP Puente de Vallecas          0.233445\n",
      "90                                 AP Tetuán          0.232292\n"
     ]
    }
   ],
   "source": [
    "\n",
    "for tramite in ['Altas, bajas y cambio de domicilio en Padrón', \n",
    "                'Atención Servicios Sociales',\n",
    "                'Multas de tráfico, consulta de expedientes', 'Registro']:\n",
    "    print(f\"--- {tramite} ---\")\n",
    "\n",
    "    print(recommend_offices(\n",
    "        tramite=tramite,\n",
    "        genero=1,\n",
    "        tipo_doc=\"DNI\",\n",
    "        categoria=\"Identificación Electrónica\",\n",
    "        canal=\"Internet Web\",\n",
    "        entidad=\"LINEA MADRID\",\n",
    "        recordatorio_correo=1,\n",
    "        recordatorio_sms=1,\n",
    "        dia_semana_asignacion=\"Thursday\",\n",
    "        dia_semana_cita=\"Wednesday\",\n",
    "        pipeline=pipeline,\n",
    "        X_reference=X,  # pass your full dataset\n",
    "        top_k=10\n",
    "    ))\n"
   ]
  },
  {
   "cell_type": "code",
   "execution_count": 313,
   "id": "cacf96bf",
   "metadata": {},
   "outputs": [
    {
     "ename": "ModuleNotFoundError",
     "evalue": "No module named 'citas'",
     "output_type": "error",
     "traceback": [
      "\u001b[31m---------------------------------------------------------------------------\u001b[39m",
      "\u001b[31mModuleNotFoundError\u001b[39m                       Traceback (most recent call last)",
      "\u001b[36mCell\u001b[39m\u001b[36m \u001b[39m\u001b[32mIn[313]\u001b[39m\u001b[32m, line 1\u001b[39m\n\u001b[32m----> \u001b[39m\u001b[32m1\u001b[39m \u001b[38;5;28;01mfrom\u001b[39;00m\u001b[38;5;250m \u001b[39m\u001b[34;01mcitas\u001b[39;00m\u001b[34;01m.\u001b[39;00m\u001b[34;01mfeatures\u001b[39;00m\u001b[34;01m.\u001b[39;00m\u001b[34;01mfeast_repo\u001b[39;00m\u001b[34;01m.\u001b[39;00m\u001b[34;01mentities\u001b[39;00m\u001b[38;5;250m \u001b[39m\u001b[38;5;28;01mimport\u001b[39;00m Codigo_Cita\n\u001b[32m      2\u001b[39m \u001b[38;5;28;01mfrom\u001b[39;00m\u001b[38;5;250m \u001b[39m\u001b[34;01mfeast\u001b[39;00m\u001b[34;01m.\u001b[39;00m\u001b[34;01mentity\u001b[39;00m\u001b[38;5;250m \u001b[39m\u001b[38;5;28;01mimport\u001b[39;00m Entity\n\u001b[32m      4\u001b[39m \u001b[38;5;28mprint\u001b[39m(\u001b[38;5;28mtype\u001b[39m(Codigo_Cita))\n",
      "\u001b[31mModuleNotFoundError\u001b[39m: No module named 'citas'"
     ]
    }
   ],
   "source": [
    "from citas.features.feast_repo.entities import Codigo_Cita\n",
    "from feast.entity import Entity\n",
    "\n",
    "print(type(Codigo_Cita))\n",
    "isinstance(Codigo_Cita, Entity)"
   ]
  }
 ],
 "metadata": {
  "kernelspec": {
   "display_name": "citas-py3.11",
   "language": "python",
   "name": "python3"
  },
  "language_info": {
   "codemirror_mode": {
    "name": "ipython",
    "version": 3
   },
   "file_extension": ".py",
   "mimetype": "text/x-python",
   "name": "python",
   "nbconvert_exporter": "python",
   "pygments_lexer": "ipython3",
   "version": "3.11.3"
  }
 },
 "nbformat": 4,
 "nbformat_minor": 5
}
